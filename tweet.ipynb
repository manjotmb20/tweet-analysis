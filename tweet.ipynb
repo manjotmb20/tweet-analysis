{
  "nbformat": 4,
  "nbformat_minor": 0,
  "metadata": {
    "colab": {
      "name": "Untitled131.ipynb",
      "provenance": [],
      "collapsed_sections": [],
      "include_colab_link": true
    },
    "kernelspec": {
      "name": "python3",
      "display_name": "Python 3"
    },
    "accelerator": "GPU"
  },
  "cells": [
    {
      "cell_type": "markdown",
      "metadata": {
        "id": "view-in-github",
        "colab_type": "text"
      },
      "source": [
        "<a href=\"https://colab.research.google.com/github/manjotmb20/tweet-analysis/blob/master/tweet.ipynb\" target=\"_parent\"><img src=\"https://colab.research.google.com/assets/colab-badge.svg\" alt=\"Open In Colab\"/></a>"
      ]
    },
    {
      "cell_type": "code",
      "metadata": {
        "id": "9ojhU7Uk4ilX",
        "colab_type": "code",
        "colab": {}
      },
      "source": [
        "import re\n",
        "import pandas as pd \n",
        "import numpy as np \n",
        "import matplotlib.pyplot as plt \n",
        "import seaborn as sns\n",
        "import string\n",
        "import nltk\n",
        "import pandas as pd\n",
        "from bs4 import BeautifulSoup\n",
        "from sklearn.preprocessing import StandardScaler\n",
        "from sklearn.preprocessing import MinMaxScaler\n",
        "from sklearn.preprocessing import LabelEncoder"
      ],
      "execution_count": 0,
      "outputs": []
    },
    {
      "cell_type": "code",
      "metadata": {
        "id": "FxsVOwZI4uv7",
        "colab_type": "code",
        "colab": {}
      },
      "source": [
        "df=pd.read_csv(\"tweets.csv\")"
      ],
      "execution_count": 0,
      "outputs": []
    },
    {
      "cell_type": "code",
      "metadata": {
        "id": "ponV77KicyUO",
        "colab_type": "code",
        "colab": {
          "base_uri": "https://localhost:8080/",
          "height": 323
        },
        "outputId": "2b5d8c03-d44d-4108-d3a8-1d6b7ebc8d7b"
      },
      "source": [
        "df.dtypes"
      ],
      "execution_count": 139,
      "outputs": [
        {
          "output_type": "execute_result",
          "data": {
            "text/plain": [
              "Unnamed: 0                      object\n",
              "tweet_text                      object\n",
              "creation_time                   object\n",
              "num_hashtags                   float64\n",
              "num_symbols                    float64\n",
              "num_user_mentions              float64\n",
              "num_urls                       float64\n",
              "retweet_count                  float64\n",
              "favorite_count                  object\n",
              "source                          object\n",
              "lang                            object\n",
              "source_user_followers_count    float64\n",
              "source_user_friends_count      float64\n",
              "source_user_statuses_count      object\n",
              "source_user_geo_enabled         object\n",
              "source_user_verified            object\n",
              "label                           object\n",
              "dtype: object"
            ]
          },
          "metadata": {
            "tags": []
          },
          "execution_count": 139
        }
      ]
    },
    {
      "cell_type": "code",
      "metadata": {
        "id": "WDPAxa0z42DX",
        "colab_type": "code",
        "colab": {}
      },
      "source": [
        "def remove_pattern(input_text,pattern):\n",
        "  r=re.findall(pattern,input_text)\n",
        "  for i in r:\n",
        "    input_text=re.sub(i, '',input_text)\n",
        "  return input_text  \n"
      ],
      "execution_count": 0,
      "outputs": []
    },
    {
      "cell_type": "code",
      "metadata": {
        "id": "Om73-JTx6ygk",
        "colab_type": "code",
        "colab": {}
      },
      "source": [
        "clean_tweet=[]\n",
        "for row in df[\"tweet_text\"]:\n",
        "  clean_tweet.append(np.vectorize(remove_pattern)(row,\"@[\\w]*\"))"
      ],
      "execution_count": 0,
      "outputs": []
    },
    {
      "cell_type": "code",
      "metadata": {
        "id": "-LU8SDl-7S1s",
        "colab_type": "code",
        "colab": {}
      },
      "source": [
        "df[\"clean_tweet\"]=clean_tweet"
      ],
      "execution_count": 0,
      "outputs": []
    },
    {
      "cell_type": "code",
      "metadata": {
        "id": "-f0FCNSZ7VHT",
        "colab_type": "code",
        "colab": {}
      },
      "source": [
        ""
      ],
      "execution_count": 0,
      "outputs": []
    },
    {
      "cell_type": "code",
      "metadata": {
        "id": "CT5x2trL7v47",
        "colab_type": "code",
        "outputId": "bc8e31eb-4a0d-45fa-b0d5-05b08a8ca4f9",
        "colab": {
          "base_uri": "https://localhost:8080/",
          "height": 34
        }
      },
      "source": [
        "!pip install tweet-preprocessor"
      ],
      "execution_count": 143,
      "outputs": [
        {
          "output_type": "stream",
          "text": [
            "Requirement already satisfied: tweet-preprocessor in /usr/local/lib/python3.6/dist-packages (0.5.0)\n"
          ],
          "name": "stdout"
        }
      ]
    },
    {
      "cell_type": "code",
      "metadata": {
        "id": "3LHzfyKS-YKI",
        "colab_type": "code",
        "colab": {}
      },
      "source": [
        "import preprocessor as p"
      ],
      "execution_count": 0,
      "outputs": []
    },
    {
      "cell_type": "code",
      "metadata": {
        "id": "4qFiVzWV8zd9",
        "colab_type": "code",
        "colab": {}
      },
      "source": [
        "c=type(None)\n",
        "index=0\n",
        "def urlpresent(input_text):\n",
        "  t_parse=p.parse(input_text)\n",
        "  if type(t_parse.urls) is not c:\n",
        "    index=1\n",
        "  else:\n",
        "    index=0\n",
        "  return index\n",
        "  "
      ],
      "execution_count": 0,
      "outputs": []
    },
    {
      "cell_type": "code",
      "metadata": {
        "id": "6HBQQhtEVKnr",
        "colab_type": "code",
        "colab": {}
      },
      "source": [
        "test=df[\"clean_tweet\"][0]"
      ],
      "execution_count": 0,
      "outputs": []
    },
    {
      "cell_type": "code",
      "metadata": {
        "id": "ShjXUKj6VY_s",
        "colab_type": "code",
        "colab": {
          "base_uri": "https://localhost:8080/",
          "height": 34
        },
        "outputId": "e6068fc1-8ead-403f-b277-8702f7a63148"
      },
      "source": [
        "type(test)"
      ],
      "execution_count": 147,
      "outputs": [
        {
          "output_type": "execute_result",
          "data": {
            "text/plain": [
              "numpy.ndarray"
            ]
          },
          "metadata": {
            "tags": []
          },
          "execution_count": 147
        }
      ]
    },
    {
      "cell_type": "code",
      "metadata": {
        "id": "eRPhAN2E-EVv",
        "colab_type": "code",
        "colab": {}
      },
      "source": [
        "tlist=[]\n",
        "for row in df[\"tweet_text\"]:\n",
        "  tlist.append(urlpresent(row))\n",
        "df[\"url_present\"] =tlist "
      ],
      "execution_count": 0,
      "outputs": []
    },
    {
      "cell_type": "code",
      "metadata": {
        "id": "TgEijVEXYGYt",
        "colab_type": "code",
        "colab": {}
      },
      "source": [
        "df.drop('creation_time',axis=1,inplace=True)"
      ],
      "execution_count": 0,
      "outputs": []
    },
    {
      "cell_type": "code",
      "metadata": {
        "id": "zGefQYuoXVUR",
        "colab_type": "code",
        "colab": {
          "base_uri": "https://localhost:8080/",
          "height": 513
        },
        "outputId": "d309033a-02bc-4b10-c2d4-3a1975b40ed5"
      },
      "source": [
        "df.head()"
      ],
      "execution_count": 150,
      "outputs": [
        {
          "output_type": "execute_result",
          "data": {
            "text/html": [
              "<div>\n",
              "<style scoped>\n",
              "    .dataframe tbody tr th:only-of-type {\n",
              "        vertical-align: middle;\n",
              "    }\n",
              "\n",
              "    .dataframe tbody tr th {\n",
              "        vertical-align: top;\n",
              "    }\n",
              "\n",
              "    .dataframe thead th {\n",
              "        text-align: right;\n",
              "    }\n",
              "</style>\n",
              "<table border=\"1\" class=\"dataframe\">\n",
              "  <thead>\n",
              "    <tr style=\"text-align: right;\">\n",
              "      <th></th>\n",
              "      <th>Unnamed: 0</th>\n",
              "      <th>tweet_text</th>\n",
              "      <th>num_hashtags</th>\n",
              "      <th>num_symbols</th>\n",
              "      <th>num_user_mentions</th>\n",
              "      <th>num_urls</th>\n",
              "      <th>retweet_count</th>\n",
              "      <th>favorite_count</th>\n",
              "      <th>source</th>\n",
              "      <th>lang</th>\n",
              "      <th>source_user_followers_count</th>\n",
              "      <th>source_user_friends_count</th>\n",
              "      <th>source_user_statuses_count</th>\n",
              "      <th>source_user_geo_enabled</th>\n",
              "      <th>source_user_verified</th>\n",
              "      <th>label</th>\n",
              "      <th>clean_tweet</th>\n",
              "      <th>url_present</th>\n",
              "    </tr>\n",
              "  </thead>\n",
              "  <tbody>\n",
              "    <tr>\n",
              "      <th>0</th>\n",
              "      <td>0</td>\n",
              "      <td>URL schemes that Sileo supports, so you can be...</td>\n",
              "      <td>0.0</td>\n",
              "      <td>0.0</td>\n",
              "      <td>0.0</td>\n",
              "      <td>0.0</td>\n",
              "      <td>12.0</td>\n",
              "      <td>31</td>\n",
              "      <td>&lt;a href=\"http://twitter.com/download/android\" ...</td>\n",
              "      <td>en</td>\n",
              "      <td>2032.0</td>\n",
              "      <td>309.0</td>\n",
              "      <td>9866</td>\n",
              "      <td>True</td>\n",
              "      <td>False</td>\n",
              "      <td>Collusive</td>\n",
              "      <td>URL schemes that Sileo supports, so you can be...</td>\n",
              "      <td>0</td>\n",
              "    </tr>\n",
              "    <tr>\n",
              "      <th>1</th>\n",
              "      <td>1</td>\n",
              "      <td>RT @TheLifeDiaries: Never compare your life to...</td>\n",
              "      <td>0.0</td>\n",
              "      <td>0.0</td>\n",
              "      <td>1.0</td>\n",
              "      <td>0.0</td>\n",
              "      <td>1036.0</td>\n",
              "      <td>0</td>\n",
              "      <td>&lt;a href=\"http://twitter.com/download/iphone\" r...</td>\n",
              "      <td>en</td>\n",
              "      <td>202.0</td>\n",
              "      <td>368.0</td>\n",
              "      <td>628</td>\n",
              "      <td>False</td>\n",
              "      <td>False</td>\n",
              "      <td>Genuine</td>\n",
              "      <td>RT : Never compare your life to others. You ha...</td>\n",
              "      <td>0</td>\n",
              "    </tr>\n",
              "    <tr>\n",
              "      <th>2</th>\n",
              "      <td>2</td>\n",
              "      <td>Sneak Attack on Skybase👀🤖 #Fortnite #GameofGam...</td>\n",
              "      <td>3.0</td>\n",
              "      <td>0.0</td>\n",
              "      <td>0.0</td>\n",
              "      <td>0.0</td>\n",
              "      <td>9.0</td>\n",
              "      <td>9</td>\n",
              "      <td>&lt;a href=\"http://twitter.com/download/android\" ...</td>\n",
              "      <td>en</td>\n",
              "      <td>324.0</td>\n",
              "      <td>796.0</td>\n",
              "      <td>103</td>\n",
              "      <td>False</td>\n",
              "      <td>False</td>\n",
              "      <td>Collusive</td>\n",
              "      <td>Sneak Attack on Skybase👀🤖 #Fortnite #GameofGam...</td>\n",
              "      <td>1</td>\n",
              "    </tr>\n",
              "    <tr>\n",
              "      <th>3</th>\n",
              "      <td>3</td>\n",
              "      <td>#Meeseva Apply, Online, Centers, Services, App...</td>\n",
              "      <td>1.0</td>\n",
              "      <td>0.0</td>\n",
              "      <td>0.0</td>\n",
              "      <td>1.0</td>\n",
              "      <td>159.0</td>\n",
              "      <td>34</td>\n",
              "      <td>&lt;a href=\"http://twitter.com\" rel=\"nofollow\"&gt;Tw...</td>\n",
              "      <td>en</td>\n",
              "      <td>57.0</td>\n",
              "      <td>1640.0</td>\n",
              "      <td>249</td>\n",
              "      <td>False</td>\n",
              "      <td>False</td>\n",
              "      <td>Collusive</td>\n",
              "      <td>#Meeseva Apply, Online, Centers, Services, App...</td>\n",
              "      <td>1</td>\n",
              "    </tr>\n",
              "    <tr>\n",
              "      <th>4</th>\n",
              "      <td>4</td>\n",
              "      <td>RT @Linformatrice: Ceux qui n'étaient présents...</td>\n",
              "      <td>0.0</td>\n",
              "      <td>0.0</td>\n",
              "      <td>1.0</td>\n",
              "      <td>0.0</td>\n",
              "      <td>190.0</td>\n",
              "      <td>0</td>\n",
              "      <td>&lt;a href=\"http://twitter.com/download/android\" ...</td>\n",
              "      <td>fr</td>\n",
              "      <td>620.0</td>\n",
              "      <td>2591.0</td>\n",
              "      <td>12682</td>\n",
              "      <td>False</td>\n",
              "      <td>False</td>\n",
              "      <td>Genuine</td>\n",
              "      <td>RT : Ceux qui n'étaient présents à l'hommage n...</td>\n",
              "      <td>0</td>\n",
              "    </tr>\n",
              "  </tbody>\n",
              "</table>\n",
              "</div>"
            ],
            "text/plain": [
              "  Unnamed: 0  ... url_present\n",
              "0          0  ...           0\n",
              "1          1  ...           0\n",
              "2          2  ...           1\n",
              "3          3  ...           1\n",
              "4          4  ...           0\n",
              "\n",
              "[5 rows x 18 columns]"
            ]
          },
          "metadata": {
            "tags": []
          },
          "execution_count": 150
        }
      ]
    },
    {
      "cell_type": "code",
      "metadata": {
        "id": "qUxphDZ2drYD",
        "colab_type": "code",
        "colab": {
          "base_uri": "https://localhost:8080/",
          "height": 34
        },
        "outputId": "50327a3a-6f13-439d-a8d3-1580bbdac012"
      },
      "source": [
        "y=\"Sneak Attack on Skybas #Fortnite #GameofGame\"\n",
        "\n",
        "t=p.parse(y)\n",
        "type(t.emojis)"
      ],
      "execution_count": 151,
      "outputs": [
        {
          "output_type": "execute_result",
          "data": {
            "text/plain": [
              "NoneType"
            ]
          },
          "metadata": {
            "tags": []
          },
          "execution_count": 151
        }
      ]
    },
    {
      "cell_type": "code",
      "metadata": {
        "id": "8yK8Rmnb-WfN",
        "colab_type": "code",
        "colab": {}
      },
      "source": [
        "c=type(None)\n",
        "index=0\n",
        "def emojipresent(input_text):\n",
        "  t_parse=p.parse(input_text)\n",
        "  if type(t_parse.emojis) is not c:\n",
        "    index=1\n",
        "  else:\n",
        "    index=0\n",
        "  return index"
      ],
      "execution_count": 0,
      "outputs": []
    },
    {
      "cell_type": "code",
      "metadata": {
        "id": "KNjcj2_HfoJu",
        "colab_type": "code",
        "colab": {}
      },
      "source": [
        "tlist=[]\n",
        "for row in df[\"tweet_text\"]:\n",
        "  tlist.append(emojipresent(row))\n",
        "df[\"emoji_present\"] =tlist "
      ],
      "execution_count": 0,
      "outputs": []
    },
    {
      "cell_type": "code",
      "metadata": {
        "id": "pfYqPtNvfuGO",
        "colab_type": "code",
        "colab": {
          "base_uri": "https://localhost:8080/",
          "height": 513
        },
        "outputId": "12e288ba-329a-465d-c058-ec541346b275"
      },
      "source": [
        "df.head()"
      ],
      "execution_count": 154,
      "outputs": [
        {
          "output_type": "execute_result",
          "data": {
            "text/html": [
              "<div>\n",
              "<style scoped>\n",
              "    .dataframe tbody tr th:only-of-type {\n",
              "        vertical-align: middle;\n",
              "    }\n",
              "\n",
              "    .dataframe tbody tr th {\n",
              "        vertical-align: top;\n",
              "    }\n",
              "\n",
              "    .dataframe thead th {\n",
              "        text-align: right;\n",
              "    }\n",
              "</style>\n",
              "<table border=\"1\" class=\"dataframe\">\n",
              "  <thead>\n",
              "    <tr style=\"text-align: right;\">\n",
              "      <th></th>\n",
              "      <th>Unnamed: 0</th>\n",
              "      <th>tweet_text</th>\n",
              "      <th>num_hashtags</th>\n",
              "      <th>num_symbols</th>\n",
              "      <th>num_user_mentions</th>\n",
              "      <th>num_urls</th>\n",
              "      <th>retweet_count</th>\n",
              "      <th>favorite_count</th>\n",
              "      <th>source</th>\n",
              "      <th>lang</th>\n",
              "      <th>source_user_followers_count</th>\n",
              "      <th>source_user_friends_count</th>\n",
              "      <th>source_user_statuses_count</th>\n",
              "      <th>source_user_geo_enabled</th>\n",
              "      <th>source_user_verified</th>\n",
              "      <th>label</th>\n",
              "      <th>clean_tweet</th>\n",
              "      <th>url_present</th>\n",
              "      <th>emoji_present</th>\n",
              "    </tr>\n",
              "  </thead>\n",
              "  <tbody>\n",
              "    <tr>\n",
              "      <th>0</th>\n",
              "      <td>0</td>\n",
              "      <td>URL schemes that Sileo supports, so you can be...</td>\n",
              "      <td>0.0</td>\n",
              "      <td>0.0</td>\n",
              "      <td>0.0</td>\n",
              "      <td>0.0</td>\n",
              "      <td>12.0</td>\n",
              "      <td>31</td>\n",
              "      <td>&lt;a href=\"http://twitter.com/download/android\" ...</td>\n",
              "      <td>en</td>\n",
              "      <td>2032.0</td>\n",
              "      <td>309.0</td>\n",
              "      <td>9866</td>\n",
              "      <td>True</td>\n",
              "      <td>False</td>\n",
              "      <td>Collusive</td>\n",
              "      <td>URL schemes that Sileo supports, so you can be...</td>\n",
              "      <td>0</td>\n",
              "      <td>0</td>\n",
              "    </tr>\n",
              "    <tr>\n",
              "      <th>1</th>\n",
              "      <td>1</td>\n",
              "      <td>RT @TheLifeDiaries: Never compare your life to...</td>\n",
              "      <td>0.0</td>\n",
              "      <td>0.0</td>\n",
              "      <td>1.0</td>\n",
              "      <td>0.0</td>\n",
              "      <td>1036.0</td>\n",
              "      <td>0</td>\n",
              "      <td>&lt;a href=\"http://twitter.com/download/iphone\" r...</td>\n",
              "      <td>en</td>\n",
              "      <td>202.0</td>\n",
              "      <td>368.0</td>\n",
              "      <td>628</td>\n",
              "      <td>False</td>\n",
              "      <td>False</td>\n",
              "      <td>Genuine</td>\n",
              "      <td>RT : Never compare your life to others. You ha...</td>\n",
              "      <td>0</td>\n",
              "      <td>0</td>\n",
              "    </tr>\n",
              "    <tr>\n",
              "      <th>2</th>\n",
              "      <td>2</td>\n",
              "      <td>Sneak Attack on Skybase👀🤖 #Fortnite #GameofGam...</td>\n",
              "      <td>3.0</td>\n",
              "      <td>0.0</td>\n",
              "      <td>0.0</td>\n",
              "      <td>0.0</td>\n",
              "      <td>9.0</td>\n",
              "      <td>9</td>\n",
              "      <td>&lt;a href=\"http://twitter.com/download/android\" ...</td>\n",
              "      <td>en</td>\n",
              "      <td>324.0</td>\n",
              "      <td>796.0</td>\n",
              "      <td>103</td>\n",
              "      <td>False</td>\n",
              "      <td>False</td>\n",
              "      <td>Collusive</td>\n",
              "      <td>Sneak Attack on Skybase👀🤖 #Fortnite #GameofGam...</td>\n",
              "      <td>1</td>\n",
              "      <td>1</td>\n",
              "    </tr>\n",
              "    <tr>\n",
              "      <th>3</th>\n",
              "      <td>3</td>\n",
              "      <td>#Meeseva Apply, Online, Centers, Services, App...</td>\n",
              "      <td>1.0</td>\n",
              "      <td>0.0</td>\n",
              "      <td>0.0</td>\n",
              "      <td>1.0</td>\n",
              "      <td>159.0</td>\n",
              "      <td>34</td>\n",
              "      <td>&lt;a href=\"http://twitter.com\" rel=\"nofollow\"&gt;Tw...</td>\n",
              "      <td>en</td>\n",
              "      <td>57.0</td>\n",
              "      <td>1640.0</td>\n",
              "      <td>249</td>\n",
              "      <td>False</td>\n",
              "      <td>False</td>\n",
              "      <td>Collusive</td>\n",
              "      <td>#Meeseva Apply, Online, Centers, Services, App...</td>\n",
              "      <td>1</td>\n",
              "      <td>0</td>\n",
              "    </tr>\n",
              "    <tr>\n",
              "      <th>4</th>\n",
              "      <td>4</td>\n",
              "      <td>RT @Linformatrice: Ceux qui n'étaient présents...</td>\n",
              "      <td>0.0</td>\n",
              "      <td>0.0</td>\n",
              "      <td>1.0</td>\n",
              "      <td>0.0</td>\n",
              "      <td>190.0</td>\n",
              "      <td>0</td>\n",
              "      <td>&lt;a href=\"http://twitter.com/download/android\" ...</td>\n",
              "      <td>fr</td>\n",
              "      <td>620.0</td>\n",
              "      <td>2591.0</td>\n",
              "      <td>12682</td>\n",
              "      <td>False</td>\n",
              "      <td>False</td>\n",
              "      <td>Genuine</td>\n",
              "      <td>RT : Ceux qui n'étaient présents à l'hommage n...</td>\n",
              "      <td>0</td>\n",
              "      <td>0</td>\n",
              "    </tr>\n",
              "  </tbody>\n",
              "</table>\n",
              "</div>"
            ],
            "text/plain": [
              "  Unnamed: 0  ... emoji_present\n",
              "0          0  ...             0\n",
              "1          1  ...             0\n",
              "2          2  ...             1\n",
              "3          3  ...             0\n",
              "4          4  ...             0\n",
              "\n",
              "[5 rows x 19 columns]"
            ]
          },
          "metadata": {
            "tags": []
          },
          "execution_count": 154
        }
      ]
    },
    {
      "cell_type": "code",
      "metadata": {
        "id": "Ipa9TiWWfvyB",
        "colab_type": "code",
        "colab": {}
      },
      "source": [
        "def remove_pattern(input_txt, pattern):\n",
        "    r = re.findall(pattern, input_txt)\n",
        "    for i in r:\n",
        "        input_txt = re.sub(i, '', input_txt)\n",
        "        \n",
        "    return input_txt"
      ],
      "execution_count": 0,
      "outputs": []
    },
    {
      "cell_type": "code",
      "metadata": {
        "id": "xlP_-B2bluMN",
        "colab_type": "code",
        "colab": {}
      },
      "source": [
        "plist=[]\n",
        "for row in df[\"tweet_text\"]:\n",
        "  plist.append(remove_pattern(row,\"@[\\w]*\"))\n",
        "df[\"clean_text\"]=plist"
      ],
      "execution_count": 0,
      "outputs": []
    },
    {
      "cell_type": "code",
      "metadata": {
        "id": "ye2LmrpjluJC",
        "colab_type": "code",
        "colab": {
          "base_uri": "https://localhost:8080/",
          "height": 513
        },
        "outputId": "5460b6c7-9dbf-4bd6-8273-317f35c70981"
      },
      "source": [
        "df.head()"
      ],
      "execution_count": 157,
      "outputs": [
        {
          "output_type": "execute_result",
          "data": {
            "text/html": [
              "<div>\n",
              "<style scoped>\n",
              "    .dataframe tbody tr th:only-of-type {\n",
              "        vertical-align: middle;\n",
              "    }\n",
              "\n",
              "    .dataframe tbody tr th {\n",
              "        vertical-align: top;\n",
              "    }\n",
              "\n",
              "    .dataframe thead th {\n",
              "        text-align: right;\n",
              "    }\n",
              "</style>\n",
              "<table border=\"1\" class=\"dataframe\">\n",
              "  <thead>\n",
              "    <tr style=\"text-align: right;\">\n",
              "      <th></th>\n",
              "      <th>Unnamed: 0</th>\n",
              "      <th>tweet_text</th>\n",
              "      <th>num_hashtags</th>\n",
              "      <th>num_symbols</th>\n",
              "      <th>num_user_mentions</th>\n",
              "      <th>num_urls</th>\n",
              "      <th>retweet_count</th>\n",
              "      <th>favorite_count</th>\n",
              "      <th>source</th>\n",
              "      <th>lang</th>\n",
              "      <th>source_user_followers_count</th>\n",
              "      <th>source_user_friends_count</th>\n",
              "      <th>source_user_statuses_count</th>\n",
              "      <th>source_user_geo_enabled</th>\n",
              "      <th>source_user_verified</th>\n",
              "      <th>label</th>\n",
              "      <th>clean_tweet</th>\n",
              "      <th>url_present</th>\n",
              "      <th>emoji_present</th>\n",
              "      <th>clean_text</th>\n",
              "    </tr>\n",
              "  </thead>\n",
              "  <tbody>\n",
              "    <tr>\n",
              "      <th>0</th>\n",
              "      <td>0</td>\n",
              "      <td>URL schemes that Sileo supports, so you can be...</td>\n",
              "      <td>0.0</td>\n",
              "      <td>0.0</td>\n",
              "      <td>0.0</td>\n",
              "      <td>0.0</td>\n",
              "      <td>12.0</td>\n",
              "      <td>31</td>\n",
              "      <td>&lt;a href=\"http://twitter.com/download/android\" ...</td>\n",
              "      <td>en</td>\n",
              "      <td>2032.0</td>\n",
              "      <td>309.0</td>\n",
              "      <td>9866</td>\n",
              "      <td>True</td>\n",
              "      <td>False</td>\n",
              "      <td>Collusive</td>\n",
              "      <td>URL schemes that Sileo supports, so you can be...</td>\n",
              "      <td>0</td>\n",
              "      <td>0</td>\n",
              "      <td>URL schemes that Sileo supports, so you can be...</td>\n",
              "    </tr>\n",
              "    <tr>\n",
              "      <th>1</th>\n",
              "      <td>1</td>\n",
              "      <td>RT @TheLifeDiaries: Never compare your life to...</td>\n",
              "      <td>0.0</td>\n",
              "      <td>0.0</td>\n",
              "      <td>1.0</td>\n",
              "      <td>0.0</td>\n",
              "      <td>1036.0</td>\n",
              "      <td>0</td>\n",
              "      <td>&lt;a href=\"http://twitter.com/download/iphone\" r...</td>\n",
              "      <td>en</td>\n",
              "      <td>202.0</td>\n",
              "      <td>368.0</td>\n",
              "      <td>628</td>\n",
              "      <td>False</td>\n",
              "      <td>False</td>\n",
              "      <td>Genuine</td>\n",
              "      <td>RT : Never compare your life to others. You ha...</td>\n",
              "      <td>0</td>\n",
              "      <td>0</td>\n",
              "      <td>RT : Never compare your life to others. You ha...</td>\n",
              "    </tr>\n",
              "    <tr>\n",
              "      <th>2</th>\n",
              "      <td>2</td>\n",
              "      <td>Sneak Attack on Skybase👀🤖 #Fortnite #GameofGam...</td>\n",
              "      <td>3.0</td>\n",
              "      <td>0.0</td>\n",
              "      <td>0.0</td>\n",
              "      <td>0.0</td>\n",
              "      <td>9.0</td>\n",
              "      <td>9</td>\n",
              "      <td>&lt;a href=\"http://twitter.com/download/android\" ...</td>\n",
              "      <td>en</td>\n",
              "      <td>324.0</td>\n",
              "      <td>796.0</td>\n",
              "      <td>103</td>\n",
              "      <td>False</td>\n",
              "      <td>False</td>\n",
              "      <td>Collusive</td>\n",
              "      <td>Sneak Attack on Skybase👀🤖 #Fortnite #GameofGam...</td>\n",
              "      <td>1</td>\n",
              "      <td>1</td>\n",
              "      <td>Sneak Attack on Skybase👀🤖 #Fortnite #GameofGam...</td>\n",
              "    </tr>\n",
              "    <tr>\n",
              "      <th>3</th>\n",
              "      <td>3</td>\n",
              "      <td>#Meeseva Apply, Online, Centers, Services, App...</td>\n",
              "      <td>1.0</td>\n",
              "      <td>0.0</td>\n",
              "      <td>0.0</td>\n",
              "      <td>1.0</td>\n",
              "      <td>159.0</td>\n",
              "      <td>34</td>\n",
              "      <td>&lt;a href=\"http://twitter.com\" rel=\"nofollow\"&gt;Tw...</td>\n",
              "      <td>en</td>\n",
              "      <td>57.0</td>\n",
              "      <td>1640.0</td>\n",
              "      <td>249</td>\n",
              "      <td>False</td>\n",
              "      <td>False</td>\n",
              "      <td>Collusive</td>\n",
              "      <td>#Meeseva Apply, Online, Centers, Services, App...</td>\n",
              "      <td>1</td>\n",
              "      <td>0</td>\n",
              "      <td>#Meeseva Apply, Online, Centers, Services, App...</td>\n",
              "    </tr>\n",
              "    <tr>\n",
              "      <th>4</th>\n",
              "      <td>4</td>\n",
              "      <td>RT @Linformatrice: Ceux qui n'étaient présents...</td>\n",
              "      <td>0.0</td>\n",
              "      <td>0.0</td>\n",
              "      <td>1.0</td>\n",
              "      <td>0.0</td>\n",
              "      <td>190.0</td>\n",
              "      <td>0</td>\n",
              "      <td>&lt;a href=\"http://twitter.com/download/android\" ...</td>\n",
              "      <td>fr</td>\n",
              "      <td>620.0</td>\n",
              "      <td>2591.0</td>\n",
              "      <td>12682</td>\n",
              "      <td>False</td>\n",
              "      <td>False</td>\n",
              "      <td>Genuine</td>\n",
              "      <td>RT : Ceux qui n'étaient présents à l'hommage n...</td>\n",
              "      <td>0</td>\n",
              "      <td>0</td>\n",
              "      <td>RT : Ceux qui n'étaient présents à l'hommage n...</td>\n",
              "    </tr>\n",
              "  </tbody>\n",
              "</table>\n",
              "</div>"
            ],
            "text/plain": [
              "  Unnamed: 0  ...                                         clean_text\n",
              "0          0  ...  URL schemes that Sileo supports, so you can be...\n",
              "1          1  ...  RT : Never compare your life to others. You ha...\n",
              "2          2  ...  Sneak Attack on Skybase👀🤖 #Fortnite #GameofGam...\n",
              "3          3  ...  #Meeseva Apply, Online, Centers, Services, App...\n",
              "4          4  ...  RT : Ceux qui n'étaient présents à l'hommage n...\n",
              "\n",
              "[5 rows x 20 columns]"
            ]
          },
          "metadata": {
            "tags": []
          },
          "execution_count": 157
        }
      ]
    },
    {
      "cell_type": "code",
      "metadata": {
        "id": "18SVSjSrnyjt",
        "colab_type": "code",
        "colab": {}
      },
      "source": [
        "df.drop(\"clean_tweet\",axis=1,inplace=True)"
      ],
      "execution_count": 0,
      "outputs": []
    },
    {
      "cell_type": "code",
      "metadata": {
        "id": "oVyGI7Z4n7aH",
        "colab_type": "code",
        "colab": {}
      },
      "source": [
        "df['clean_text']=df['clean_text'].str.replace(\"[^a-zA-Z#]\", \" \")"
      ],
      "execution_count": 0,
      "outputs": []
    },
    {
      "cell_type": "code",
      "metadata": {
        "id": "xY2H6K66ohOs",
        "colab_type": "code",
        "colab": {
          "base_uri": "https://localhost:8080/",
          "height": 513
        },
        "outputId": "f65d6bbc-8972-4d1e-9622-d969e4c34342"
      },
      "source": [
        "df.head()"
      ],
      "execution_count": 160,
      "outputs": [
        {
          "output_type": "execute_result",
          "data": {
            "text/html": [
              "<div>\n",
              "<style scoped>\n",
              "    .dataframe tbody tr th:only-of-type {\n",
              "        vertical-align: middle;\n",
              "    }\n",
              "\n",
              "    .dataframe tbody tr th {\n",
              "        vertical-align: top;\n",
              "    }\n",
              "\n",
              "    .dataframe thead th {\n",
              "        text-align: right;\n",
              "    }\n",
              "</style>\n",
              "<table border=\"1\" class=\"dataframe\">\n",
              "  <thead>\n",
              "    <tr style=\"text-align: right;\">\n",
              "      <th></th>\n",
              "      <th>Unnamed: 0</th>\n",
              "      <th>tweet_text</th>\n",
              "      <th>num_hashtags</th>\n",
              "      <th>num_symbols</th>\n",
              "      <th>num_user_mentions</th>\n",
              "      <th>num_urls</th>\n",
              "      <th>retweet_count</th>\n",
              "      <th>favorite_count</th>\n",
              "      <th>source</th>\n",
              "      <th>lang</th>\n",
              "      <th>source_user_followers_count</th>\n",
              "      <th>source_user_friends_count</th>\n",
              "      <th>source_user_statuses_count</th>\n",
              "      <th>source_user_geo_enabled</th>\n",
              "      <th>source_user_verified</th>\n",
              "      <th>label</th>\n",
              "      <th>url_present</th>\n",
              "      <th>emoji_present</th>\n",
              "      <th>clean_text</th>\n",
              "    </tr>\n",
              "  </thead>\n",
              "  <tbody>\n",
              "    <tr>\n",
              "      <th>0</th>\n",
              "      <td>0</td>\n",
              "      <td>URL schemes that Sileo supports, so you can be...</td>\n",
              "      <td>0.0</td>\n",
              "      <td>0.0</td>\n",
              "      <td>0.0</td>\n",
              "      <td>0.0</td>\n",
              "      <td>12.0</td>\n",
              "      <td>31</td>\n",
              "      <td>&lt;a href=\"http://twitter.com/download/android\" ...</td>\n",
              "      <td>en</td>\n",
              "      <td>2032.0</td>\n",
              "      <td>309.0</td>\n",
              "      <td>9866</td>\n",
              "      <td>True</td>\n",
              "      <td>False</td>\n",
              "      <td>Collusive</td>\n",
              "      <td>0</td>\n",
              "      <td>0</td>\n",
              "      <td>URL schemes that Sileo supports  so you can be...</td>\n",
              "    </tr>\n",
              "    <tr>\n",
              "      <th>1</th>\n",
              "      <td>1</td>\n",
              "      <td>RT @TheLifeDiaries: Never compare your life to...</td>\n",
              "      <td>0.0</td>\n",
              "      <td>0.0</td>\n",
              "      <td>1.0</td>\n",
              "      <td>0.0</td>\n",
              "      <td>1036.0</td>\n",
              "      <td>0</td>\n",
              "      <td>&lt;a href=\"http://twitter.com/download/iphone\" r...</td>\n",
              "      <td>en</td>\n",
              "      <td>202.0</td>\n",
              "      <td>368.0</td>\n",
              "      <td>628</td>\n",
              "      <td>False</td>\n",
              "      <td>False</td>\n",
              "      <td>Genuine</td>\n",
              "      <td>0</td>\n",
              "      <td>0</td>\n",
              "      <td>RT   Never compare your life to others  You ha...</td>\n",
              "    </tr>\n",
              "    <tr>\n",
              "      <th>2</th>\n",
              "      <td>2</td>\n",
              "      <td>Sneak Attack on Skybase👀🤖 #Fortnite #GameofGam...</td>\n",
              "      <td>3.0</td>\n",
              "      <td>0.0</td>\n",
              "      <td>0.0</td>\n",
              "      <td>0.0</td>\n",
              "      <td>9.0</td>\n",
              "      <td>9</td>\n",
              "      <td>&lt;a href=\"http://twitter.com/download/android\" ...</td>\n",
              "      <td>en</td>\n",
              "      <td>324.0</td>\n",
              "      <td>796.0</td>\n",
              "      <td>103</td>\n",
              "      <td>False</td>\n",
              "      <td>False</td>\n",
              "      <td>Collusive</td>\n",
              "      <td>1</td>\n",
              "      <td>1</td>\n",
              "      <td>Sneak Attack on Skybase   #Fortnite #GameofGam...</td>\n",
              "    </tr>\n",
              "    <tr>\n",
              "      <th>3</th>\n",
              "      <td>3</td>\n",
              "      <td>#Meeseva Apply, Online, Centers, Services, App...</td>\n",
              "      <td>1.0</td>\n",
              "      <td>0.0</td>\n",
              "      <td>0.0</td>\n",
              "      <td>1.0</td>\n",
              "      <td>159.0</td>\n",
              "      <td>34</td>\n",
              "      <td>&lt;a href=\"http://twitter.com\" rel=\"nofollow\"&gt;Tw...</td>\n",
              "      <td>en</td>\n",
              "      <td>57.0</td>\n",
              "      <td>1640.0</td>\n",
              "      <td>249</td>\n",
              "      <td>False</td>\n",
              "      <td>False</td>\n",
              "      <td>Collusive</td>\n",
              "      <td>1</td>\n",
              "      <td>0</td>\n",
              "      <td>#Meeseva Apply  Online  Centers  Services  App...</td>\n",
              "    </tr>\n",
              "    <tr>\n",
              "      <th>4</th>\n",
              "      <td>4</td>\n",
              "      <td>RT @Linformatrice: Ceux qui n'étaient présents...</td>\n",
              "      <td>0.0</td>\n",
              "      <td>0.0</td>\n",
              "      <td>1.0</td>\n",
              "      <td>0.0</td>\n",
              "      <td>190.0</td>\n",
              "      <td>0</td>\n",
              "      <td>&lt;a href=\"http://twitter.com/download/android\" ...</td>\n",
              "      <td>fr</td>\n",
              "      <td>620.0</td>\n",
              "      <td>2591.0</td>\n",
              "      <td>12682</td>\n",
              "      <td>False</td>\n",
              "      <td>False</td>\n",
              "      <td>Genuine</td>\n",
              "      <td>0</td>\n",
              "      <td>0</td>\n",
              "      <td>RT   Ceux qui n  taient pr sents   l hommage n...</td>\n",
              "    </tr>\n",
              "  </tbody>\n",
              "</table>\n",
              "</div>"
            ],
            "text/plain": [
              "  Unnamed: 0  ...                                         clean_text\n",
              "0          0  ...  URL schemes that Sileo supports  so you can be...\n",
              "1          1  ...  RT   Never compare your life to others  You ha...\n",
              "2          2  ...  Sneak Attack on Skybase   #Fortnite #GameofGam...\n",
              "3          3  ...  #Meeseva Apply  Online  Centers  Services  App...\n",
              "4          4  ...  RT   Ceux qui n  taient pr sents   l hommage n...\n",
              "\n",
              "[5 rows x 19 columns]"
            ]
          },
          "metadata": {
            "tags": []
          },
          "execution_count": 160
        }
      ]
    },
    {
      "cell_type": "code",
      "metadata": {
        "id": "AJw1ftfYoiul",
        "colab_type": "code",
        "colab": {
          "base_uri": "https://localhost:8080/",
          "height": 34
        },
        "outputId": "e43d9345-ce69-4c56-9f87-2e517cb7d13e"
      },
      "source": [
        "len(df[df.lang=='en'])"
      ],
      "execution_count": 161,
      "outputs": [
        {
          "output_type": "execute_result",
          "data": {
            "text/plain": [
              "7352"
            ]
          },
          "metadata": {
            "tags": []
          },
          "execution_count": 161
        }
      ]
    },
    {
      "cell_type": "code",
      "metadata": {
        "id": "2J3X2cGPpe1S",
        "colab_type": "code",
        "colab": {
          "base_uri": "https://localhost:8080/",
          "height": 102
        },
        "outputId": "d3ef28e9-05c0-4d2b-ac92-0552fda7e9a9"
      },
      "source": [
        "df.lang.unique()"
      ],
      "execution_count": 162,
      "outputs": [
        {
          "output_type": "execute_result",
          "data": {
            "text/plain": [
              "array(['en', 'fr', 'und', 'es', 'tl', 'vi', 'pt', 'ht', 'in', 'no', 'ko',\n",
              "       'it', 'ru', 'ne', 'de', 'ta', 'sv', 'ar', 'tr', 'et', 'pl', 'eu',\n",
              "       'ca', 'fa', 'hi', 'th', 'ja', 'nl', 'bn', nan, '307', 'bg', 'da',\n",
              "       'iw', 'lt', 'ro', 'zh', 'lv', 'cs', 'sr', 'hu', 'uk', 'gu', 'ur',\n",
              "       'mr', 'is', 'fi', 'sl', '2149'], dtype=object)"
            ]
          },
          "metadata": {
            "tags": []
          },
          "execution_count": 162
        }
      ]
    },
    {
      "cell_type": "code",
      "metadata": {
        "id": "GmTHc54AppYj",
        "colab_type": "code",
        "colab": {
          "base_uri": "https://localhost:8080/",
          "height": 357
        },
        "outputId": "1f1c2183-6bb4-4a82-acef-bd986e4a0b64"
      },
      "source": [
        "df.isnull().sum()"
      ],
      "execution_count": 163,
      "outputs": [
        {
          "output_type": "execute_result",
          "data": {
            "text/plain": [
              "Unnamed: 0                     0\n",
              "tweet_text                     0\n",
              "num_hashtags                   2\n",
              "num_symbols                    2\n",
              "num_user_mentions              2\n",
              "num_urls                       2\n",
              "retweet_count                  2\n",
              "favorite_count                 2\n",
              "source                         2\n",
              "lang                           2\n",
              "source_user_followers_count    2\n",
              "source_user_friends_count      2\n",
              "source_user_statuses_count     2\n",
              "source_user_geo_enabled        2\n",
              "source_user_verified           2\n",
              "label                          4\n",
              "url_present                    0\n",
              "emoji_present                  0\n",
              "clean_text                     0\n",
              "dtype: int64"
            ]
          },
          "metadata": {
            "tags": []
          },
          "execution_count": 163
        }
      ]
    },
    {
      "cell_type": "code",
      "metadata": {
        "id": "_gUawW9dp3yH",
        "colab_type": "code",
        "colab": {}
      },
      "source": [
        "df.dropna(inplace=True)"
      ],
      "execution_count": 0,
      "outputs": []
    },
    {
      "cell_type": "code",
      "metadata": {
        "id": "ku8vpAxiqHIB",
        "colab_type": "code",
        "colab": {
          "base_uri": "https://localhost:8080/",
          "height": 34
        },
        "outputId": "15f9f476-fee0-414f-9bf7-19d0f9b189b0"
      },
      "source": [
        "len(df)"
      ],
      "execution_count": 165,
      "outputs": [
        {
          "output_type": "execute_result",
          "data": {
            "text/plain": [
              "9998"
            ]
          },
          "metadata": {
            "tags": []
          },
          "execution_count": 165
        }
      ]
    },
    {
      "cell_type": "code",
      "metadata": {
        "id": "l1l-AxW3q4Ab",
        "colab_type": "code",
        "colab": {
          "base_uri": "https://localhost:8080/",
          "height": 34
        },
        "outputId": "1481807c-4c99-4ed1-9c38-133161559562"
      },
      "source": [
        "f=df[df.lang=='de'].label=='Collusive'\n",
        "len(f)"
      ],
      "execution_count": 166,
      "outputs": [
        {
          "output_type": "execute_result",
          "data": {
            "text/plain": [
              "67"
            ]
          },
          "metadata": {
            "tags": []
          },
          "execution_count": 166
        }
      ]
    },
    {
      "cell_type": "code",
      "metadata": {
        "id": "B-YVpy1E-_At",
        "colab_type": "code",
        "colab": {
          "base_uri": "https://localhost:8080/",
          "height": 34
        },
        "outputId": "4176f221-ae7d-4066-c027-b46825aadfa4"
      },
      "source": [
        "count=0\n",
        "for i in f:\n",
        "  if i== True:\n",
        "    count=count+1\n",
        "print(count)    "
      ],
      "execution_count": 167,
      "outputs": [
        {
          "output_type": "stream",
          "text": [
            "44\n"
          ],
          "name": "stdout"
        }
      ]
    },
    {
      "cell_type": "code",
      "metadata": {
        "id": "52_lY4Vt-QwP",
        "colab_type": "code",
        "colab": {}
      },
      "source": [
        "df=df.drop(307,axis=0)"
      ],
      "execution_count": 0,
      "outputs": []
    },
    {
      "cell_type": "code",
      "metadata": {
        "id": "MRnkQfB3-zam",
        "colab_type": "code",
        "colab": {
          "base_uri": "https://localhost:8080/",
          "height": 513
        },
        "outputId": "b9b59519-3b63-473c-ae6f-1e0a5008b149"
      },
      "source": [
        "df.head()"
      ],
      "execution_count": 169,
      "outputs": [
        {
          "output_type": "execute_result",
          "data": {
            "text/html": [
              "<div>\n",
              "<style scoped>\n",
              "    .dataframe tbody tr th:only-of-type {\n",
              "        vertical-align: middle;\n",
              "    }\n",
              "\n",
              "    .dataframe tbody tr th {\n",
              "        vertical-align: top;\n",
              "    }\n",
              "\n",
              "    .dataframe thead th {\n",
              "        text-align: right;\n",
              "    }\n",
              "</style>\n",
              "<table border=\"1\" class=\"dataframe\">\n",
              "  <thead>\n",
              "    <tr style=\"text-align: right;\">\n",
              "      <th></th>\n",
              "      <th>Unnamed: 0</th>\n",
              "      <th>tweet_text</th>\n",
              "      <th>num_hashtags</th>\n",
              "      <th>num_symbols</th>\n",
              "      <th>num_user_mentions</th>\n",
              "      <th>num_urls</th>\n",
              "      <th>retweet_count</th>\n",
              "      <th>favorite_count</th>\n",
              "      <th>source</th>\n",
              "      <th>lang</th>\n",
              "      <th>source_user_followers_count</th>\n",
              "      <th>source_user_friends_count</th>\n",
              "      <th>source_user_statuses_count</th>\n",
              "      <th>source_user_geo_enabled</th>\n",
              "      <th>source_user_verified</th>\n",
              "      <th>label</th>\n",
              "      <th>url_present</th>\n",
              "      <th>emoji_present</th>\n",
              "      <th>clean_text</th>\n",
              "    </tr>\n",
              "  </thead>\n",
              "  <tbody>\n",
              "    <tr>\n",
              "      <th>0</th>\n",
              "      <td>0</td>\n",
              "      <td>URL schemes that Sileo supports, so you can be...</td>\n",
              "      <td>0.0</td>\n",
              "      <td>0.0</td>\n",
              "      <td>0.0</td>\n",
              "      <td>0.0</td>\n",
              "      <td>12.0</td>\n",
              "      <td>31</td>\n",
              "      <td>&lt;a href=\"http://twitter.com/download/android\" ...</td>\n",
              "      <td>en</td>\n",
              "      <td>2032.0</td>\n",
              "      <td>309.0</td>\n",
              "      <td>9866</td>\n",
              "      <td>True</td>\n",
              "      <td>False</td>\n",
              "      <td>Collusive</td>\n",
              "      <td>0</td>\n",
              "      <td>0</td>\n",
              "      <td>URL schemes that Sileo supports  so you can be...</td>\n",
              "    </tr>\n",
              "    <tr>\n",
              "      <th>1</th>\n",
              "      <td>1</td>\n",
              "      <td>RT @TheLifeDiaries: Never compare your life to...</td>\n",
              "      <td>0.0</td>\n",
              "      <td>0.0</td>\n",
              "      <td>1.0</td>\n",
              "      <td>0.0</td>\n",
              "      <td>1036.0</td>\n",
              "      <td>0</td>\n",
              "      <td>&lt;a href=\"http://twitter.com/download/iphone\" r...</td>\n",
              "      <td>en</td>\n",
              "      <td>202.0</td>\n",
              "      <td>368.0</td>\n",
              "      <td>628</td>\n",
              "      <td>False</td>\n",
              "      <td>False</td>\n",
              "      <td>Genuine</td>\n",
              "      <td>0</td>\n",
              "      <td>0</td>\n",
              "      <td>RT   Never compare your life to others  You ha...</td>\n",
              "    </tr>\n",
              "    <tr>\n",
              "      <th>2</th>\n",
              "      <td>2</td>\n",
              "      <td>Sneak Attack on Skybase👀🤖 #Fortnite #GameofGam...</td>\n",
              "      <td>3.0</td>\n",
              "      <td>0.0</td>\n",
              "      <td>0.0</td>\n",
              "      <td>0.0</td>\n",
              "      <td>9.0</td>\n",
              "      <td>9</td>\n",
              "      <td>&lt;a href=\"http://twitter.com/download/android\" ...</td>\n",
              "      <td>en</td>\n",
              "      <td>324.0</td>\n",
              "      <td>796.0</td>\n",
              "      <td>103</td>\n",
              "      <td>False</td>\n",
              "      <td>False</td>\n",
              "      <td>Collusive</td>\n",
              "      <td>1</td>\n",
              "      <td>1</td>\n",
              "      <td>Sneak Attack on Skybase   #Fortnite #GameofGam...</td>\n",
              "    </tr>\n",
              "    <tr>\n",
              "      <th>3</th>\n",
              "      <td>3</td>\n",
              "      <td>#Meeseva Apply, Online, Centers, Services, App...</td>\n",
              "      <td>1.0</td>\n",
              "      <td>0.0</td>\n",
              "      <td>0.0</td>\n",
              "      <td>1.0</td>\n",
              "      <td>159.0</td>\n",
              "      <td>34</td>\n",
              "      <td>&lt;a href=\"http://twitter.com\" rel=\"nofollow\"&gt;Tw...</td>\n",
              "      <td>en</td>\n",
              "      <td>57.0</td>\n",
              "      <td>1640.0</td>\n",
              "      <td>249</td>\n",
              "      <td>False</td>\n",
              "      <td>False</td>\n",
              "      <td>Collusive</td>\n",
              "      <td>1</td>\n",
              "      <td>0</td>\n",
              "      <td>#Meeseva Apply  Online  Centers  Services  App...</td>\n",
              "    </tr>\n",
              "    <tr>\n",
              "      <th>4</th>\n",
              "      <td>4</td>\n",
              "      <td>RT @Linformatrice: Ceux qui n'étaient présents...</td>\n",
              "      <td>0.0</td>\n",
              "      <td>0.0</td>\n",
              "      <td>1.0</td>\n",
              "      <td>0.0</td>\n",
              "      <td>190.0</td>\n",
              "      <td>0</td>\n",
              "      <td>&lt;a href=\"http://twitter.com/download/android\" ...</td>\n",
              "      <td>fr</td>\n",
              "      <td>620.0</td>\n",
              "      <td>2591.0</td>\n",
              "      <td>12682</td>\n",
              "      <td>False</td>\n",
              "      <td>False</td>\n",
              "      <td>Genuine</td>\n",
              "      <td>0</td>\n",
              "      <td>0</td>\n",
              "      <td>RT   Ceux qui n  taient pr sents   l hommage n...</td>\n",
              "    </tr>\n",
              "  </tbody>\n",
              "</table>\n",
              "</div>"
            ],
            "text/plain": [
              "  Unnamed: 0  ...                                         clean_text\n",
              "0          0  ...  URL schemes that Sileo supports  so you can be...\n",
              "1          1  ...  RT   Never compare your life to others  You ha...\n",
              "2          2  ...  Sneak Attack on Skybase   #Fortnite #GameofGam...\n",
              "3          3  ...  #Meeseva Apply  Online  Centers  Services  App...\n",
              "4          4  ...  RT   Ceux qui n  taient pr sents   l hommage n...\n",
              "\n",
              "[5 rows x 19 columns]"
            ]
          },
          "metadata": {
            "tags": []
          },
          "execution_count": 169
        }
      ]
    },
    {
      "cell_type": "code",
      "metadata": {
        "id": "3TxNhycEGNCU",
        "colab_type": "code",
        "colab": {
          "base_uri": "https://localhost:8080/",
          "height": 136
        },
        "outputId": "14134dbd-eef9-4845-8af1-a72281eba881"
      },
      "source": [
        "df.columns"
      ],
      "execution_count": 170,
      "outputs": [
        {
          "output_type": "execute_result",
          "data": {
            "text/plain": [
              "Index(['Unnamed: 0', 'tweet_text', 'num_hashtags', 'num_symbols',\n",
              "       'num_user_mentions', 'num_urls', 'retweet_count', 'favorite_count',\n",
              "       'source', 'lang', 'source_user_followers_count',\n",
              "       'source_user_friends_count', 'source_user_statuses_count',\n",
              "       'source_user_geo_enabled', 'source_user_verified', 'label',\n",
              "       'url_present', 'emoji_present', 'clean_text'],\n",
              "      dtype='object')"
            ]
          },
          "metadata": {
            "tags": []
          },
          "execution_count": 170
        }
      ]
    },
    {
      "cell_type": "code",
      "metadata": {
        "id": "ImduMGIgGSJ6",
        "colab_type": "code",
        "colab": {}
      },
      "source": [
        "df.drop(['Unnamed: 0','tweet_text','clean_text'],axis=1,inplace=True)"
      ],
      "execution_count": 0,
      "outputs": []
    },
    {
      "cell_type": "code",
      "metadata": {
        "id": "t65FJk3IGgFm",
        "colab_type": "code",
        "colab": {
          "base_uri": "https://localhost:8080/",
          "height": 377
        },
        "outputId": "d66f97d7-4b8b-4291-dcd6-4549c61f8469"
      },
      "source": [
        "df.head()"
      ],
      "execution_count": 172,
      "outputs": [
        {
          "output_type": "execute_result",
          "data": {
            "text/html": [
              "<div>\n",
              "<style scoped>\n",
              "    .dataframe tbody tr th:only-of-type {\n",
              "        vertical-align: middle;\n",
              "    }\n",
              "\n",
              "    .dataframe tbody tr th {\n",
              "        vertical-align: top;\n",
              "    }\n",
              "\n",
              "    .dataframe thead th {\n",
              "        text-align: right;\n",
              "    }\n",
              "</style>\n",
              "<table border=\"1\" class=\"dataframe\">\n",
              "  <thead>\n",
              "    <tr style=\"text-align: right;\">\n",
              "      <th></th>\n",
              "      <th>num_hashtags</th>\n",
              "      <th>num_symbols</th>\n",
              "      <th>num_user_mentions</th>\n",
              "      <th>num_urls</th>\n",
              "      <th>retweet_count</th>\n",
              "      <th>favorite_count</th>\n",
              "      <th>source</th>\n",
              "      <th>lang</th>\n",
              "      <th>source_user_followers_count</th>\n",
              "      <th>source_user_friends_count</th>\n",
              "      <th>source_user_statuses_count</th>\n",
              "      <th>source_user_geo_enabled</th>\n",
              "      <th>source_user_verified</th>\n",
              "      <th>label</th>\n",
              "      <th>url_present</th>\n",
              "      <th>emoji_present</th>\n",
              "    </tr>\n",
              "  </thead>\n",
              "  <tbody>\n",
              "    <tr>\n",
              "      <th>0</th>\n",
              "      <td>0.0</td>\n",
              "      <td>0.0</td>\n",
              "      <td>0.0</td>\n",
              "      <td>0.0</td>\n",
              "      <td>12.0</td>\n",
              "      <td>31</td>\n",
              "      <td>&lt;a href=\"http://twitter.com/download/android\" ...</td>\n",
              "      <td>en</td>\n",
              "      <td>2032.0</td>\n",
              "      <td>309.0</td>\n",
              "      <td>9866</td>\n",
              "      <td>True</td>\n",
              "      <td>False</td>\n",
              "      <td>Collusive</td>\n",
              "      <td>0</td>\n",
              "      <td>0</td>\n",
              "    </tr>\n",
              "    <tr>\n",
              "      <th>1</th>\n",
              "      <td>0.0</td>\n",
              "      <td>0.0</td>\n",
              "      <td>1.0</td>\n",
              "      <td>0.0</td>\n",
              "      <td>1036.0</td>\n",
              "      <td>0</td>\n",
              "      <td>&lt;a href=\"http://twitter.com/download/iphone\" r...</td>\n",
              "      <td>en</td>\n",
              "      <td>202.0</td>\n",
              "      <td>368.0</td>\n",
              "      <td>628</td>\n",
              "      <td>False</td>\n",
              "      <td>False</td>\n",
              "      <td>Genuine</td>\n",
              "      <td>0</td>\n",
              "      <td>0</td>\n",
              "    </tr>\n",
              "    <tr>\n",
              "      <th>2</th>\n",
              "      <td>3.0</td>\n",
              "      <td>0.0</td>\n",
              "      <td>0.0</td>\n",
              "      <td>0.0</td>\n",
              "      <td>9.0</td>\n",
              "      <td>9</td>\n",
              "      <td>&lt;a href=\"http://twitter.com/download/android\" ...</td>\n",
              "      <td>en</td>\n",
              "      <td>324.0</td>\n",
              "      <td>796.0</td>\n",
              "      <td>103</td>\n",
              "      <td>False</td>\n",
              "      <td>False</td>\n",
              "      <td>Collusive</td>\n",
              "      <td>1</td>\n",
              "      <td>1</td>\n",
              "    </tr>\n",
              "    <tr>\n",
              "      <th>3</th>\n",
              "      <td>1.0</td>\n",
              "      <td>0.0</td>\n",
              "      <td>0.0</td>\n",
              "      <td>1.0</td>\n",
              "      <td>159.0</td>\n",
              "      <td>34</td>\n",
              "      <td>&lt;a href=\"http://twitter.com\" rel=\"nofollow\"&gt;Tw...</td>\n",
              "      <td>en</td>\n",
              "      <td>57.0</td>\n",
              "      <td>1640.0</td>\n",
              "      <td>249</td>\n",
              "      <td>False</td>\n",
              "      <td>False</td>\n",
              "      <td>Collusive</td>\n",
              "      <td>1</td>\n",
              "      <td>0</td>\n",
              "    </tr>\n",
              "    <tr>\n",
              "      <th>4</th>\n",
              "      <td>0.0</td>\n",
              "      <td>0.0</td>\n",
              "      <td>1.0</td>\n",
              "      <td>0.0</td>\n",
              "      <td>190.0</td>\n",
              "      <td>0</td>\n",
              "      <td>&lt;a href=\"http://twitter.com/download/android\" ...</td>\n",
              "      <td>fr</td>\n",
              "      <td>620.0</td>\n",
              "      <td>2591.0</td>\n",
              "      <td>12682</td>\n",
              "      <td>False</td>\n",
              "      <td>False</td>\n",
              "      <td>Genuine</td>\n",
              "      <td>0</td>\n",
              "      <td>0</td>\n",
              "    </tr>\n",
              "  </tbody>\n",
              "</table>\n",
              "</div>"
            ],
            "text/plain": [
              "   num_hashtags  num_symbols  ...  url_present  emoji_present\n",
              "0           0.0          0.0  ...            0              0\n",
              "1           0.0          0.0  ...            0              0\n",
              "2           3.0          0.0  ...            1              1\n",
              "3           1.0          0.0  ...            1              0\n",
              "4           0.0          0.0  ...            0              0\n",
              "\n",
              "[5 rows x 16 columns]"
            ]
          },
          "metadata": {
            "tags": []
          },
          "execution_count": 172
        }
      ]
    },
    {
      "cell_type": "code",
      "metadata": {
        "id": "K5V8jjd0GqgF",
        "colab_type": "code",
        "colab": {
          "base_uri": "https://localhost:8080/",
          "height": 34
        },
        "outputId": "a4c159a5-d90e-49f8-8466-f25397585164"
      },
      "source": [
        "len(df)"
      ],
      "execution_count": 173,
      "outputs": [
        {
          "output_type": "execute_result",
          "data": {
            "text/plain": [
              "9997"
            ]
          },
          "metadata": {
            "tags": []
          },
          "execution_count": 173
        }
      ]
    },
    {
      "cell_type": "code",
      "metadata": {
        "id": "O6L9rA9PHSNx",
        "colab_type": "code",
        "colab": {}
      },
      "source": [
        "source_list=[]\n",
        "for row in df.source:\n",
        "  source_list.append(BeautifulSoup(row).string)\n",
        "df['source_new']=source_list  "
      ],
      "execution_count": 0,
      "outputs": []
    },
    {
      "cell_type": "code",
      "metadata": {
        "id": "-tAisZDAIMJZ",
        "colab_type": "code",
        "colab": {
          "base_uri": "https://localhost:8080/",
          "height": 34
        },
        "outputId": "47810347-87f2-41f3-ac64-c2c3a52af1ab"
      },
      "source": [
        "len(df.source_new.unique())"
      ],
      "execution_count": 175,
      "outputs": [
        {
          "output_type": "execute_result",
          "data": {
            "text/plain": [
              "258"
            ]
          },
          "metadata": {
            "tags": []
          },
          "execution_count": 175
        }
      ]
    },
    {
      "cell_type": "code",
      "metadata": {
        "id": "mKkpHvmJJa7Y",
        "colab_type": "code",
        "colab": {}
      },
      "source": [
        "df.drop(['source','source_new'],axis=1,inplace=True)"
      ],
      "execution_count": 0,
      "outputs": []
    },
    {
      "cell_type": "code",
      "metadata": {
        "id": "qpoNCTz9Mv_E",
        "colab_type": "code",
        "colab": {
          "base_uri": "https://localhost:8080/",
          "height": 317
        },
        "outputId": "ad20700a-5b90-4f43-f622-c4a062893cea"
      },
      "source": [
        "df.describe()"
      ],
      "execution_count": 189,
      "outputs": [
        {
          "output_type": "execute_result",
          "data": {
            "text/html": [
              "<div>\n",
              "<style scoped>\n",
              "    .dataframe tbody tr th:only-of-type {\n",
              "        vertical-align: middle;\n",
              "    }\n",
              "\n",
              "    .dataframe tbody tr th {\n",
              "        vertical-align: top;\n",
              "    }\n",
              "\n",
              "    .dataframe thead th {\n",
              "        text-align: right;\n",
              "    }\n",
              "</style>\n",
              "<table border=\"1\" class=\"dataframe\">\n",
              "  <thead>\n",
              "    <tr style=\"text-align: right;\">\n",
              "      <th></th>\n",
              "      <th>num_hashtags</th>\n",
              "      <th>num_symbols</th>\n",
              "      <th>num_user_mentions</th>\n",
              "      <th>num_urls</th>\n",
              "      <th>retweet_count</th>\n",
              "      <th>source_user_followers_count</th>\n",
              "      <th>source_user_friends_count</th>\n",
              "      <th>url_present</th>\n",
              "      <th>emoji_present</th>\n",
              "    </tr>\n",
              "  </thead>\n",
              "  <tbody>\n",
              "    <tr>\n",
              "      <th>count</th>\n",
              "      <td>9997.000000</td>\n",
              "      <td>9997.000000</td>\n",
              "      <td>9997.000000</td>\n",
              "      <td>9997.000000</td>\n",
              "      <td>9997.000000</td>\n",
              "      <td>9.997000e+03</td>\n",
              "      <td>9997.000000</td>\n",
              "      <td>9997.000000</td>\n",
              "      <td>9997.000000</td>\n",
              "    </tr>\n",
              "    <tr>\n",
              "      <th>mean</th>\n",
              "      <td>1.095129</td>\n",
              "      <td>0.002801</td>\n",
              "      <td>0.699910</td>\n",
              "      <td>0.489247</td>\n",
              "      <td>1361.391317</td>\n",
              "      <td>-7.024268e-18</td>\n",
              "      <td>6759.088827</td>\n",
              "      <td>0.663799</td>\n",
              "      <td>0.153646</td>\n",
              "    </tr>\n",
              "    <tr>\n",
              "      <th>std</th>\n",
              "      <td>2.528955</td>\n",
              "      <td>0.081208</td>\n",
              "      <td>1.309144</td>\n",
              "      <td>0.571262</td>\n",
              "      <td>16448.131208</td>\n",
              "      <td>1.000050e+00</td>\n",
              "      <td>51787.903595</td>\n",
              "      <td>0.472432</td>\n",
              "      <td>0.360627</td>\n",
              "    </tr>\n",
              "    <tr>\n",
              "      <th>min</th>\n",
              "      <td>0.000000</td>\n",
              "      <td>0.000000</td>\n",
              "      <td>0.000000</td>\n",
              "      <td>0.000000</td>\n",
              "      <td>0.000000</td>\n",
              "      <td>-8.832107e-02</td>\n",
              "      <td>0.000000</td>\n",
              "      <td>0.000000</td>\n",
              "      <td>0.000000</td>\n",
              "    </tr>\n",
              "    <tr>\n",
              "      <th>25%</th>\n",
              "      <td>0.000000</td>\n",
              "      <td>0.000000</td>\n",
              "      <td>0.000000</td>\n",
              "      <td>0.000000</td>\n",
              "      <td>0.000000</td>\n",
              "      <td>-8.816938e-02</td>\n",
              "      <td>148.000000</td>\n",
              "      <td>0.000000</td>\n",
              "      <td>0.000000</td>\n",
              "    </tr>\n",
              "    <tr>\n",
              "      <th>50%</th>\n",
              "      <td>0.000000</td>\n",
              "      <td>0.000000</td>\n",
              "      <td>0.000000</td>\n",
              "      <td>0.000000</td>\n",
              "      <td>5.000000</td>\n",
              "      <td>-8.759785e-02</td>\n",
              "      <td>526.000000</td>\n",
              "      <td>1.000000</td>\n",
              "      <td>0.000000</td>\n",
              "    </tr>\n",
              "    <tr>\n",
              "      <th>75%</th>\n",
              "      <td>1.000000</td>\n",
              "      <td>0.000000</td>\n",
              "      <td>1.000000</td>\n",
              "      <td>1.000000</td>\n",
              "      <td>31.000000</td>\n",
              "      <td>-8.397674e-02</td>\n",
              "      <td>1469.000000</td>\n",
              "      <td>1.000000</td>\n",
              "      <td>0.000000</td>\n",
              "    </tr>\n",
              "    <tr>\n",
              "      <th>max</th>\n",
              "      <td>30.000000</td>\n",
              "      <td>4.000000</td>\n",
              "      <td>46.000000</td>\n",
              "      <td>6.000000</td>\n",
              "      <td>457650.000000</td>\n",
              "      <td>2.795261e+01</td>\n",
              "      <td>982196.000000</td>\n",
              "      <td>1.000000</td>\n",
              "      <td>1.000000</td>\n",
              "    </tr>\n",
              "  </tbody>\n",
              "</table>\n",
              "</div>"
            ],
            "text/plain": [
              "       num_hashtags  num_symbols  ...  url_present  emoji_present\n",
              "count   9997.000000  9997.000000  ...  9997.000000    9997.000000\n",
              "mean       1.095129     0.002801  ...     0.663799       0.153646\n",
              "std        2.528955     0.081208  ...     0.472432       0.360627\n",
              "min        0.000000     0.000000  ...     0.000000       0.000000\n",
              "25%        0.000000     0.000000  ...     0.000000       0.000000\n",
              "50%        0.000000     0.000000  ...     1.000000       0.000000\n",
              "75%        1.000000     0.000000  ...     1.000000       0.000000\n",
              "max       30.000000     4.000000  ...     1.000000       1.000000\n",
              "\n",
              "[8 rows x 9 columns]"
            ]
          },
          "metadata": {
            "tags": []
          },
          "execution_count": 189
        }
      ]
    },
    {
      "cell_type": "code",
      "metadata": {
        "id": "euUbNcVbM4-Z",
        "colab_type": "code",
        "colab": {}
      },
      "source": [
        "sc=StandardScaler()\n",
        "df[['source_user_followers_count']]=sc.fit_transform(df[['source_user_followers_count']])\n",
        "sc1=StandardScaler()\n",
        "df[['source_user_friends_count']]=sc1.fit_transform(df[['source_user_friends_count']])\n",
        "sc2=StandardScaler()\n",
        "df[['retweet_count']]=sc2.fit_transform(df[['retweet_count']])\n",
        "sc3=StandardScaler()\n",
        "df[['favorite_count']]=sc.fit_transform(df[['favorite_count']])\n",
        "sc4=StandardScaler()\n",
        "df[['num_hashtags']]=sc4.fit_transform(df[['num_hashtags']])\n",
        "sc5=StandardScaler()\n",
        "df[['num_user_mentions']]=sc.fit_transform(df[['num_user_mentions']])\n",
        "sc=StandardScaler()\n",
        "df[['source_user_statuses_count']]=sc.fit_transform(df[['source_user_statuses_count']])"
      ],
      "execution_count": 0,
      "outputs": []
    },
    {
      "cell_type": "code",
      "metadata": {
        "id": "ziY8FM2_T55a",
        "colab_type": "code",
        "colab": {
          "base_uri": "https://localhost:8080/",
          "height": 224
        },
        "outputId": "3bc30a9c-3f54-4b8a-ee7f-2242a05404b5"
      },
      "source": [
        "df.tail()"
      ],
      "execution_count": 201,
      "outputs": [
        {
          "output_type": "execute_result",
          "data": {
            "text/html": [
              "<div>\n",
              "<style scoped>\n",
              "    .dataframe tbody tr th:only-of-type {\n",
              "        vertical-align: middle;\n",
              "    }\n",
              "\n",
              "    .dataframe tbody tr th {\n",
              "        vertical-align: top;\n",
              "    }\n",
              "\n",
              "    .dataframe thead th {\n",
              "        text-align: right;\n",
              "    }\n",
              "</style>\n",
              "<table border=\"1\" class=\"dataframe\">\n",
              "  <thead>\n",
              "    <tr style=\"text-align: right;\">\n",
              "      <th></th>\n",
              "      <th>num_hashtags</th>\n",
              "      <th>num_symbols</th>\n",
              "      <th>num_user_mentions</th>\n",
              "      <th>num_urls</th>\n",
              "      <th>retweet_count</th>\n",
              "      <th>favorite_count</th>\n",
              "      <th>lang</th>\n",
              "      <th>source_user_followers_count</th>\n",
              "      <th>source_user_friends_count</th>\n",
              "      <th>source_user_statuses_count</th>\n",
              "      <th>source_user_geo_enabled</th>\n",
              "      <th>source_user_verified</th>\n",
              "      <th>label</th>\n",
              "      <th>url_present</th>\n",
              "      <th>emoji_present</th>\n",
              "    </tr>\n",
              "  </thead>\n",
              "  <tbody>\n",
              "    <tr>\n",
              "      <th>9997</th>\n",
              "      <td>-0.433058</td>\n",
              "      <td>0.0</td>\n",
              "      <td>-0.534658</td>\n",
              "      <td>1.0</td>\n",
              "      <td>-0.082286</td>\n",
              "      <td>-0.023703</td>\n",
              "      <td>42</td>\n",
              "      <td>-0.087849</td>\n",
              "      <td>-0.119688</td>\n",
              "      <td>-0.197377</td>\n",
              "      <td>0</td>\n",
              "      <td>0</td>\n",
              "      <td>Collusive</td>\n",
              "      <td>1</td>\n",
              "      <td>0</td>\n",
              "    </tr>\n",
              "    <tr>\n",
              "      <th>9998</th>\n",
              "      <td>-0.433058</td>\n",
              "      <td>0.0</td>\n",
              "      <td>0.993134</td>\n",
              "      <td>1.0</td>\n",
              "      <td>-0.082712</td>\n",
              "      <td>-0.023921</td>\n",
              "      <td>7</td>\n",
              "      <td>-0.069066</td>\n",
              "      <td>0.020699</td>\n",
              "      <td>0.210510</td>\n",
              "      <td>1</td>\n",
              "      <td>0</td>\n",
              "      <td>Genuine</td>\n",
              "      <td>1</td>\n",
              "      <td>0</td>\n",
              "    </tr>\n",
              "    <tr>\n",
              "      <th>9999</th>\n",
              "      <td>5.893984</td>\n",
              "      <td>0.0</td>\n",
              "      <td>0.229238</td>\n",
              "      <td>1.0</td>\n",
              "      <td>-0.081496</td>\n",
              "      <td>-0.023051</td>\n",
              "      <td>7</td>\n",
              "      <td>-0.087959</td>\n",
              "      <td>-0.123898</td>\n",
              "      <td>-0.314575</td>\n",
              "      <td>0</td>\n",
              "      <td>0</td>\n",
              "      <td>Collusive</td>\n",
              "      <td>1</td>\n",
              "      <td>0</td>\n",
              "    </tr>\n",
              "    <tr>\n",
              "      <th>10000</th>\n",
              "      <td>-0.433058</td>\n",
              "      <td>0.0</td>\n",
              "      <td>0.229238</td>\n",
              "      <td>0.0</td>\n",
              "      <td>-0.080158</td>\n",
              "      <td>-0.023921</td>\n",
              "      <td>7</td>\n",
              "      <td>-0.048626</td>\n",
              "      <td>0.934665</td>\n",
              "      <td>-0.002069</td>\n",
              "      <td>0</td>\n",
              "      <td>0</td>\n",
              "      <td>Genuine</td>\n",
              "      <td>1</td>\n",
              "      <td>0</td>\n",
              "    </tr>\n",
              "    <tr>\n",
              "      <th>10001</th>\n",
              "      <td>-0.433058</td>\n",
              "      <td>0.0</td>\n",
              "      <td>-0.534658</td>\n",
              "      <td>1.0</td>\n",
              "      <td>-0.081618</td>\n",
              "      <td>-0.023812</td>\n",
              "      <td>7</td>\n",
              "      <td>-0.087598</td>\n",
              "      <td>-0.129150</td>\n",
              "      <td>-0.330662</td>\n",
              "      <td>0</td>\n",
              "      <td>0</td>\n",
              "      <td>Collusive</td>\n",
              "      <td>1</td>\n",
              "      <td>0</td>\n",
              "    </tr>\n",
              "  </tbody>\n",
              "</table>\n",
              "</div>"
            ],
            "text/plain": [
              "       num_hashtags  num_symbols  ...  url_present  emoji_present\n",
              "9997      -0.433058          0.0  ...            1              0\n",
              "9998      -0.433058          0.0  ...            1              0\n",
              "9999       5.893984          0.0  ...            1              0\n",
              "10000     -0.433058          0.0  ...            1              0\n",
              "10001     -0.433058          0.0  ...            1              0\n",
              "\n",
              "[5 rows x 15 columns]"
            ]
          },
          "metadata": {
            "tags": []
          },
          "execution_count": 201
        }
      ]
    },
    {
      "cell_type": "code",
      "metadata": {
        "id": "6jDiYXJGVRjT",
        "colab_type": "code",
        "colab": {
          "base_uri": "https://localhost:8080/",
          "height": 34
        },
        "outputId": "2ca5d0ba-749d-4396-aa86-a38a665061bc"
      },
      "source": [
        "len(df.lang.unique())"
      ],
      "execution_count": 196,
      "outputs": [
        {
          "output_type": "execute_result",
          "data": {
            "text/plain": [
              "46"
            ]
          },
          "metadata": {
            "tags": []
          },
          "execution_count": 196
        }
      ]
    },
    {
      "cell_type": "code",
      "metadata": {
        "id": "M6XtKmJqZTtz",
        "colab_type": "code",
        "colab": {}
      },
      "source": [
        "lc=LabelEncoder()\n",
        "df['lang']=lc.fit_transform(df['lang'])"
      ],
      "execution_count": 0,
      "outputs": []
    },
    {
      "cell_type": "code",
      "metadata": {
        "id": "9661e3wEaoZT",
        "colab_type": "code",
        "colab": {}
      },
      "source": [
        "lc1=LabelEncoder()\n",
        "df['source_user_geo_enabled']=lc1.fit_transform(df['source_user_geo_enabled'])\n",
        "lc2=LabelEncoder()\n",
        "df['source_user_verified']=lc2.fit_transform(df['source_user_verified'])\n",
        "lc3=LabelEncoder()\n",
        "df['source_user_geo_enabled']=lc3.fit_transform(df['source_user_geo_enabled'])\n"
      ],
      "execution_count": 0,
      "outputs": []
    },
    {
      "cell_type": "code",
      "metadata": {
        "id": "St5T43pqeoYX",
        "colab_type": "code",
        "colab": {}
      },
      "source": [
        "df.drop('num_symbols',axis=1,inplace=True)"
      ],
      "execution_count": 0,
      "outputs": []
    },
    {
      "cell_type": "code",
      "metadata": {
        "id": "9g_Vabawe1n3",
        "colab_type": "code",
        "colab": {}
      },
      "source": [
        "y=df['label']"
      ],
      "execution_count": 0,
      "outputs": []
    },
    {
      "cell_type": "code",
      "metadata": {
        "id": "sI7KDxsGe-QL",
        "colab_type": "code",
        "colab": {
          "base_uri": "https://localhost:8080/",
          "height": 34
        },
        "outputId": "718a375e-903f-4848-fb53-beebc4c134b2"
      },
      "source": [
        "len(y)"
      ],
      "execution_count": 205,
      "outputs": [
        {
          "output_type": "execute_result",
          "data": {
            "text/plain": [
              "9997"
            ]
          },
          "metadata": {
            "tags": []
          },
          "execution_count": 205
        }
      ]
    },
    {
      "cell_type": "code",
      "metadata": {
        "id": "OClzfnXae_mu",
        "colab_type": "code",
        "colab": {}
      },
      "source": [
        "df.drop('label',axis=1,inplace=True)"
      ],
      "execution_count": 0,
      "outputs": []
    },
    {
      "cell_type": "code",
      "metadata": {
        "id": "BJIAu3l5fNn6",
        "colab_type": "code",
        "colab": {}
      },
      "source": [
        "df.drop('num_urls',axis=1,inplace=True)"
      ],
      "execution_count": 0,
      "outputs": []
    },
    {
      "cell_type": "code",
      "metadata": {
        "id": "B8H3NQ7yfGuY",
        "colab_type": "code",
        "colab": {}
      },
      "source": [
        "import xgboost as xgb"
      ],
      "execution_count": 0,
      "outputs": []
    },
    {
      "cell_type": "code",
      "metadata": {
        "id": "S3wDQ8nTfH9D",
        "colab_type": "code",
        "colab": {}
      },
      "source": [
        "from sklearn.model_selection import train_test_split\n",
        "x_train,x_val,y_train,y_val=train_test_split(df,y,test_size=0.2,random_state=9)"
      ],
      "execution_count": 0,
      "outputs": []
    },
    {
      "cell_type": "code",
      "metadata": {
        "id": "eO-tfM8agm3a",
        "colab_type": "code",
        "colab": {
          "base_uri": "https://localhost:8080/",
          "height": 136
        },
        "outputId": "8b1a969a-a0b2-464f-fcab-09dd0eb4ad6e"
      },
      "source": [
        "clf3=xgb.XGBClassifier(learning_rate=0.1,n_estimators=200,max_depth=5,min_child_weight=5,gamma=0,subsample=0.8,colsample_bytree=0.8,reg_alpha=0.005,objective='binary:logistic',n_thread=4,scale_pos_weight=1)\n",
        "clf3.fit(x_train,y_train)"
      ],
      "execution_count": 214,
      "outputs": [
        {
          "output_type": "execute_result",
          "data": {
            "text/plain": [
              "XGBClassifier(base_score=0.5, booster='gbtree', colsample_bylevel=1,\n",
              "              colsample_bynode=1, colsample_bytree=0.8, gamma=0,\n",
              "              learning_rate=0.1, max_delta_step=0, max_depth=5,\n",
              "              min_child_weight=5, missing=None, n_estimators=200, n_jobs=1,\n",
              "              n_thread=4, nthread=None, objective='binary:logistic',\n",
              "              random_state=0, reg_alpha=0.005, reg_lambda=1, scale_pos_weight=1,\n",
              "              seed=None, silent=None, subsample=0.8, verbosity=1)"
            ]
          },
          "metadata": {
            "tags": []
          },
          "execution_count": 214
        }
      ]
    },
    {
      "cell_type": "code",
      "metadata": {
        "id": "7XQStr2VhLwW",
        "colab_type": "code",
        "colab": {}
      },
      "source": [
        "y_pred=clf3.predict(x_train)"
      ],
      "execution_count": 0,
      "outputs": []
    },
    {
      "cell_type": "code",
      "metadata": {
        "id": "YiT5_GC6hTsv",
        "colab_type": "code",
        "colab": {}
      },
      "source": [
        "from sklearn.metrics import accuracy_score"
      ],
      "execution_count": 0,
      "outputs": []
    },
    {
      "cell_type": "code",
      "metadata": {
        "id": "dTNKZHaOhVNV",
        "colab_type": "code",
        "colab": {
          "base_uri": "https://localhost:8080/",
          "height": 34
        },
        "outputId": "26e72eeb-14b5-464f-e97d-4938558a6e5b"
      },
      "source": [
        "accuracy_score(y_train,y_pred)"
      ],
      "execution_count": 226,
      "outputs": [
        {
          "output_type": "execute_result",
          "data": {
            "text/plain": [
              "0.958109290984119"
            ]
          },
          "metadata": {
            "tags": []
          },
          "execution_count": 226
        }
      ]
    },
    {
      "cell_type": "code",
      "metadata": {
        "id": "oTbpu_7Lhd7z",
        "colab_type": "code",
        "colab": {
          "base_uri": "https://localhost:8080/",
          "height": 697
        },
        "outputId": "8c33f26e-6eeb-42bd-cd33-6353b552758a"
      },
      "source": [
        ""
      ],
      "execution_count": 221,
      "outputs": [
        {
          "output_type": "error",
          "ename": "KeyError",
          "evalue": "ignored",
          "traceback": [
            "\u001b[0;31m---------------------------------------------------------------------------\u001b[0m",
            "\u001b[0;31mKeyError\u001b[0m                                  Traceback (most recent call last)",
            "\u001b[0;32m/usr/local/lib/python3.6/dist-packages/pandas/core/indexes/base.py\u001b[0m in \u001b[0;36mget_loc\u001b[0;34m(self, key, method, tolerance)\u001b[0m\n\u001b[1;32m   2896\u001b[0m             \u001b[0;32mtry\u001b[0m\u001b[0;34m:\u001b[0m\u001b[0;34m\u001b[0m\u001b[0;34m\u001b[0m\u001b[0m\n\u001b[0;32m-> 2897\u001b[0;31m                 \u001b[0;32mreturn\u001b[0m \u001b[0mself\u001b[0m\u001b[0;34m.\u001b[0m\u001b[0m_engine\u001b[0m\u001b[0;34m.\u001b[0m\u001b[0mget_loc\u001b[0m\u001b[0;34m(\u001b[0m\u001b[0mkey\u001b[0m\u001b[0;34m)\u001b[0m\u001b[0;34m\u001b[0m\u001b[0;34m\u001b[0m\u001b[0m\n\u001b[0m\u001b[1;32m   2898\u001b[0m             \u001b[0;32mexcept\u001b[0m \u001b[0mKeyError\u001b[0m\u001b[0;34m:\u001b[0m\u001b[0;34m\u001b[0m\u001b[0;34m\u001b[0m\u001b[0m\n",
            "\u001b[0;32mpandas/_libs/index.pyx\u001b[0m in \u001b[0;36mpandas._libs.index.IndexEngine.get_loc\u001b[0;34m()\u001b[0m\n",
            "\u001b[0;32mpandas/_libs/index.pyx\u001b[0m in \u001b[0;36mpandas._libs.index.IndexEngine.get_loc\u001b[0;34m()\u001b[0m\n",
            "\u001b[0;32mpandas/_libs/hashtable_class_helper.pxi\u001b[0m in \u001b[0;36mpandas._libs.hashtable.PyObjectHashTable.get_item\u001b[0;34m()\u001b[0m\n",
            "\u001b[0;32mpandas/_libs/hashtable_class_helper.pxi\u001b[0m in \u001b[0;36mpandas._libs.hashtable.PyObjectHashTable.get_item\u001b[0;34m()\u001b[0m\n",
            "\u001b[0;31mKeyError\u001b[0m: 0",
            "\nDuring handling of the above exception, another exception occurred:\n",
            "\u001b[0;31mKeyError\u001b[0m                                  Traceback (most recent call last)",
            "\u001b[0;32m<ipython-input-221-3f11ad8552d6>\u001b[0m in \u001b[0;36m<module>\u001b[0;34m()\u001b[0m\n\u001b[0;32m----> 1\u001b[0;31m \u001b[0mx_val\u001b[0m\u001b[0;34m[\u001b[0m\u001b[0;36m0\u001b[0m\u001b[0;34m]\u001b[0m\u001b[0;34m\u001b[0m\u001b[0;34m\u001b[0m\u001b[0m\n\u001b[0m",
            "\u001b[0;32m/usr/local/lib/python3.6/dist-packages/pandas/core/frame.py\u001b[0m in \u001b[0;36m__getitem__\u001b[0;34m(self, key)\u001b[0m\n\u001b[1;32m   2993\u001b[0m             \u001b[0;32mif\u001b[0m \u001b[0mself\u001b[0m\u001b[0;34m.\u001b[0m\u001b[0mcolumns\u001b[0m\u001b[0;34m.\u001b[0m\u001b[0mnlevels\u001b[0m \u001b[0;34m>\u001b[0m \u001b[0;36m1\u001b[0m\u001b[0;34m:\u001b[0m\u001b[0;34m\u001b[0m\u001b[0;34m\u001b[0m\u001b[0m\n\u001b[1;32m   2994\u001b[0m                 \u001b[0;32mreturn\u001b[0m \u001b[0mself\u001b[0m\u001b[0;34m.\u001b[0m\u001b[0m_getitem_multilevel\u001b[0m\u001b[0;34m(\u001b[0m\u001b[0mkey\u001b[0m\u001b[0;34m)\u001b[0m\u001b[0;34m\u001b[0m\u001b[0;34m\u001b[0m\u001b[0m\n\u001b[0;32m-> 2995\u001b[0;31m             \u001b[0mindexer\u001b[0m \u001b[0;34m=\u001b[0m \u001b[0mself\u001b[0m\u001b[0;34m.\u001b[0m\u001b[0mcolumns\u001b[0m\u001b[0;34m.\u001b[0m\u001b[0mget_loc\u001b[0m\u001b[0;34m(\u001b[0m\u001b[0mkey\u001b[0m\u001b[0;34m)\u001b[0m\u001b[0;34m\u001b[0m\u001b[0;34m\u001b[0m\u001b[0m\n\u001b[0m\u001b[1;32m   2996\u001b[0m             \u001b[0;32mif\u001b[0m \u001b[0mis_integer\u001b[0m\u001b[0;34m(\u001b[0m\u001b[0mindexer\u001b[0m\u001b[0;34m)\u001b[0m\u001b[0;34m:\u001b[0m\u001b[0;34m\u001b[0m\u001b[0;34m\u001b[0m\u001b[0m\n\u001b[1;32m   2997\u001b[0m                 \u001b[0mindexer\u001b[0m \u001b[0;34m=\u001b[0m \u001b[0;34m[\u001b[0m\u001b[0mindexer\u001b[0m\u001b[0;34m]\u001b[0m\u001b[0;34m\u001b[0m\u001b[0;34m\u001b[0m\u001b[0m\n",
            "\u001b[0;32m/usr/local/lib/python3.6/dist-packages/pandas/core/indexes/base.py\u001b[0m in \u001b[0;36mget_loc\u001b[0;34m(self, key, method, tolerance)\u001b[0m\n\u001b[1;32m   2897\u001b[0m                 \u001b[0;32mreturn\u001b[0m \u001b[0mself\u001b[0m\u001b[0;34m.\u001b[0m\u001b[0m_engine\u001b[0m\u001b[0;34m.\u001b[0m\u001b[0mget_loc\u001b[0m\u001b[0;34m(\u001b[0m\u001b[0mkey\u001b[0m\u001b[0;34m)\u001b[0m\u001b[0;34m\u001b[0m\u001b[0;34m\u001b[0m\u001b[0m\n\u001b[1;32m   2898\u001b[0m             \u001b[0;32mexcept\u001b[0m \u001b[0mKeyError\u001b[0m\u001b[0;34m:\u001b[0m\u001b[0;34m\u001b[0m\u001b[0;34m\u001b[0m\u001b[0m\n\u001b[0;32m-> 2899\u001b[0;31m                 \u001b[0;32mreturn\u001b[0m \u001b[0mself\u001b[0m\u001b[0;34m.\u001b[0m\u001b[0m_engine\u001b[0m\u001b[0;34m.\u001b[0m\u001b[0mget_loc\u001b[0m\u001b[0;34m(\u001b[0m\u001b[0mself\u001b[0m\u001b[0;34m.\u001b[0m\u001b[0m_maybe_cast_indexer\u001b[0m\u001b[0;34m(\u001b[0m\u001b[0mkey\u001b[0m\u001b[0;34m)\u001b[0m\u001b[0;34m)\u001b[0m\u001b[0;34m\u001b[0m\u001b[0;34m\u001b[0m\u001b[0m\n\u001b[0m\u001b[1;32m   2900\u001b[0m         \u001b[0mindexer\u001b[0m \u001b[0;34m=\u001b[0m \u001b[0mself\u001b[0m\u001b[0;34m.\u001b[0m\u001b[0mget_indexer\u001b[0m\u001b[0;34m(\u001b[0m\u001b[0;34m[\u001b[0m\u001b[0mkey\u001b[0m\u001b[0;34m]\u001b[0m\u001b[0;34m,\u001b[0m \u001b[0mmethod\u001b[0m\u001b[0;34m=\u001b[0m\u001b[0mmethod\u001b[0m\u001b[0;34m,\u001b[0m \u001b[0mtolerance\u001b[0m\u001b[0;34m=\u001b[0m\u001b[0mtolerance\u001b[0m\u001b[0;34m)\u001b[0m\u001b[0;34m\u001b[0m\u001b[0;34m\u001b[0m\u001b[0m\n\u001b[1;32m   2901\u001b[0m         \u001b[0;32mif\u001b[0m \u001b[0mindexer\u001b[0m\u001b[0;34m.\u001b[0m\u001b[0mndim\u001b[0m \u001b[0;34m>\u001b[0m \u001b[0;36m1\u001b[0m \u001b[0;32mor\u001b[0m \u001b[0mindexer\u001b[0m\u001b[0;34m.\u001b[0m\u001b[0msize\u001b[0m \u001b[0;34m>\u001b[0m \u001b[0;36m1\u001b[0m\u001b[0;34m:\u001b[0m\u001b[0;34m\u001b[0m\u001b[0;34m\u001b[0m\u001b[0m\n",
            "\u001b[0;32mpandas/_libs/index.pyx\u001b[0m in \u001b[0;36mpandas._libs.index.IndexEngine.get_loc\u001b[0;34m()\u001b[0m\n",
            "\u001b[0;32mpandas/_libs/index.pyx\u001b[0m in \u001b[0;36mpandas._libs.index.IndexEngine.get_loc\u001b[0;34m()\u001b[0m\n",
            "\u001b[0;32mpandas/_libs/hashtable_class_helper.pxi\u001b[0m in \u001b[0;36mpandas._libs.hashtable.PyObjectHashTable.get_item\u001b[0;34m()\u001b[0m\n",
            "\u001b[0;32mpandas/_libs/hashtable_class_helper.pxi\u001b[0m in \u001b[0;36mpandas._libs.hashtable.PyObjectHashTable.get_item\u001b[0;34m()\u001b[0m\n",
            "\u001b[0;31mKeyError\u001b[0m: 0"
          ]
        }
      ]
    },
    {
      "cell_type": "code",
      "metadata": {
        "id": "4xJq_Z44hl7n",
        "colab_type": "code",
        "colab": {}
      },
      "source": [
        ""
      ],
      "execution_count": 0,
      "outputs": []
    }
  ]
}