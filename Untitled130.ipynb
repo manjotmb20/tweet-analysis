{
  "nbformat": 4,
  "nbformat_minor": 0,
  "metadata": {
    "colab": {
      "name": "Untitled130.ipynb",
      "provenance": [],
      "collapsed_sections": [],
      "include_colab_link": true
    },
    "kernelspec": {
      "name": "python3",
      "display_name": "Python 3"
    },
    "accelerator": "GPU"
  },
  "cells": [
    {
      "cell_type": "markdown",
      "metadata": {
        "id": "view-in-github",
        "colab_type": "text"
      },
      "source": [
        "<a href=\"https://colab.research.google.com/github/manjotmb20/tweet-analysis/blob/master/Untitled130.ipynb\" target=\"_parent\"><img src=\"https://colab.research.google.com/assets/colab-badge.svg\" alt=\"Open In Colab\"/></a>"
      ]
    },
    {
      "cell_type": "code",
      "metadata": {
        "id": "5Zj_4LWfAHZu",
        "colab_type": "code",
        "colab": {}
      },
      "source": [
        "import pandas as pd\n",
        "import numpy as np"
      ],
      "execution_count": 0,
      "outputs": []
    },
    {
      "cell_type": "code",
      "metadata": {
        "id": "nz6e0hRgAwo4",
        "colab_type": "code",
        "colab": {}
      },
      "source": [
        "df=pd.read_csv(\"tweets.csv\")"
      ],
      "execution_count": 0,
      "outputs": []
    },
    {
      "cell_type": "code",
      "metadata": {
        "id": "wPeiHcu1A0ZD",
        "colab_type": "code",
        "outputId": "4ac446ce-c316-4d11-eba8-f3f3a5e80a26",
        "colab": {
          "base_uri": "https://localhost:8080/",
          "height": 496
        }
      },
      "source": [
        "df.head()"
      ],
      "execution_count": 34,
      "outputs": [
        {
          "output_type": "execute_result",
          "data": {
            "text/html": [
              "<div>\n",
              "<style scoped>\n",
              "    .dataframe tbody tr th:only-of-type {\n",
              "        vertical-align: middle;\n",
              "    }\n",
              "\n",
              "    .dataframe tbody tr th {\n",
              "        vertical-align: top;\n",
              "    }\n",
              "\n",
              "    .dataframe thead th {\n",
              "        text-align: right;\n",
              "    }\n",
              "</style>\n",
              "<table border=\"1\" class=\"dataframe\">\n",
              "  <thead>\n",
              "    <tr style=\"text-align: right;\">\n",
              "      <th></th>\n",
              "      <th>Unnamed: 0</th>\n",
              "      <th>tweet_text</th>\n",
              "      <th>creation_time</th>\n",
              "      <th>num_hashtags</th>\n",
              "      <th>num_symbols</th>\n",
              "      <th>num_user_mentions</th>\n",
              "      <th>num_urls</th>\n",
              "      <th>retweet_count</th>\n",
              "      <th>favorite_count</th>\n",
              "      <th>source</th>\n",
              "      <th>lang</th>\n",
              "      <th>source_user_followers_count</th>\n",
              "      <th>source_user_friends_count</th>\n",
              "      <th>source_user_statuses_count</th>\n",
              "      <th>source_user_geo_enabled</th>\n",
              "      <th>source_user_verified</th>\n",
              "      <th>label</th>\n",
              "    </tr>\n",
              "  </thead>\n",
              "  <tbody>\n",
              "    <tr>\n",
              "      <th>0</th>\n",
              "      <td>0</td>\n",
              "      <td>URL schemes that Sileo supports, so you can be...</td>\n",
              "      <td>Fri Apr 26 18:17:41 +0000 2019</td>\n",
              "      <td>0.0</td>\n",
              "      <td>0.0</td>\n",
              "      <td>0.0</td>\n",
              "      <td>0.0</td>\n",
              "      <td>12.0</td>\n",
              "      <td>31</td>\n",
              "      <td>&lt;a href=\"http://twitter.com/download/android\" ...</td>\n",
              "      <td>en</td>\n",
              "      <td>2032.0</td>\n",
              "      <td>309.0</td>\n",
              "      <td>9866</td>\n",
              "      <td>True</td>\n",
              "      <td>False</td>\n",
              "      <td>Collusive</td>\n",
              "    </tr>\n",
              "    <tr>\n",
              "      <th>1</th>\n",
              "      <td>1</td>\n",
              "      <td>RT @TheLifeDiaries: Never compare your life to...</td>\n",
              "      <td>Thu Feb 28 05:28:01 +0000 2013</td>\n",
              "      <td>0.0</td>\n",
              "      <td>0.0</td>\n",
              "      <td>1.0</td>\n",
              "      <td>0.0</td>\n",
              "      <td>1036.0</td>\n",
              "      <td>0</td>\n",
              "      <td>&lt;a href=\"http://twitter.com/download/iphone\" r...</td>\n",
              "      <td>en</td>\n",
              "      <td>202.0</td>\n",
              "      <td>368.0</td>\n",
              "      <td>628</td>\n",
              "      <td>False</td>\n",
              "      <td>False</td>\n",
              "      <td>Genuine</td>\n",
              "    </tr>\n",
              "    <tr>\n",
              "      <th>2</th>\n",
              "      <td>2</td>\n",
              "      <td>Sneak Attack on Skybase👀🤖 #Fortnite #GameofGam...</td>\n",
              "      <td>Sun Jan 20 15:56:32 +0000 2019</td>\n",
              "      <td>3.0</td>\n",
              "      <td>0.0</td>\n",
              "      <td>0.0</td>\n",
              "      <td>0.0</td>\n",
              "      <td>9.0</td>\n",
              "      <td>9</td>\n",
              "      <td>&lt;a href=\"http://twitter.com/download/android\" ...</td>\n",
              "      <td>en</td>\n",
              "      <td>324.0</td>\n",
              "      <td>796.0</td>\n",
              "      <td>103</td>\n",
              "      <td>False</td>\n",
              "      <td>False</td>\n",
              "      <td>Collusive</td>\n",
              "    </tr>\n",
              "    <tr>\n",
              "      <th>3</th>\n",
              "      <td>3</td>\n",
              "      <td>#Meeseva Apply, Online, Centers, Services, App...</td>\n",
              "      <td>Sat Feb 02 10:16:47 +0000 2019</td>\n",
              "      <td>1.0</td>\n",
              "      <td>0.0</td>\n",
              "      <td>0.0</td>\n",
              "      <td>1.0</td>\n",
              "      <td>159.0</td>\n",
              "      <td>34</td>\n",
              "      <td>&lt;a href=\"http://twitter.com\" rel=\"nofollow\"&gt;Tw...</td>\n",
              "      <td>en</td>\n",
              "      <td>57.0</td>\n",
              "      <td>1640.0</td>\n",
              "      <td>249</td>\n",
              "      <td>False</td>\n",
              "      <td>False</td>\n",
              "      <td>Collusive</td>\n",
              "    </tr>\n",
              "    <tr>\n",
              "      <th>4</th>\n",
              "      <td>4</td>\n",
              "      <td>RT @Linformatrice: Ceux qui n'étaient présents...</td>\n",
              "      <td>Wed Dec 13 10:04:23 +0000 2017</td>\n",
              "      <td>0.0</td>\n",
              "      <td>0.0</td>\n",
              "      <td>1.0</td>\n",
              "      <td>0.0</td>\n",
              "      <td>190.0</td>\n",
              "      <td>0</td>\n",
              "      <td>&lt;a href=\"http://twitter.com/download/android\" ...</td>\n",
              "      <td>fr</td>\n",
              "      <td>620.0</td>\n",
              "      <td>2591.0</td>\n",
              "      <td>12682</td>\n",
              "      <td>False</td>\n",
              "      <td>False</td>\n",
              "      <td>Genuine</td>\n",
              "    </tr>\n",
              "  </tbody>\n",
              "</table>\n",
              "</div>"
            ],
            "text/plain": [
              "  Unnamed: 0  ...      label\n",
              "0          0  ...  Collusive\n",
              "1          1  ...    Genuine\n",
              "2          2  ...  Collusive\n",
              "3          3  ...  Collusive\n",
              "4          4  ...    Genuine\n",
              "\n",
              "[5 rows x 17 columns]"
            ]
          },
          "metadata": {
            "tags": []
          },
          "execution_count": 34
        }
      ]
    },
    {
      "cell_type": "code",
      "metadata": {
        "id": "Q-WccPHlA3MS",
        "colab_type": "code",
        "colab": {}
      },
      "source": [
        "tweetlist=df['tweet_text']"
      ],
      "execution_count": 0,
      "outputs": []
    },
    {
      "cell_type": "code",
      "metadata": {
        "id": "LArxeS7UMx0t",
        "colab_type": "code",
        "outputId": "8b03b90f-4310-4fba-f8db-16d98749b7e9",
        "colab": {
          "base_uri": "https://localhost:8080/",
          "height": 34
        }
      },
      "source": [
        "len(tweetlist)"
      ],
      "execution_count": 36,
      "outputs": [
        {
          "output_type": "execute_result",
          "data": {
            "text/plain": [
              "10002"
            ]
          },
          "metadata": {
            "tags": []
          },
          "execution_count": 36
        }
      ]
    },
    {
      "cell_type": "code",
      "metadata": {
        "id": "G-QT-elBPhIK",
        "colab_type": "code",
        "outputId": "4ac07c41-0cd4-4b2a-8bdd-fb1ed203d038",
        "colab": {
          "base_uri": "https://localhost:8080/",
          "height": 34
        }
      },
      "source": [
        "!pip install tweet-preprocessor"
      ],
      "execution_count": 37,
      "outputs": [
        {
          "output_type": "stream",
          "text": [
            "Requirement already satisfied: tweet-preprocessor in /usr/local/lib/python3.6/dist-packages (0.5.0)\n"
          ],
          "name": "stdout"
        }
      ]
    },
    {
      "cell_type": "code",
      "metadata": {
        "id": "kS_tm0mRM5mH",
        "colab_type": "code",
        "colab": {}
      },
      "source": [
        "import preprocessor as p"
      ],
      "execution_count": 0,
      "outputs": []
    },
    {
      "cell_type": "code",
      "metadata": {
        "id": "vGW1whgxskOT",
        "colab_type": "code",
        "colab": {}
      },
      "source": [
        "y=\"RT @TheLifeDiaries: Never compare your life https://tyygyfg.com to others. You have no idea what their journey https://hwuhdu.com all about.\""
      ],
      "execution_count": 0,
      "outputs": []
    },
    {
      "cell_type": "code",
      "metadata": {
        "id": "fR2uAsplPc7t",
        "colab_type": "code",
        "colab": {}
      },
      "source": [
        "t=p.parse(y)"
      ],
      "execution_count": 0,
      "outputs": []
    },
    {
      "cell_type": "code",
      "metadata": {
        "id": "6PIKgRTW2cC3",
        "colab_type": "code",
        "colab": {}
      },
      "source": [
        "c=type(None)"
      ],
      "execution_count": 0,
      "outputs": []
    },
    {
      "cell_type": "code",
      "metadata": {
        "id": "mZ5dMqun8ExO",
        "colab_type": "code",
        "colab": {
          "base_uri": "https://localhost:8080/",
          "height": 34
        },
        "outputId": "58f88341-0bc8-4d79-ae74-8863dbbcaea7"
      },
      "source": [
        "t."
      ],
      "execution_count": 62,
      "outputs": [
        {
          "output_type": "execute_result",
          "data": {
            "text/plain": [
              "[(44:63) => https://tyygyfg.com, (111:129) => https://hwuhdu.com]"
            ]
          },
          "metadata": {
            "tags": []
          },
          "execution_count": 62
        }
      ]
    },
    {
      "cell_type": "code",
      "metadata": {
        "id": "Hai2mNNiPwfX",
        "colab_type": "code",
        "colab": {}
      },
      "source": [
        "if type(t.urls) is c:\n",
        "  print(\"yes\")"
      ],
      "execution_count": 0,
      "outputs": []
    },
    {
      "cell_type": "code",
      "metadata": {
        "id": "mbB_XI4jRL03",
        "colab_type": "code",
        "colab": {
          "base_uri": "https://localhost:8080/",
          "height": 163
        },
        "outputId": "f90d38a3-9bfe-4690-cf22-daab46cd6690"
      },
      "source": [
        ""
      ],
      "execution_count": 43,
      "outputs": [
        {
          "output_type": "error",
          "ename": "TypeError",
          "evalue": "ignored",
          "traceback": [
            "\u001b[0;31m---------------------------------------------------------------------------\u001b[0m",
            "\u001b[0;31mTypeError\u001b[0m                                 Traceback (most recent call last)",
            "\u001b[0;32m<ipython-input-43-d36621e6c895>\u001b[0m in \u001b[0;36m<module>\u001b[0;34m()\u001b[0m\n\u001b[0;32m----> 1\u001b[0;31m \u001b[0mlen\u001b[0m\u001b[0;34m(\u001b[0m\u001b[0mt\u001b[0m\u001b[0;34m.\u001b[0m\u001b[0murls\u001b[0m\u001b[0;34m)\u001b[0m\u001b[0;34m\u001b[0m\u001b[0;34m\u001b[0m\u001b[0m\n\u001b[0m",
            "\u001b[0;31mTypeError\u001b[0m: object of type 'NoneType' has no len()"
          ]
        }
      ]
    },
    {
      "cell_type": "code",
      "metadata": {
        "id": "DAV6TMILri6g",
        "colab_type": "code",
        "colab": {}
      },
      "source": [
        ""
      ],
      "execution_count": 0,
      "outputs": []
    }
  ]
}