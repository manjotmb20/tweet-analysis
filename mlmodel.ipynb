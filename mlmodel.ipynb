{
  "nbformat": 4,
  "nbformat_minor": 0,
  "metadata": {
    "colab": {
      "name": "mlmodel.ipynb",
      "provenance": [],
      "collapsed_sections": [],
      "include_colab_link": true
    },
    "kernelspec": {
      "name": "python3",
      "display_name": "Python 3"
    },
    "accelerator": "GPU"
  },
  "cells": [
    {
      "cell_type": "markdown",
      "metadata": {
        "id": "view-in-github",
        "colab_type": "text"
      },
      "source": [
        "<a href=\"https://colab.research.google.com/github/manjotmb20/tweet-analysis/blob/master/mlmodel.ipynb\" target=\"_parent\"><img src=\"https://colab.research.google.com/assets/colab-badge.svg\" alt=\"Open In Colab\"/></a>"
      ]
    },
    {
      "cell_type": "code",
      "metadata": {
        "id": "9ojhU7Uk4ilX",
        "colab_type": "code",
        "colab": {}
      },
      "source": [
        "import re\n",
        "import pandas as pd \n",
        "import numpy as np \n",
        "import matplotlib.pyplot as plt \n",
        "import seaborn as sns\n",
        "import string\n",
        "import nltk\n",
        "import pandas as pd\n",
        "from bs4 import BeautifulSoup\n",
        "from sklearn.preprocessing import StandardScaler\n",
        "from sklearn.preprocessing import MinMaxScaler\n",
        "from sklearn.preprocessing import LabelEncoder"
      ],
      "execution_count": 0,
      "outputs": []
    },
    {
      "cell_type": "code",
      "metadata": {
        "id": "FxsVOwZI4uv7",
        "colab_type": "code",
        "colab": {}
      },
      "source": [
        "df=pd.read_csv(\"tweets.csv\")"
      ],
      "execution_count": 0,
      "outputs": []
    },
    {
      "cell_type": "code",
      "metadata": {
        "id": "ponV77KicyUO",
        "colab_type": "code",
        "outputId": "aa2454b6-0cc1-4549-dee5-f7e9e5e3d304",
        "colab": {
          "base_uri": "https://localhost:8080/",
          "height": 323
        }
      },
      "source": [
        "df.dtypes"
      ],
      "execution_count": 137,
      "outputs": [
        {
          "output_type": "execute_result",
          "data": {
            "text/plain": [
              "Unnamed: 0                      object\n",
              "tweet_text                      object\n",
              "creation_time                   object\n",
              "num_hashtags                   float64\n",
              "num_symbols                    float64\n",
              "num_user_mentions              float64\n",
              "num_urls                       float64\n",
              "retweet_count                  float64\n",
              "favorite_count                  object\n",
              "source                          object\n",
              "lang                            object\n",
              "source_user_followers_count    float64\n",
              "source_user_friends_count      float64\n",
              "source_user_statuses_count      object\n",
              "source_user_geo_enabled         object\n",
              "source_user_verified            object\n",
              "label                           object\n",
              "dtype: object"
            ]
          },
          "metadata": {
            "tags": []
          },
          "execution_count": 137
        }
      ]
    },
    {
      "cell_type": "code",
      "metadata": {
        "id": "WDPAxa0z42DX",
        "colab_type": "code",
        "colab": {}
      },
      "source": [
        "def remove_pattern(input_text,pattern):\n",
        "  r=re.findall(pattern,input_text)\n",
        "  for i in r:\n",
        "    input_text=re.sub(i, '',input_text)\n",
        "  return input_text  \n"
      ],
      "execution_count": 0,
      "outputs": []
    },
    {
      "cell_type": "code",
      "metadata": {
        "id": "Om73-JTx6ygk",
        "colab_type": "code",
        "colab": {}
      },
      "source": [
        "clean_tweet=[]\n",
        "for row in df[\"tweet_text\"]:\n",
        "  clean_tweet.append(np.vectorize(remove_pattern)(row,\"@[\\w]*\"))"
      ],
      "execution_count": 0,
      "outputs": []
    },
    {
      "cell_type": "code",
      "metadata": {
        "id": "-LU8SDl-7S1s",
        "colab_type": "code",
        "colab": {}
      },
      "source": [
        "df[\"clean_tweet\"]=clean_tweet"
      ],
      "execution_count": 0,
      "outputs": []
    },
    {
      "cell_type": "code",
      "metadata": {
        "id": "-f0FCNSZ7VHT",
        "colab_type": "code",
        "colab": {}
      },
      "source": [
        ""
      ],
      "execution_count": 0,
      "outputs": []
    },
    {
      "cell_type": "code",
      "metadata": {
        "id": "CT5x2trL7v47",
        "colab_type": "code",
        "outputId": "1e38c7fe-dcf5-419d-bde9-c369b70c3f91",
        "colab": {
          "base_uri": "https://localhost:8080/",
          "height": 34
        }
      },
      "source": [
        "!pip install tweet-preprocessor"
      ],
      "execution_count": 141,
      "outputs": [
        {
          "output_type": "stream",
          "text": [
            "Requirement already satisfied: tweet-preprocessor in /usr/local/lib/python3.6/dist-packages (0.5.0)\n"
          ],
          "name": "stdout"
        }
      ]
    },
    {
      "cell_type": "code",
      "metadata": {
        "id": "3LHzfyKS-YKI",
        "colab_type": "code",
        "colab": {}
      },
      "source": [
        "import preprocessor as p"
      ],
      "execution_count": 0,
      "outputs": []
    },
    {
      "cell_type": "code",
      "metadata": {
        "id": "4qFiVzWV8zd9",
        "colab_type": "code",
        "colab": {}
      },
      "source": [
        "c=type(None)\n",
        "index=0\n",
        "def urlpresent(input_text):\n",
        "  t_parse=p.parse(input_text)\n",
        "  if type(t_parse.urls) is not c:\n",
        "    index=1\n",
        "  else:\n",
        "    index=0\n",
        "  return index\n",
        "  "
      ],
      "execution_count": 0,
      "outputs": []
    },
    {
      "cell_type": "code",
      "metadata": {
        "id": "6HBQQhtEVKnr",
        "colab_type": "code",
        "colab": {}
      },
      "source": [
        "test=df[\"clean_tweet\"][0]"
      ],
      "execution_count": 0,
      "outputs": []
    },
    {
      "cell_type": "code",
      "metadata": {
        "id": "ShjXUKj6VY_s",
        "colab_type": "code",
        "outputId": "61941544-ce5a-4003-d9ee-075f1ed339c6",
        "colab": {
          "base_uri": "https://localhost:8080/",
          "height": 34
        }
      },
      "source": [
        "type(test)"
      ],
      "execution_count": 145,
      "outputs": [
        {
          "output_type": "execute_result",
          "data": {
            "text/plain": [
              "numpy.ndarray"
            ]
          },
          "metadata": {
            "tags": []
          },
          "execution_count": 145
        }
      ]
    },
    {
      "cell_type": "code",
      "metadata": {
        "id": "eRPhAN2E-EVv",
        "colab_type": "code",
        "colab": {}
      },
      "source": [
        "tlist=[]\n",
        "for row in df[\"tweet_text\"]:\n",
        "  tlist.append(urlpresent(row))\n",
        "df[\"url_present\"] =tlist "
      ],
      "execution_count": 0,
      "outputs": []
    },
    {
      "cell_type": "code",
      "metadata": {
        "id": "TgEijVEXYGYt",
        "colab_type": "code",
        "colab": {}
      },
      "source": [
        "df.drop('creation_time',axis=1,inplace=True)"
      ],
      "execution_count": 0,
      "outputs": []
    },
    {
      "cell_type": "code",
      "metadata": {
        "id": "zGefQYuoXVUR",
        "colab_type": "code",
        "outputId": "aa3562a8-9e06-4dbb-9752-2f30bee5977c",
        "colab": {
          "base_uri": "https://localhost:8080/",
          "height": 513
        }
      },
      "source": [
        "df.head()"
      ],
      "execution_count": 148,
      "outputs": [
        {
          "output_type": "execute_result",
          "data": {
            "text/html": [
              "<div>\n",
              "<style scoped>\n",
              "    .dataframe tbody tr th:only-of-type {\n",
              "        vertical-align: middle;\n",
              "    }\n",
              "\n",
              "    .dataframe tbody tr th {\n",
              "        vertical-align: top;\n",
              "    }\n",
              "\n",
              "    .dataframe thead th {\n",
              "        text-align: right;\n",
              "    }\n",
              "</style>\n",
              "<table border=\"1\" class=\"dataframe\">\n",
              "  <thead>\n",
              "    <tr style=\"text-align: right;\">\n",
              "      <th></th>\n",
              "      <th>Unnamed: 0</th>\n",
              "      <th>tweet_text</th>\n",
              "      <th>num_hashtags</th>\n",
              "      <th>num_symbols</th>\n",
              "      <th>num_user_mentions</th>\n",
              "      <th>num_urls</th>\n",
              "      <th>retweet_count</th>\n",
              "      <th>favorite_count</th>\n",
              "      <th>source</th>\n",
              "      <th>lang</th>\n",
              "      <th>source_user_followers_count</th>\n",
              "      <th>source_user_friends_count</th>\n",
              "      <th>source_user_statuses_count</th>\n",
              "      <th>source_user_geo_enabled</th>\n",
              "      <th>source_user_verified</th>\n",
              "      <th>label</th>\n",
              "      <th>clean_tweet</th>\n",
              "      <th>url_present</th>\n",
              "    </tr>\n",
              "  </thead>\n",
              "  <tbody>\n",
              "    <tr>\n",
              "      <th>0</th>\n",
              "      <td>0</td>\n",
              "      <td>URL schemes that Sileo supports, so you can be...</td>\n",
              "      <td>0.0</td>\n",
              "      <td>0.0</td>\n",
              "      <td>0.0</td>\n",
              "      <td>0.0</td>\n",
              "      <td>12.0</td>\n",
              "      <td>31</td>\n",
              "      <td>&lt;a href=\"http://twitter.com/download/android\" ...</td>\n",
              "      <td>en</td>\n",
              "      <td>2032.0</td>\n",
              "      <td>309.0</td>\n",
              "      <td>9866</td>\n",
              "      <td>True</td>\n",
              "      <td>False</td>\n",
              "      <td>Collusive</td>\n",
              "      <td>URL schemes that Sileo supports, so you can be...</td>\n",
              "      <td>0</td>\n",
              "    </tr>\n",
              "    <tr>\n",
              "      <th>1</th>\n",
              "      <td>1</td>\n",
              "      <td>RT @TheLifeDiaries: Never compare your life to...</td>\n",
              "      <td>0.0</td>\n",
              "      <td>0.0</td>\n",
              "      <td>1.0</td>\n",
              "      <td>0.0</td>\n",
              "      <td>1036.0</td>\n",
              "      <td>0</td>\n",
              "      <td>&lt;a href=\"http://twitter.com/download/iphone\" r...</td>\n",
              "      <td>en</td>\n",
              "      <td>202.0</td>\n",
              "      <td>368.0</td>\n",
              "      <td>628</td>\n",
              "      <td>False</td>\n",
              "      <td>False</td>\n",
              "      <td>Genuine</td>\n",
              "      <td>RT : Never compare your life to others. You ha...</td>\n",
              "      <td>0</td>\n",
              "    </tr>\n",
              "    <tr>\n",
              "      <th>2</th>\n",
              "      <td>2</td>\n",
              "      <td>Sneak Attack on Skybase👀🤖 #Fortnite #GameofGam...</td>\n",
              "      <td>3.0</td>\n",
              "      <td>0.0</td>\n",
              "      <td>0.0</td>\n",
              "      <td>0.0</td>\n",
              "      <td>9.0</td>\n",
              "      <td>9</td>\n",
              "      <td>&lt;a href=\"http://twitter.com/download/android\" ...</td>\n",
              "      <td>en</td>\n",
              "      <td>324.0</td>\n",
              "      <td>796.0</td>\n",
              "      <td>103</td>\n",
              "      <td>False</td>\n",
              "      <td>False</td>\n",
              "      <td>Collusive</td>\n",
              "      <td>Sneak Attack on Skybase👀🤖 #Fortnite #GameofGam...</td>\n",
              "      <td>1</td>\n",
              "    </tr>\n",
              "    <tr>\n",
              "      <th>3</th>\n",
              "      <td>3</td>\n",
              "      <td>#Meeseva Apply, Online, Centers, Services, App...</td>\n",
              "      <td>1.0</td>\n",
              "      <td>0.0</td>\n",
              "      <td>0.0</td>\n",
              "      <td>1.0</td>\n",
              "      <td>159.0</td>\n",
              "      <td>34</td>\n",
              "      <td>&lt;a href=\"http://twitter.com\" rel=\"nofollow\"&gt;Tw...</td>\n",
              "      <td>en</td>\n",
              "      <td>57.0</td>\n",
              "      <td>1640.0</td>\n",
              "      <td>249</td>\n",
              "      <td>False</td>\n",
              "      <td>False</td>\n",
              "      <td>Collusive</td>\n",
              "      <td>#Meeseva Apply, Online, Centers, Services, App...</td>\n",
              "      <td>1</td>\n",
              "    </tr>\n",
              "    <tr>\n",
              "      <th>4</th>\n",
              "      <td>4</td>\n",
              "      <td>RT @Linformatrice: Ceux qui n'étaient présents...</td>\n",
              "      <td>0.0</td>\n",
              "      <td>0.0</td>\n",
              "      <td>1.0</td>\n",
              "      <td>0.0</td>\n",
              "      <td>190.0</td>\n",
              "      <td>0</td>\n",
              "      <td>&lt;a href=\"http://twitter.com/download/android\" ...</td>\n",
              "      <td>fr</td>\n",
              "      <td>620.0</td>\n",
              "      <td>2591.0</td>\n",
              "      <td>12682</td>\n",
              "      <td>False</td>\n",
              "      <td>False</td>\n",
              "      <td>Genuine</td>\n",
              "      <td>RT : Ceux qui n'étaient présents à l'hommage n...</td>\n",
              "      <td>0</td>\n",
              "    </tr>\n",
              "  </tbody>\n",
              "</table>\n",
              "</div>"
            ],
            "text/plain": [
              "  Unnamed: 0  ... url_present\n",
              "0          0  ...           0\n",
              "1          1  ...           0\n",
              "2          2  ...           1\n",
              "3          3  ...           1\n",
              "4          4  ...           0\n",
              "\n",
              "[5 rows x 18 columns]"
            ]
          },
          "metadata": {
            "tags": []
          },
          "execution_count": 148
        }
      ]
    },
    {
      "cell_type": "code",
      "metadata": {
        "id": "qUxphDZ2drYD",
        "colab_type": "code",
        "outputId": "eca82ff1-37c9-4486-a08d-422f25a6c444",
        "colab": {
          "base_uri": "https://localhost:8080/",
          "height": 34
        }
      },
      "source": [
        "y=\"Sneak Attack on Skybas #Fortnite #GameofGame\"\n",
        "\n",
        "t=p.parse(y)\n",
        "type(t.emojis)"
      ],
      "execution_count": 149,
      "outputs": [
        {
          "output_type": "execute_result",
          "data": {
            "text/plain": [
              "NoneType"
            ]
          },
          "metadata": {
            "tags": []
          },
          "execution_count": 149
        }
      ]
    },
    {
      "cell_type": "code",
      "metadata": {
        "id": "8yK8Rmnb-WfN",
        "colab_type": "code",
        "colab": {}
      },
      "source": [
        "c=type(None)\n",
        "index=\"\"\n",
        "def emojipresent(input_text):\n",
        "  t_parse=p.parse(input_text)\n",
        "  if type(t_parse.emojis) is not c:\n",
        "    index=\"Emoji\"\n",
        "  else:\n",
        "    index=\"NoEmoji\"\n",
        "  return index"
      ],
      "execution_count": 0,
      "outputs": []
    },
    {
      "cell_type": "code",
      "metadata": {
        "id": "KNjcj2_HfoJu",
        "colab_type": "code",
        "colab": {}
      },
      "source": [
        "tlist=[]\n",
        "for row in df[\"tweet_text\"]:\n",
        "  tlist.append(emojipresent(row))\n",
        "df[\"emoji_present\"] =tlist "
      ],
      "execution_count": 0,
      "outputs": []
    },
    {
      "cell_type": "code",
      "metadata": {
        "id": "pfYqPtNvfuGO",
        "colab_type": "code",
        "outputId": "06665120-1bdf-4551-e1ed-a641407c851f",
        "colab": {
          "base_uri": "https://localhost:8080/",
          "height": 513
        }
      },
      "source": [
        "df.head()"
      ],
      "execution_count": 152,
      "outputs": [
        {
          "output_type": "execute_result",
          "data": {
            "text/html": [
              "<div>\n",
              "<style scoped>\n",
              "    .dataframe tbody tr th:only-of-type {\n",
              "        vertical-align: middle;\n",
              "    }\n",
              "\n",
              "    .dataframe tbody tr th {\n",
              "        vertical-align: top;\n",
              "    }\n",
              "\n",
              "    .dataframe thead th {\n",
              "        text-align: right;\n",
              "    }\n",
              "</style>\n",
              "<table border=\"1\" class=\"dataframe\">\n",
              "  <thead>\n",
              "    <tr style=\"text-align: right;\">\n",
              "      <th></th>\n",
              "      <th>Unnamed: 0</th>\n",
              "      <th>tweet_text</th>\n",
              "      <th>num_hashtags</th>\n",
              "      <th>num_symbols</th>\n",
              "      <th>num_user_mentions</th>\n",
              "      <th>num_urls</th>\n",
              "      <th>retweet_count</th>\n",
              "      <th>favorite_count</th>\n",
              "      <th>source</th>\n",
              "      <th>lang</th>\n",
              "      <th>source_user_followers_count</th>\n",
              "      <th>source_user_friends_count</th>\n",
              "      <th>source_user_statuses_count</th>\n",
              "      <th>source_user_geo_enabled</th>\n",
              "      <th>source_user_verified</th>\n",
              "      <th>label</th>\n",
              "      <th>clean_tweet</th>\n",
              "      <th>url_present</th>\n",
              "      <th>emoji_present</th>\n",
              "    </tr>\n",
              "  </thead>\n",
              "  <tbody>\n",
              "    <tr>\n",
              "      <th>0</th>\n",
              "      <td>0</td>\n",
              "      <td>URL schemes that Sileo supports, so you can be...</td>\n",
              "      <td>0.0</td>\n",
              "      <td>0.0</td>\n",
              "      <td>0.0</td>\n",
              "      <td>0.0</td>\n",
              "      <td>12.0</td>\n",
              "      <td>31</td>\n",
              "      <td>&lt;a href=\"http://twitter.com/download/android\" ...</td>\n",
              "      <td>en</td>\n",
              "      <td>2032.0</td>\n",
              "      <td>309.0</td>\n",
              "      <td>9866</td>\n",
              "      <td>True</td>\n",
              "      <td>False</td>\n",
              "      <td>Collusive</td>\n",
              "      <td>URL schemes that Sileo supports, so you can be...</td>\n",
              "      <td>0</td>\n",
              "      <td>NoEmoji</td>\n",
              "    </tr>\n",
              "    <tr>\n",
              "      <th>1</th>\n",
              "      <td>1</td>\n",
              "      <td>RT @TheLifeDiaries: Never compare your life to...</td>\n",
              "      <td>0.0</td>\n",
              "      <td>0.0</td>\n",
              "      <td>1.0</td>\n",
              "      <td>0.0</td>\n",
              "      <td>1036.0</td>\n",
              "      <td>0</td>\n",
              "      <td>&lt;a href=\"http://twitter.com/download/iphone\" r...</td>\n",
              "      <td>en</td>\n",
              "      <td>202.0</td>\n",
              "      <td>368.0</td>\n",
              "      <td>628</td>\n",
              "      <td>False</td>\n",
              "      <td>False</td>\n",
              "      <td>Genuine</td>\n",
              "      <td>RT : Never compare your life to others. You ha...</td>\n",
              "      <td>0</td>\n",
              "      <td>NoEmoji</td>\n",
              "    </tr>\n",
              "    <tr>\n",
              "      <th>2</th>\n",
              "      <td>2</td>\n",
              "      <td>Sneak Attack on Skybase👀🤖 #Fortnite #GameofGam...</td>\n",
              "      <td>3.0</td>\n",
              "      <td>0.0</td>\n",
              "      <td>0.0</td>\n",
              "      <td>0.0</td>\n",
              "      <td>9.0</td>\n",
              "      <td>9</td>\n",
              "      <td>&lt;a href=\"http://twitter.com/download/android\" ...</td>\n",
              "      <td>en</td>\n",
              "      <td>324.0</td>\n",
              "      <td>796.0</td>\n",
              "      <td>103</td>\n",
              "      <td>False</td>\n",
              "      <td>False</td>\n",
              "      <td>Collusive</td>\n",
              "      <td>Sneak Attack on Skybase👀🤖 #Fortnite #GameofGam...</td>\n",
              "      <td>1</td>\n",
              "      <td>Emoji</td>\n",
              "    </tr>\n",
              "    <tr>\n",
              "      <th>3</th>\n",
              "      <td>3</td>\n",
              "      <td>#Meeseva Apply, Online, Centers, Services, App...</td>\n",
              "      <td>1.0</td>\n",
              "      <td>0.0</td>\n",
              "      <td>0.0</td>\n",
              "      <td>1.0</td>\n",
              "      <td>159.0</td>\n",
              "      <td>34</td>\n",
              "      <td>&lt;a href=\"http://twitter.com\" rel=\"nofollow\"&gt;Tw...</td>\n",
              "      <td>en</td>\n",
              "      <td>57.0</td>\n",
              "      <td>1640.0</td>\n",
              "      <td>249</td>\n",
              "      <td>False</td>\n",
              "      <td>False</td>\n",
              "      <td>Collusive</td>\n",
              "      <td>#Meeseva Apply, Online, Centers, Services, App...</td>\n",
              "      <td>1</td>\n",
              "      <td>NoEmoji</td>\n",
              "    </tr>\n",
              "    <tr>\n",
              "      <th>4</th>\n",
              "      <td>4</td>\n",
              "      <td>RT @Linformatrice: Ceux qui n'étaient présents...</td>\n",
              "      <td>0.0</td>\n",
              "      <td>0.0</td>\n",
              "      <td>1.0</td>\n",
              "      <td>0.0</td>\n",
              "      <td>190.0</td>\n",
              "      <td>0</td>\n",
              "      <td>&lt;a href=\"http://twitter.com/download/android\" ...</td>\n",
              "      <td>fr</td>\n",
              "      <td>620.0</td>\n",
              "      <td>2591.0</td>\n",
              "      <td>12682</td>\n",
              "      <td>False</td>\n",
              "      <td>False</td>\n",
              "      <td>Genuine</td>\n",
              "      <td>RT : Ceux qui n'étaient présents à l'hommage n...</td>\n",
              "      <td>0</td>\n",
              "      <td>NoEmoji</td>\n",
              "    </tr>\n",
              "  </tbody>\n",
              "</table>\n",
              "</div>"
            ],
            "text/plain": [
              "  Unnamed: 0  ... emoji_present\n",
              "0          0  ...       NoEmoji\n",
              "1          1  ...       NoEmoji\n",
              "2          2  ...         Emoji\n",
              "3          3  ...       NoEmoji\n",
              "4          4  ...       NoEmoji\n",
              "\n",
              "[5 rows x 19 columns]"
            ]
          },
          "metadata": {
            "tags": []
          },
          "execution_count": 152
        }
      ]
    },
    {
      "cell_type": "code",
      "metadata": {
        "id": "Ipa9TiWWfvyB",
        "colab_type": "code",
        "colab": {}
      },
      "source": [
        "def remove_pattern(input_txt, pattern):\n",
        "    r = re.findall(pattern, input_txt)\n",
        "    for i in r:\n",
        "        input_txt = re.sub(i, '', input_txt)\n",
        "        \n",
        "    return input_txt"
      ],
      "execution_count": 0,
      "outputs": []
    },
    {
      "cell_type": "code",
      "metadata": {
        "id": "xlP_-B2bluMN",
        "colab_type": "code",
        "colab": {}
      },
      "source": [
        "plist=[]\n",
        "for row in df[\"tweet_text\"]:\n",
        "  plist.append(remove_pattern(row,\"@[\\w]*\"))\n",
        "df[\"clean_text\"]=plist"
      ],
      "execution_count": 0,
      "outputs": []
    },
    {
      "cell_type": "code",
      "metadata": {
        "id": "ye2LmrpjluJC",
        "colab_type": "code",
        "outputId": "1f97963f-3a6b-4da2-9037-ec819d3803aa",
        "colab": {
          "base_uri": "https://localhost:8080/",
          "height": 513
        }
      },
      "source": [
        "df.head()"
      ],
      "execution_count": 155,
      "outputs": [
        {
          "output_type": "execute_result",
          "data": {
            "text/html": [
              "<div>\n",
              "<style scoped>\n",
              "    .dataframe tbody tr th:only-of-type {\n",
              "        vertical-align: middle;\n",
              "    }\n",
              "\n",
              "    .dataframe tbody tr th {\n",
              "        vertical-align: top;\n",
              "    }\n",
              "\n",
              "    .dataframe thead th {\n",
              "        text-align: right;\n",
              "    }\n",
              "</style>\n",
              "<table border=\"1\" class=\"dataframe\">\n",
              "  <thead>\n",
              "    <tr style=\"text-align: right;\">\n",
              "      <th></th>\n",
              "      <th>Unnamed: 0</th>\n",
              "      <th>tweet_text</th>\n",
              "      <th>num_hashtags</th>\n",
              "      <th>num_symbols</th>\n",
              "      <th>num_user_mentions</th>\n",
              "      <th>num_urls</th>\n",
              "      <th>retweet_count</th>\n",
              "      <th>favorite_count</th>\n",
              "      <th>source</th>\n",
              "      <th>lang</th>\n",
              "      <th>source_user_followers_count</th>\n",
              "      <th>source_user_friends_count</th>\n",
              "      <th>source_user_statuses_count</th>\n",
              "      <th>source_user_geo_enabled</th>\n",
              "      <th>source_user_verified</th>\n",
              "      <th>label</th>\n",
              "      <th>clean_tweet</th>\n",
              "      <th>url_present</th>\n",
              "      <th>emoji_present</th>\n",
              "      <th>clean_text</th>\n",
              "    </tr>\n",
              "  </thead>\n",
              "  <tbody>\n",
              "    <tr>\n",
              "      <th>0</th>\n",
              "      <td>0</td>\n",
              "      <td>URL schemes that Sileo supports, so you can be...</td>\n",
              "      <td>0.0</td>\n",
              "      <td>0.0</td>\n",
              "      <td>0.0</td>\n",
              "      <td>0.0</td>\n",
              "      <td>12.0</td>\n",
              "      <td>31</td>\n",
              "      <td>&lt;a href=\"http://twitter.com/download/android\" ...</td>\n",
              "      <td>en</td>\n",
              "      <td>2032.0</td>\n",
              "      <td>309.0</td>\n",
              "      <td>9866</td>\n",
              "      <td>True</td>\n",
              "      <td>False</td>\n",
              "      <td>Collusive</td>\n",
              "      <td>URL schemes that Sileo supports, so you can be...</td>\n",
              "      <td>0</td>\n",
              "      <td>NoEmoji</td>\n",
              "      <td>URL schemes that Sileo supports, so you can be...</td>\n",
              "    </tr>\n",
              "    <tr>\n",
              "      <th>1</th>\n",
              "      <td>1</td>\n",
              "      <td>RT @TheLifeDiaries: Never compare your life to...</td>\n",
              "      <td>0.0</td>\n",
              "      <td>0.0</td>\n",
              "      <td>1.0</td>\n",
              "      <td>0.0</td>\n",
              "      <td>1036.0</td>\n",
              "      <td>0</td>\n",
              "      <td>&lt;a href=\"http://twitter.com/download/iphone\" r...</td>\n",
              "      <td>en</td>\n",
              "      <td>202.0</td>\n",
              "      <td>368.0</td>\n",
              "      <td>628</td>\n",
              "      <td>False</td>\n",
              "      <td>False</td>\n",
              "      <td>Genuine</td>\n",
              "      <td>RT : Never compare your life to others. You ha...</td>\n",
              "      <td>0</td>\n",
              "      <td>NoEmoji</td>\n",
              "      <td>RT : Never compare your life to others. You ha...</td>\n",
              "    </tr>\n",
              "    <tr>\n",
              "      <th>2</th>\n",
              "      <td>2</td>\n",
              "      <td>Sneak Attack on Skybase👀🤖 #Fortnite #GameofGam...</td>\n",
              "      <td>3.0</td>\n",
              "      <td>0.0</td>\n",
              "      <td>0.0</td>\n",
              "      <td>0.0</td>\n",
              "      <td>9.0</td>\n",
              "      <td>9</td>\n",
              "      <td>&lt;a href=\"http://twitter.com/download/android\" ...</td>\n",
              "      <td>en</td>\n",
              "      <td>324.0</td>\n",
              "      <td>796.0</td>\n",
              "      <td>103</td>\n",
              "      <td>False</td>\n",
              "      <td>False</td>\n",
              "      <td>Collusive</td>\n",
              "      <td>Sneak Attack on Skybase👀🤖 #Fortnite #GameofGam...</td>\n",
              "      <td>1</td>\n",
              "      <td>Emoji</td>\n",
              "      <td>Sneak Attack on Skybase👀🤖 #Fortnite #GameofGam...</td>\n",
              "    </tr>\n",
              "    <tr>\n",
              "      <th>3</th>\n",
              "      <td>3</td>\n",
              "      <td>#Meeseva Apply, Online, Centers, Services, App...</td>\n",
              "      <td>1.0</td>\n",
              "      <td>0.0</td>\n",
              "      <td>0.0</td>\n",
              "      <td>1.0</td>\n",
              "      <td>159.0</td>\n",
              "      <td>34</td>\n",
              "      <td>&lt;a href=\"http://twitter.com\" rel=\"nofollow\"&gt;Tw...</td>\n",
              "      <td>en</td>\n",
              "      <td>57.0</td>\n",
              "      <td>1640.0</td>\n",
              "      <td>249</td>\n",
              "      <td>False</td>\n",
              "      <td>False</td>\n",
              "      <td>Collusive</td>\n",
              "      <td>#Meeseva Apply, Online, Centers, Services, App...</td>\n",
              "      <td>1</td>\n",
              "      <td>NoEmoji</td>\n",
              "      <td>#Meeseva Apply, Online, Centers, Services, App...</td>\n",
              "    </tr>\n",
              "    <tr>\n",
              "      <th>4</th>\n",
              "      <td>4</td>\n",
              "      <td>RT @Linformatrice: Ceux qui n'étaient présents...</td>\n",
              "      <td>0.0</td>\n",
              "      <td>0.0</td>\n",
              "      <td>1.0</td>\n",
              "      <td>0.0</td>\n",
              "      <td>190.0</td>\n",
              "      <td>0</td>\n",
              "      <td>&lt;a href=\"http://twitter.com/download/android\" ...</td>\n",
              "      <td>fr</td>\n",
              "      <td>620.0</td>\n",
              "      <td>2591.0</td>\n",
              "      <td>12682</td>\n",
              "      <td>False</td>\n",
              "      <td>False</td>\n",
              "      <td>Genuine</td>\n",
              "      <td>RT : Ceux qui n'étaient présents à l'hommage n...</td>\n",
              "      <td>0</td>\n",
              "      <td>NoEmoji</td>\n",
              "      <td>RT : Ceux qui n'étaient présents à l'hommage n...</td>\n",
              "    </tr>\n",
              "  </tbody>\n",
              "</table>\n",
              "</div>"
            ],
            "text/plain": [
              "  Unnamed: 0  ...                                         clean_text\n",
              "0          0  ...  URL schemes that Sileo supports, so you can be...\n",
              "1          1  ...  RT : Never compare your life to others. You ha...\n",
              "2          2  ...  Sneak Attack on Skybase👀🤖 #Fortnite #GameofGam...\n",
              "3          3  ...  #Meeseva Apply, Online, Centers, Services, App...\n",
              "4          4  ...  RT : Ceux qui n'étaient présents à l'hommage n...\n",
              "\n",
              "[5 rows x 20 columns]"
            ]
          },
          "metadata": {
            "tags": []
          },
          "execution_count": 155
        }
      ]
    },
    {
      "cell_type": "code",
      "metadata": {
        "id": "18SVSjSrnyjt",
        "colab_type": "code",
        "colab": {}
      },
      "source": [
        "df.drop(\"clean_tweet\",axis=1,inplace=True)"
      ],
      "execution_count": 0,
      "outputs": []
    },
    {
      "cell_type": "code",
      "metadata": {
        "id": "oVyGI7Z4n7aH",
        "colab_type": "code",
        "colab": {}
      },
      "source": [
        "df['clean_text']=df['clean_text'].str.replace(\"[^a-zA-Z#]\", \" \")"
      ],
      "execution_count": 0,
      "outputs": []
    },
    {
      "cell_type": "code",
      "metadata": {
        "id": "xY2H6K66ohOs",
        "colab_type": "code",
        "outputId": "a81037d2-d6d3-4e88-dd99-5c51d84abed0",
        "colab": {
          "base_uri": "https://localhost:8080/",
          "height": 513
        }
      },
      "source": [
        "df.head()"
      ],
      "execution_count": 158,
      "outputs": [
        {
          "output_type": "execute_result",
          "data": {
            "text/html": [
              "<div>\n",
              "<style scoped>\n",
              "    .dataframe tbody tr th:only-of-type {\n",
              "        vertical-align: middle;\n",
              "    }\n",
              "\n",
              "    .dataframe tbody tr th {\n",
              "        vertical-align: top;\n",
              "    }\n",
              "\n",
              "    .dataframe thead th {\n",
              "        text-align: right;\n",
              "    }\n",
              "</style>\n",
              "<table border=\"1\" class=\"dataframe\">\n",
              "  <thead>\n",
              "    <tr style=\"text-align: right;\">\n",
              "      <th></th>\n",
              "      <th>Unnamed: 0</th>\n",
              "      <th>tweet_text</th>\n",
              "      <th>num_hashtags</th>\n",
              "      <th>num_symbols</th>\n",
              "      <th>num_user_mentions</th>\n",
              "      <th>num_urls</th>\n",
              "      <th>retweet_count</th>\n",
              "      <th>favorite_count</th>\n",
              "      <th>source</th>\n",
              "      <th>lang</th>\n",
              "      <th>source_user_followers_count</th>\n",
              "      <th>source_user_friends_count</th>\n",
              "      <th>source_user_statuses_count</th>\n",
              "      <th>source_user_geo_enabled</th>\n",
              "      <th>source_user_verified</th>\n",
              "      <th>label</th>\n",
              "      <th>url_present</th>\n",
              "      <th>emoji_present</th>\n",
              "      <th>clean_text</th>\n",
              "    </tr>\n",
              "  </thead>\n",
              "  <tbody>\n",
              "    <tr>\n",
              "      <th>0</th>\n",
              "      <td>0</td>\n",
              "      <td>URL schemes that Sileo supports, so you can be...</td>\n",
              "      <td>0.0</td>\n",
              "      <td>0.0</td>\n",
              "      <td>0.0</td>\n",
              "      <td>0.0</td>\n",
              "      <td>12.0</td>\n",
              "      <td>31</td>\n",
              "      <td>&lt;a href=\"http://twitter.com/download/android\" ...</td>\n",
              "      <td>en</td>\n",
              "      <td>2032.0</td>\n",
              "      <td>309.0</td>\n",
              "      <td>9866</td>\n",
              "      <td>True</td>\n",
              "      <td>False</td>\n",
              "      <td>Collusive</td>\n",
              "      <td>0</td>\n",
              "      <td>NoEmoji</td>\n",
              "      <td>URL schemes that Sileo supports  so you can be...</td>\n",
              "    </tr>\n",
              "    <tr>\n",
              "      <th>1</th>\n",
              "      <td>1</td>\n",
              "      <td>RT @TheLifeDiaries: Never compare your life to...</td>\n",
              "      <td>0.0</td>\n",
              "      <td>0.0</td>\n",
              "      <td>1.0</td>\n",
              "      <td>0.0</td>\n",
              "      <td>1036.0</td>\n",
              "      <td>0</td>\n",
              "      <td>&lt;a href=\"http://twitter.com/download/iphone\" r...</td>\n",
              "      <td>en</td>\n",
              "      <td>202.0</td>\n",
              "      <td>368.0</td>\n",
              "      <td>628</td>\n",
              "      <td>False</td>\n",
              "      <td>False</td>\n",
              "      <td>Genuine</td>\n",
              "      <td>0</td>\n",
              "      <td>NoEmoji</td>\n",
              "      <td>RT   Never compare your life to others  You ha...</td>\n",
              "    </tr>\n",
              "    <tr>\n",
              "      <th>2</th>\n",
              "      <td>2</td>\n",
              "      <td>Sneak Attack on Skybase👀🤖 #Fortnite #GameofGam...</td>\n",
              "      <td>3.0</td>\n",
              "      <td>0.0</td>\n",
              "      <td>0.0</td>\n",
              "      <td>0.0</td>\n",
              "      <td>9.0</td>\n",
              "      <td>9</td>\n",
              "      <td>&lt;a href=\"http://twitter.com/download/android\" ...</td>\n",
              "      <td>en</td>\n",
              "      <td>324.0</td>\n",
              "      <td>796.0</td>\n",
              "      <td>103</td>\n",
              "      <td>False</td>\n",
              "      <td>False</td>\n",
              "      <td>Collusive</td>\n",
              "      <td>1</td>\n",
              "      <td>Emoji</td>\n",
              "      <td>Sneak Attack on Skybase   #Fortnite #GameofGam...</td>\n",
              "    </tr>\n",
              "    <tr>\n",
              "      <th>3</th>\n",
              "      <td>3</td>\n",
              "      <td>#Meeseva Apply, Online, Centers, Services, App...</td>\n",
              "      <td>1.0</td>\n",
              "      <td>0.0</td>\n",
              "      <td>0.0</td>\n",
              "      <td>1.0</td>\n",
              "      <td>159.0</td>\n",
              "      <td>34</td>\n",
              "      <td>&lt;a href=\"http://twitter.com\" rel=\"nofollow\"&gt;Tw...</td>\n",
              "      <td>en</td>\n",
              "      <td>57.0</td>\n",
              "      <td>1640.0</td>\n",
              "      <td>249</td>\n",
              "      <td>False</td>\n",
              "      <td>False</td>\n",
              "      <td>Collusive</td>\n",
              "      <td>1</td>\n",
              "      <td>NoEmoji</td>\n",
              "      <td>#Meeseva Apply  Online  Centers  Services  App...</td>\n",
              "    </tr>\n",
              "    <tr>\n",
              "      <th>4</th>\n",
              "      <td>4</td>\n",
              "      <td>RT @Linformatrice: Ceux qui n'étaient présents...</td>\n",
              "      <td>0.0</td>\n",
              "      <td>0.0</td>\n",
              "      <td>1.0</td>\n",
              "      <td>0.0</td>\n",
              "      <td>190.0</td>\n",
              "      <td>0</td>\n",
              "      <td>&lt;a href=\"http://twitter.com/download/android\" ...</td>\n",
              "      <td>fr</td>\n",
              "      <td>620.0</td>\n",
              "      <td>2591.0</td>\n",
              "      <td>12682</td>\n",
              "      <td>False</td>\n",
              "      <td>False</td>\n",
              "      <td>Genuine</td>\n",
              "      <td>0</td>\n",
              "      <td>NoEmoji</td>\n",
              "      <td>RT   Ceux qui n  taient pr sents   l hommage n...</td>\n",
              "    </tr>\n",
              "  </tbody>\n",
              "</table>\n",
              "</div>"
            ],
            "text/plain": [
              "  Unnamed: 0  ...                                         clean_text\n",
              "0          0  ...  URL schemes that Sileo supports  so you can be...\n",
              "1          1  ...  RT   Never compare your life to others  You ha...\n",
              "2          2  ...  Sneak Attack on Skybase   #Fortnite #GameofGam...\n",
              "3          3  ...  #Meeseva Apply  Online  Centers  Services  App...\n",
              "4          4  ...  RT   Ceux qui n  taient pr sents   l hommage n...\n",
              "\n",
              "[5 rows x 19 columns]"
            ]
          },
          "metadata": {
            "tags": []
          },
          "execution_count": 158
        }
      ]
    },
    {
      "cell_type": "code",
      "metadata": {
        "id": "AJw1ftfYoiul",
        "colab_type": "code",
        "outputId": "9d5b6fbc-8f71-40f8-ec8f-0e12c1be5a9d",
        "colab": {
          "base_uri": "https://localhost:8080/",
          "height": 513
        }
      },
      "source": [
        "df.head()"
      ],
      "execution_count": 159,
      "outputs": [
        {
          "output_type": "execute_result",
          "data": {
            "text/html": [
              "<div>\n",
              "<style scoped>\n",
              "    .dataframe tbody tr th:only-of-type {\n",
              "        vertical-align: middle;\n",
              "    }\n",
              "\n",
              "    .dataframe tbody tr th {\n",
              "        vertical-align: top;\n",
              "    }\n",
              "\n",
              "    .dataframe thead th {\n",
              "        text-align: right;\n",
              "    }\n",
              "</style>\n",
              "<table border=\"1\" class=\"dataframe\">\n",
              "  <thead>\n",
              "    <tr style=\"text-align: right;\">\n",
              "      <th></th>\n",
              "      <th>Unnamed: 0</th>\n",
              "      <th>tweet_text</th>\n",
              "      <th>num_hashtags</th>\n",
              "      <th>num_symbols</th>\n",
              "      <th>num_user_mentions</th>\n",
              "      <th>num_urls</th>\n",
              "      <th>retweet_count</th>\n",
              "      <th>favorite_count</th>\n",
              "      <th>source</th>\n",
              "      <th>lang</th>\n",
              "      <th>source_user_followers_count</th>\n",
              "      <th>source_user_friends_count</th>\n",
              "      <th>source_user_statuses_count</th>\n",
              "      <th>source_user_geo_enabled</th>\n",
              "      <th>source_user_verified</th>\n",
              "      <th>label</th>\n",
              "      <th>url_present</th>\n",
              "      <th>emoji_present</th>\n",
              "      <th>clean_text</th>\n",
              "    </tr>\n",
              "  </thead>\n",
              "  <tbody>\n",
              "    <tr>\n",
              "      <th>0</th>\n",
              "      <td>0</td>\n",
              "      <td>URL schemes that Sileo supports, so you can be...</td>\n",
              "      <td>0.0</td>\n",
              "      <td>0.0</td>\n",
              "      <td>0.0</td>\n",
              "      <td>0.0</td>\n",
              "      <td>12.0</td>\n",
              "      <td>31</td>\n",
              "      <td>&lt;a href=\"http://twitter.com/download/android\" ...</td>\n",
              "      <td>en</td>\n",
              "      <td>2032.0</td>\n",
              "      <td>309.0</td>\n",
              "      <td>9866</td>\n",
              "      <td>True</td>\n",
              "      <td>False</td>\n",
              "      <td>Collusive</td>\n",
              "      <td>0</td>\n",
              "      <td>NoEmoji</td>\n",
              "      <td>URL schemes that Sileo supports  so you can be...</td>\n",
              "    </tr>\n",
              "    <tr>\n",
              "      <th>1</th>\n",
              "      <td>1</td>\n",
              "      <td>RT @TheLifeDiaries: Never compare your life to...</td>\n",
              "      <td>0.0</td>\n",
              "      <td>0.0</td>\n",
              "      <td>1.0</td>\n",
              "      <td>0.0</td>\n",
              "      <td>1036.0</td>\n",
              "      <td>0</td>\n",
              "      <td>&lt;a href=\"http://twitter.com/download/iphone\" r...</td>\n",
              "      <td>en</td>\n",
              "      <td>202.0</td>\n",
              "      <td>368.0</td>\n",
              "      <td>628</td>\n",
              "      <td>False</td>\n",
              "      <td>False</td>\n",
              "      <td>Genuine</td>\n",
              "      <td>0</td>\n",
              "      <td>NoEmoji</td>\n",
              "      <td>RT   Never compare your life to others  You ha...</td>\n",
              "    </tr>\n",
              "    <tr>\n",
              "      <th>2</th>\n",
              "      <td>2</td>\n",
              "      <td>Sneak Attack on Skybase👀🤖 #Fortnite #GameofGam...</td>\n",
              "      <td>3.0</td>\n",
              "      <td>0.0</td>\n",
              "      <td>0.0</td>\n",
              "      <td>0.0</td>\n",
              "      <td>9.0</td>\n",
              "      <td>9</td>\n",
              "      <td>&lt;a href=\"http://twitter.com/download/android\" ...</td>\n",
              "      <td>en</td>\n",
              "      <td>324.0</td>\n",
              "      <td>796.0</td>\n",
              "      <td>103</td>\n",
              "      <td>False</td>\n",
              "      <td>False</td>\n",
              "      <td>Collusive</td>\n",
              "      <td>1</td>\n",
              "      <td>Emoji</td>\n",
              "      <td>Sneak Attack on Skybase   #Fortnite #GameofGam...</td>\n",
              "    </tr>\n",
              "    <tr>\n",
              "      <th>3</th>\n",
              "      <td>3</td>\n",
              "      <td>#Meeseva Apply, Online, Centers, Services, App...</td>\n",
              "      <td>1.0</td>\n",
              "      <td>0.0</td>\n",
              "      <td>0.0</td>\n",
              "      <td>1.0</td>\n",
              "      <td>159.0</td>\n",
              "      <td>34</td>\n",
              "      <td>&lt;a href=\"http://twitter.com\" rel=\"nofollow\"&gt;Tw...</td>\n",
              "      <td>en</td>\n",
              "      <td>57.0</td>\n",
              "      <td>1640.0</td>\n",
              "      <td>249</td>\n",
              "      <td>False</td>\n",
              "      <td>False</td>\n",
              "      <td>Collusive</td>\n",
              "      <td>1</td>\n",
              "      <td>NoEmoji</td>\n",
              "      <td>#Meeseva Apply  Online  Centers  Services  App...</td>\n",
              "    </tr>\n",
              "    <tr>\n",
              "      <th>4</th>\n",
              "      <td>4</td>\n",
              "      <td>RT @Linformatrice: Ceux qui n'étaient présents...</td>\n",
              "      <td>0.0</td>\n",
              "      <td>0.0</td>\n",
              "      <td>1.0</td>\n",
              "      <td>0.0</td>\n",
              "      <td>190.0</td>\n",
              "      <td>0</td>\n",
              "      <td>&lt;a href=\"http://twitter.com/download/android\" ...</td>\n",
              "      <td>fr</td>\n",
              "      <td>620.0</td>\n",
              "      <td>2591.0</td>\n",
              "      <td>12682</td>\n",
              "      <td>False</td>\n",
              "      <td>False</td>\n",
              "      <td>Genuine</td>\n",
              "      <td>0</td>\n",
              "      <td>NoEmoji</td>\n",
              "      <td>RT   Ceux qui n  taient pr sents   l hommage n...</td>\n",
              "    </tr>\n",
              "  </tbody>\n",
              "</table>\n",
              "</div>"
            ],
            "text/plain": [
              "  Unnamed: 0  ...                                         clean_text\n",
              "0          0  ...  URL schemes that Sileo supports  so you can be...\n",
              "1          1  ...  RT   Never compare your life to others  You ha...\n",
              "2          2  ...  Sneak Attack on Skybase   #Fortnite #GameofGam...\n",
              "3          3  ...  #Meeseva Apply  Online  Centers  Services  App...\n",
              "4          4  ...  RT   Ceux qui n  taient pr sents   l hommage n...\n",
              "\n",
              "[5 rows x 19 columns]"
            ]
          },
          "metadata": {
            "tags": []
          },
          "execution_count": 159
        }
      ]
    },
    {
      "cell_type": "code",
      "metadata": {
        "id": "2J3X2cGPpe1S",
        "colab_type": "code",
        "colab": {}
      },
      "source": [
        "df=df[df.lang=='en']"
      ],
      "execution_count": 0,
      "outputs": []
    },
    {
      "cell_type": "code",
      "metadata": {
        "id": "dA1C1JW-CahC",
        "colab_type": "code",
        "colab": {
          "base_uri": "https://localhost:8080/",
          "height": 34
        },
        "outputId": "a4b3a9bf-c3bf-4892-8f85-83a2a591c3c3"
      },
      "source": [
        "len(df)"
      ],
      "execution_count": 161,
      "outputs": [
        {
          "output_type": "execute_result",
          "data": {
            "text/plain": [
              "7352"
            ]
          },
          "metadata": {
            "tags": []
          },
          "execution_count": 161
        }
      ]
    },
    {
      "cell_type": "code",
      "metadata": {
        "id": "GmTHc54AppYj",
        "colab_type": "code",
        "outputId": "d2e47360-d430-4698-89d5-369715c20eca",
        "colab": {
          "base_uri": "https://localhost:8080/",
          "height": 357
        }
      },
      "source": [
        "df.isnull().sum()"
      ],
      "execution_count": 162,
      "outputs": [
        {
          "output_type": "execute_result",
          "data": {
            "text/plain": [
              "Unnamed: 0                     0\n",
              "tweet_text                     0\n",
              "num_hashtags                   0\n",
              "num_symbols                    0\n",
              "num_user_mentions              0\n",
              "num_urls                       0\n",
              "retweet_count                  0\n",
              "favorite_count                 0\n",
              "source                         0\n",
              "lang                           0\n",
              "source_user_followers_count    0\n",
              "source_user_friends_count      0\n",
              "source_user_statuses_count     0\n",
              "source_user_geo_enabled        0\n",
              "source_user_verified           0\n",
              "label                          0\n",
              "url_present                    0\n",
              "emoji_present                  0\n",
              "clean_text                     0\n",
              "dtype: int64"
            ]
          },
          "metadata": {
            "tags": []
          },
          "execution_count": 162
        }
      ]
    },
    {
      "cell_type": "code",
      "metadata": {
        "id": "_gUawW9dp3yH",
        "colab_type": "code",
        "colab": {}
      },
      "source": [
        "df.dropna(inplace=True)"
      ],
      "execution_count": 0,
      "outputs": []
    },
    {
      "cell_type": "code",
      "metadata": {
        "id": "ku8vpAxiqHIB",
        "colab_type": "code",
        "outputId": "231d3693-37d6-405d-92b5-d74720994bd7",
        "colab": {
          "base_uri": "https://localhost:8080/",
          "height": 34
        }
      },
      "source": [
        "len(df)"
      ],
      "execution_count": 163,
      "outputs": [
        {
          "output_type": "execute_result",
          "data": {
            "text/plain": [
              "7352"
            ]
          },
          "metadata": {
            "tags": []
          },
          "execution_count": 163
        }
      ]
    },
    {
      "cell_type": "code",
      "metadata": {
        "id": "l1l-AxW3q4Ab",
        "colab_type": "code",
        "outputId": "35262177-060b-492a-ef1c-58ef753d8a58",
        "colab": {
          "base_uri": "https://localhost:8080/",
          "height": 34
        }
      },
      "source": [
        "f=df[df.lang=='de'].label=='Collusive'\n",
        "len(f)"
      ],
      "execution_count": 88,
      "outputs": [
        {
          "output_type": "execute_result",
          "data": {
            "text/plain": [
              "67"
            ]
          },
          "metadata": {
            "tags": []
          },
          "execution_count": 88
        }
      ]
    },
    {
      "cell_type": "code",
      "metadata": {
        "id": "B-YVpy1E-_At",
        "colab_type": "code",
        "outputId": "85355082-3fa8-4241-c531-a547bb82f2de",
        "colab": {
          "base_uri": "https://localhost:8080/",
          "height": 34
        }
      },
      "source": [
        "count=0\n",
        "for i in f:\n",
        "  if i== True:\n",
        "    count=count+1\n",
        "print(count)    "
      ],
      "execution_count": 89,
      "outputs": [
        {
          "output_type": "stream",
          "text": [
            "44\n"
          ],
          "name": "stdout"
        }
      ]
    },
    {
      "cell_type": "code",
      "metadata": {
        "id": "52_lY4Vt-QwP",
        "colab_type": "code",
        "colab": {}
      },
      "source": [
        "df=df.drop(307,axis=0)"
      ],
      "execution_count": 0,
      "outputs": []
    },
    {
      "cell_type": "code",
      "metadata": {
        "id": "MRnkQfB3-zam",
        "colab_type": "code",
        "outputId": "0b6623a2-eef5-4f63-baaf-cdb7123573b1",
        "colab": {
          "base_uri": "https://localhost:8080/",
          "height": 513
        }
      },
      "source": [
        "df.head()"
      ],
      "execution_count": 91,
      "outputs": [
        {
          "output_type": "execute_result",
          "data": {
            "text/html": [
              "<div>\n",
              "<style scoped>\n",
              "    .dataframe tbody tr th:only-of-type {\n",
              "        vertical-align: middle;\n",
              "    }\n",
              "\n",
              "    .dataframe tbody tr th {\n",
              "        vertical-align: top;\n",
              "    }\n",
              "\n",
              "    .dataframe thead th {\n",
              "        text-align: right;\n",
              "    }\n",
              "</style>\n",
              "<table border=\"1\" class=\"dataframe\">\n",
              "  <thead>\n",
              "    <tr style=\"text-align: right;\">\n",
              "      <th></th>\n",
              "      <th>Unnamed: 0</th>\n",
              "      <th>tweet_text</th>\n",
              "      <th>num_hashtags</th>\n",
              "      <th>num_symbols</th>\n",
              "      <th>num_user_mentions</th>\n",
              "      <th>num_urls</th>\n",
              "      <th>retweet_count</th>\n",
              "      <th>favorite_count</th>\n",
              "      <th>source</th>\n",
              "      <th>lang</th>\n",
              "      <th>source_user_followers_count</th>\n",
              "      <th>source_user_friends_count</th>\n",
              "      <th>source_user_statuses_count</th>\n",
              "      <th>source_user_geo_enabled</th>\n",
              "      <th>source_user_verified</th>\n",
              "      <th>label</th>\n",
              "      <th>url_present</th>\n",
              "      <th>emoji_present</th>\n",
              "      <th>clean_text</th>\n",
              "    </tr>\n",
              "  </thead>\n",
              "  <tbody>\n",
              "    <tr>\n",
              "      <th>0</th>\n",
              "      <td>0</td>\n",
              "      <td>URL schemes that Sileo supports, so you can be...</td>\n",
              "      <td>0.0</td>\n",
              "      <td>0.0</td>\n",
              "      <td>0.0</td>\n",
              "      <td>0.0</td>\n",
              "      <td>12.0</td>\n",
              "      <td>31</td>\n",
              "      <td>&lt;a href=\"http://twitter.com/download/android\" ...</td>\n",
              "      <td>en</td>\n",
              "      <td>2032.0</td>\n",
              "      <td>309.0</td>\n",
              "      <td>9866</td>\n",
              "      <td>True</td>\n",
              "      <td>False</td>\n",
              "      <td>Collusive</td>\n",
              "      <td>0</td>\n",
              "      <td>NoEmoji</td>\n",
              "      <td>URL schemes that Sileo supports  so you can be...</td>\n",
              "    </tr>\n",
              "    <tr>\n",
              "      <th>1</th>\n",
              "      <td>1</td>\n",
              "      <td>RT @TheLifeDiaries: Never compare your life to...</td>\n",
              "      <td>0.0</td>\n",
              "      <td>0.0</td>\n",
              "      <td>1.0</td>\n",
              "      <td>0.0</td>\n",
              "      <td>1036.0</td>\n",
              "      <td>0</td>\n",
              "      <td>&lt;a href=\"http://twitter.com/download/iphone\" r...</td>\n",
              "      <td>en</td>\n",
              "      <td>202.0</td>\n",
              "      <td>368.0</td>\n",
              "      <td>628</td>\n",
              "      <td>False</td>\n",
              "      <td>False</td>\n",
              "      <td>Genuine</td>\n",
              "      <td>0</td>\n",
              "      <td>NoEmoji</td>\n",
              "      <td>RT   Never compare your life to others  You ha...</td>\n",
              "    </tr>\n",
              "    <tr>\n",
              "      <th>2</th>\n",
              "      <td>2</td>\n",
              "      <td>Sneak Attack on Skybase👀🤖 #Fortnite #GameofGam...</td>\n",
              "      <td>3.0</td>\n",
              "      <td>0.0</td>\n",
              "      <td>0.0</td>\n",
              "      <td>0.0</td>\n",
              "      <td>9.0</td>\n",
              "      <td>9</td>\n",
              "      <td>&lt;a href=\"http://twitter.com/download/android\" ...</td>\n",
              "      <td>en</td>\n",
              "      <td>324.0</td>\n",
              "      <td>796.0</td>\n",
              "      <td>103</td>\n",
              "      <td>False</td>\n",
              "      <td>False</td>\n",
              "      <td>Collusive</td>\n",
              "      <td>1</td>\n",
              "      <td>Emoji</td>\n",
              "      <td>Sneak Attack on Skybase   #Fortnite #GameofGam...</td>\n",
              "    </tr>\n",
              "    <tr>\n",
              "      <th>3</th>\n",
              "      <td>3</td>\n",
              "      <td>#Meeseva Apply, Online, Centers, Services, App...</td>\n",
              "      <td>1.0</td>\n",
              "      <td>0.0</td>\n",
              "      <td>0.0</td>\n",
              "      <td>1.0</td>\n",
              "      <td>159.0</td>\n",
              "      <td>34</td>\n",
              "      <td>&lt;a href=\"http://twitter.com\" rel=\"nofollow\"&gt;Tw...</td>\n",
              "      <td>en</td>\n",
              "      <td>57.0</td>\n",
              "      <td>1640.0</td>\n",
              "      <td>249</td>\n",
              "      <td>False</td>\n",
              "      <td>False</td>\n",
              "      <td>Collusive</td>\n",
              "      <td>1</td>\n",
              "      <td>NoEmoji</td>\n",
              "      <td>#Meeseva Apply  Online  Centers  Services  App...</td>\n",
              "    </tr>\n",
              "    <tr>\n",
              "      <th>4</th>\n",
              "      <td>4</td>\n",
              "      <td>RT @Linformatrice: Ceux qui n'étaient présents...</td>\n",
              "      <td>0.0</td>\n",
              "      <td>0.0</td>\n",
              "      <td>1.0</td>\n",
              "      <td>0.0</td>\n",
              "      <td>190.0</td>\n",
              "      <td>0</td>\n",
              "      <td>&lt;a href=\"http://twitter.com/download/android\" ...</td>\n",
              "      <td>fr</td>\n",
              "      <td>620.0</td>\n",
              "      <td>2591.0</td>\n",
              "      <td>12682</td>\n",
              "      <td>False</td>\n",
              "      <td>False</td>\n",
              "      <td>Genuine</td>\n",
              "      <td>0</td>\n",
              "      <td>NoEmoji</td>\n",
              "      <td>RT   Ceux qui n  taient pr sents   l hommage n...</td>\n",
              "    </tr>\n",
              "  </tbody>\n",
              "</table>\n",
              "</div>"
            ],
            "text/plain": [
              "  Unnamed: 0  ...                                         clean_text\n",
              "0          0  ...  URL schemes that Sileo supports  so you can be...\n",
              "1          1  ...  RT   Never compare your life to others  You ha...\n",
              "2          2  ...  Sneak Attack on Skybase   #Fortnite #GameofGam...\n",
              "3          3  ...  #Meeseva Apply  Online  Centers  Services  App...\n",
              "4          4  ...  RT   Ceux qui n  taient pr sents   l hommage n...\n",
              "\n",
              "[5 rows x 19 columns]"
            ]
          },
          "metadata": {
            "tags": []
          },
          "execution_count": 91
        }
      ]
    },
    {
      "cell_type": "code",
      "metadata": {
        "id": "3TxNhycEGNCU",
        "colab_type": "code",
        "outputId": "ece38998-58f5-42c1-8e70-a498573e7c6b",
        "colab": {
          "base_uri": "https://localhost:8080/",
          "height": 136
        }
      },
      "source": [
        "df.columns"
      ],
      "execution_count": 164,
      "outputs": [
        {
          "output_type": "execute_result",
          "data": {
            "text/plain": [
              "Index(['Unnamed: 0', 'tweet_text', 'num_hashtags', 'num_symbols',\n",
              "       'num_user_mentions', 'num_urls', 'retweet_count', 'favorite_count',\n",
              "       'source', 'lang', 'source_user_followers_count',\n",
              "       'source_user_friends_count', 'source_user_statuses_count',\n",
              "       'source_user_geo_enabled', 'source_user_verified', 'label',\n",
              "       'url_present', 'emoji_present', 'clean_text'],\n",
              "      dtype='object')"
            ]
          },
          "metadata": {
            "tags": []
          },
          "execution_count": 164
        }
      ]
    },
    {
      "cell_type": "code",
      "metadata": {
        "id": "tgTg4-opowiG",
        "colab_type": "code",
        "outputId": "f404ace4-87f0-4306-d22f-8f260ef963af",
        "colab": {
          "base_uri": "https://localhost:8080/",
          "height": 332
        }
      },
      "source": [
        "def word_count(sentence):\n",
        "    return len(sentence.split())\n",
        "    \n",
        "df['word_count'] = df['clean_text'].apply(word_count)\n",
        "df.head(3)"
      ],
      "execution_count": 165,
      "outputs": [
        {
          "output_type": "execute_result",
          "data": {
            "text/html": [
              "<div>\n",
              "<style scoped>\n",
              "    .dataframe tbody tr th:only-of-type {\n",
              "        vertical-align: middle;\n",
              "    }\n",
              "\n",
              "    .dataframe tbody tr th {\n",
              "        vertical-align: top;\n",
              "    }\n",
              "\n",
              "    .dataframe thead th {\n",
              "        text-align: right;\n",
              "    }\n",
              "</style>\n",
              "<table border=\"1\" class=\"dataframe\">\n",
              "  <thead>\n",
              "    <tr style=\"text-align: right;\">\n",
              "      <th></th>\n",
              "      <th>Unnamed: 0</th>\n",
              "      <th>tweet_text</th>\n",
              "      <th>num_hashtags</th>\n",
              "      <th>num_symbols</th>\n",
              "      <th>num_user_mentions</th>\n",
              "      <th>num_urls</th>\n",
              "      <th>retweet_count</th>\n",
              "      <th>favorite_count</th>\n",
              "      <th>source</th>\n",
              "      <th>lang</th>\n",
              "      <th>source_user_followers_count</th>\n",
              "      <th>source_user_friends_count</th>\n",
              "      <th>source_user_statuses_count</th>\n",
              "      <th>source_user_geo_enabled</th>\n",
              "      <th>source_user_verified</th>\n",
              "      <th>label</th>\n",
              "      <th>url_present</th>\n",
              "      <th>emoji_present</th>\n",
              "      <th>clean_text</th>\n",
              "      <th>word_count</th>\n",
              "    </tr>\n",
              "  </thead>\n",
              "  <tbody>\n",
              "    <tr>\n",
              "      <th>0</th>\n",
              "      <td>0</td>\n",
              "      <td>URL schemes that Sileo supports, so you can be...</td>\n",
              "      <td>0.0</td>\n",
              "      <td>0.0</td>\n",
              "      <td>0.0</td>\n",
              "      <td>0.0</td>\n",
              "      <td>12.0</td>\n",
              "      <td>31</td>\n",
              "      <td>&lt;a href=\"http://twitter.com/download/android\" ...</td>\n",
              "      <td>en</td>\n",
              "      <td>2032.0</td>\n",
              "      <td>309.0</td>\n",
              "      <td>9866</td>\n",
              "      <td>True</td>\n",
              "      <td>False</td>\n",
              "      <td>Collusive</td>\n",
              "      <td>0</td>\n",
              "      <td>NoEmoji</td>\n",
              "      <td>URL schemes that Sileo supports  so you can be...</td>\n",
              "      <td>27</td>\n",
              "    </tr>\n",
              "    <tr>\n",
              "      <th>1</th>\n",
              "      <td>1</td>\n",
              "      <td>RT @TheLifeDiaries: Never compare your life to...</td>\n",
              "      <td>0.0</td>\n",
              "      <td>0.0</td>\n",
              "      <td>1.0</td>\n",
              "      <td>0.0</td>\n",
              "      <td>1036.0</td>\n",
              "      <td>0</td>\n",
              "      <td>&lt;a href=\"http://twitter.com/download/iphone\" r...</td>\n",
              "      <td>en</td>\n",
              "      <td>202.0</td>\n",
              "      <td>368.0</td>\n",
              "      <td>628</td>\n",
              "      <td>False</td>\n",
              "      <td>False</td>\n",
              "      <td>Genuine</td>\n",
              "      <td>0</td>\n",
              "      <td>NoEmoji</td>\n",
              "      <td>RT   Never compare your life to others  You ha...</td>\n",
              "      <td>17</td>\n",
              "    </tr>\n",
              "    <tr>\n",
              "      <th>2</th>\n",
              "      <td>2</td>\n",
              "      <td>Sneak Attack on Skybase👀🤖 #Fortnite #GameofGam...</td>\n",
              "      <td>3.0</td>\n",
              "      <td>0.0</td>\n",
              "      <td>0.0</td>\n",
              "      <td>0.0</td>\n",
              "      <td>9.0</td>\n",
              "      <td>9</td>\n",
              "      <td>&lt;a href=\"http://twitter.com/download/android\" ...</td>\n",
              "      <td>en</td>\n",
              "      <td>324.0</td>\n",
              "      <td>796.0</td>\n",
              "      <td>103</td>\n",
              "      <td>False</td>\n",
              "      <td>False</td>\n",
              "      <td>Collusive</td>\n",
              "      <td>1</td>\n",
              "      <td>Emoji</td>\n",
              "      <td>Sneak Attack on Skybase   #Fortnite #GameofGam...</td>\n",
              "      <td>12</td>\n",
              "    </tr>\n",
              "  </tbody>\n",
              "</table>\n",
              "</div>"
            ],
            "text/plain": [
              "  Unnamed: 0  ... word_count\n",
              "0          0  ...         27\n",
              "1          1  ...         17\n",
              "2          2  ...         12\n",
              "\n",
              "[3 rows x 20 columns]"
            ]
          },
          "metadata": {
            "tags": []
          },
          "execution_count": 165
        }
      ]
    },
    {
      "cell_type": "code",
      "metadata": {
        "id": "Hd8jUb05pTJq",
        "colab_type": "code",
        "outputId": "8406721b-7d67-448c-8e1b-90ea96c49d99",
        "colab": {
          "base_uri": "https://localhost:8080/",
          "height": 405
        }
      },
      "source": [
        "x = df['word_count'][df.label == 'Collusive']\n",
        "y = df['word_count'][df.label == 'Genuine']\n",
        "plt.figure(figsize=(12,6))\n",
        "plt.xlim(0,45)\n",
        "plt.xlabel('word count')\n",
        "plt.ylabel('frequency')\n",
        "g = plt.hist([x, y], color=['r','b'], alpha=0.5, label=['Collusive','Genuine'])\n",
        "plt.legend(loc='upper right')"
      ],
      "execution_count": 166,
      "outputs": [
        {
          "output_type": "execute_result",
          "data": {
            "text/plain": [
              "<matplotlib.legend.Legend at 0x7f749d77a6a0>"
            ]
          },
          "metadata": {
            "tags": []
          },
          "execution_count": 166
        },
        {
          "output_type": "display_data",
          "data": {
            "image/png": "[encoded data removed]",
            "text/plain": [
              "<Figure size 864x432 with 1 Axes>"
            ]
          },
          "metadata": {
            "tags": []
          }
        }
      ]
    },
    {
      "cell_type": "code",
      "metadata": {
        "id": "ImduMGIgGSJ6",
        "colab_type": "code",
        "colab": {}
      },
      "source": [
        "df.drop(['Unnamed: 0','tweet_text','clean_text','word_count','lang'],axis=1,inplace=True)"
      ],
      "execution_count": 0,
      "outputs": []
    },
    {
      "cell_type": "code",
      "metadata": {
        "id": "t65FJk3IGgFm",
        "colab_type": "code",
        "outputId": "e27f72c5-f791-40fe-9ade-8503e7204cf7",
        "colab": {
          "base_uri": "https://localhost:8080/",
          "height": 377
        }
      },
      "source": [
        "df.head()"
      ],
      "execution_count": 173,
      "outputs": [
        {
          "output_type": "execute_result",
          "data": {
            "text/html": [
              "<div>\n",
              "<style scoped>\n",
              "    .dataframe tbody tr th:only-of-type {\n",
              "        vertical-align: middle;\n",
              "    }\n",
              "\n",
              "    .dataframe tbody tr th {\n",
              "        vertical-align: top;\n",
              "    }\n",
              "\n",
              "    .dataframe thead th {\n",
              "        text-align: right;\n",
              "    }\n",
              "</style>\n",
              "<table border=\"1\" class=\"dataframe\">\n",
              "  <thead>\n",
              "    <tr style=\"text-align: right;\">\n",
              "      <th></th>\n",
              "      <th>num_hashtags</th>\n",
              "      <th>num_symbols</th>\n",
              "      <th>num_user_mentions</th>\n",
              "      <th>num_urls</th>\n",
              "      <th>retweet_count</th>\n",
              "      <th>favorite_count</th>\n",
              "      <th>source</th>\n",
              "      <th>source_user_followers_count</th>\n",
              "      <th>source_user_friends_count</th>\n",
              "      <th>source_user_statuses_count</th>\n",
              "      <th>source_user_geo_enabled</th>\n",
              "      <th>source_user_verified</th>\n",
              "      <th>label</th>\n",
              "      <th>url_present</th>\n",
              "      <th>emoji_present</th>\n",
              "      <th>source_new</th>\n",
              "    </tr>\n",
              "  </thead>\n",
              "  <tbody>\n",
              "    <tr>\n",
              "      <th>0</th>\n",
              "      <td>0.0</td>\n",
              "      <td>0.0</td>\n",
              "      <td>0.0</td>\n",
              "      <td>0.0</td>\n",
              "      <td>12.0</td>\n",
              "      <td>31</td>\n",
              "      <td>&lt;a href=\"http://twitter.com/download/android\" ...</td>\n",
              "      <td>2032.0</td>\n",
              "      <td>309.0</td>\n",
              "      <td>9866</td>\n",
              "      <td>True</td>\n",
              "      <td>False</td>\n",
              "      <td>Collusive</td>\n",
              "      <td>0</td>\n",
              "      <td>NoEmoji</td>\n",
              "      <td>Twitter for Android</td>\n",
              "    </tr>\n",
              "    <tr>\n",
              "      <th>1</th>\n",
              "      <td>0.0</td>\n",
              "      <td>0.0</td>\n",
              "      <td>1.0</td>\n",
              "      <td>0.0</td>\n",
              "      <td>1036.0</td>\n",
              "      <td>0</td>\n",
              "      <td>&lt;a href=\"http://twitter.com/download/iphone\" r...</td>\n",
              "      <td>202.0</td>\n",
              "      <td>368.0</td>\n",
              "      <td>628</td>\n",
              "      <td>False</td>\n",
              "      <td>False</td>\n",
              "      <td>Genuine</td>\n",
              "      <td>0</td>\n",
              "      <td>NoEmoji</td>\n",
              "      <td>Twitter for iPhone</td>\n",
              "    </tr>\n",
              "    <tr>\n",
              "      <th>2</th>\n",
              "      <td>3.0</td>\n",
              "      <td>0.0</td>\n",
              "      <td>0.0</td>\n",
              "      <td>0.0</td>\n",
              "      <td>9.0</td>\n",
              "      <td>9</td>\n",
              "      <td>&lt;a href=\"http://twitter.com/download/android\" ...</td>\n",
              "      <td>324.0</td>\n",
              "      <td>796.0</td>\n",
              "      <td>103</td>\n",
              "      <td>False</td>\n",
              "      <td>False</td>\n",
              "      <td>Collusive</td>\n",
              "      <td>1</td>\n",
              "      <td>Emoji</td>\n",
              "      <td>Twitter for Android</td>\n",
              "    </tr>\n",
              "    <tr>\n",
              "      <th>3</th>\n",
              "      <td>1.0</td>\n",
              "      <td>0.0</td>\n",
              "      <td>0.0</td>\n",
              "      <td>1.0</td>\n",
              "      <td>159.0</td>\n",
              "      <td>34</td>\n",
              "      <td>&lt;a href=\"http://twitter.com\" rel=\"nofollow\"&gt;Tw...</td>\n",
              "      <td>57.0</td>\n",
              "      <td>1640.0</td>\n",
              "      <td>249</td>\n",
              "      <td>False</td>\n",
              "      <td>False</td>\n",
              "      <td>Collusive</td>\n",
              "      <td>1</td>\n",
              "      <td>NoEmoji</td>\n",
              "      <td>Twitter Web Client</td>\n",
              "    </tr>\n",
              "    <tr>\n",
              "      <th>5</th>\n",
              "      <td>0.0</td>\n",
              "      <td>0.0</td>\n",
              "      <td>1.0</td>\n",
              "      <td>0.0</td>\n",
              "      <td>6476.0</td>\n",
              "      <td>0</td>\n",
              "      <td>&lt;a href=\"http://twitter.com/download/iphone\" r...</td>\n",
              "      <td>419.0</td>\n",
              "      <td>1586.0</td>\n",
              "      <td>11135</td>\n",
              "      <td>True</td>\n",
              "      <td>False</td>\n",
              "      <td>Genuine</td>\n",
              "      <td>0</td>\n",
              "      <td>Emoji</td>\n",
              "      <td>Twitter for iPhone</td>\n",
              "    </tr>\n",
              "  </tbody>\n",
              "</table>\n",
              "</div>"
            ],
            "text/plain": [
              "   num_hashtags  num_symbols  ...  emoji_present           source_new\n",
              "0           0.0          0.0  ...        NoEmoji  Twitter for Android\n",
              "1           0.0          0.0  ...        NoEmoji   Twitter for iPhone\n",
              "2           3.0          0.0  ...          Emoji  Twitter for Android\n",
              "3           1.0          0.0  ...        NoEmoji   Twitter Web Client\n",
              "5           0.0          0.0  ...          Emoji   Twitter for iPhone\n",
              "\n",
              "[5 rows x 16 columns]"
            ]
          },
          "metadata": {
            "tags": []
          },
          "execution_count": 173
        }
      ]
    },
    {
      "cell_type": "code",
      "metadata": {
        "id": "K5V8jjd0GqgF",
        "colab_type": "code",
        "outputId": "4d3fe551-d994-41ad-ea37-dce5770d455e",
        "colab": {
          "base_uri": "https://localhost:8080/",
          "height": 34
        }
      },
      "source": [
        "len(df)"
      ],
      "execution_count": 170,
      "outputs": [
        {
          "output_type": "execute_result",
          "data": {
            "text/plain": [
              "7352"
            ]
          },
          "metadata": {
            "tags": []
          },
          "execution_count": 170
        }
      ]
    },
    {
      "cell_type": "code",
      "metadata": {
        "id": "O6L9rA9PHSNx",
        "colab_type": "code",
        "colab": {}
      },
      "source": [
        "source_list=[]\n",
        "for row in df.source:\n",
        "  source_list.append(BeautifulSoup(row).string)\n",
        "df['source_new']=source_list  "
      ],
      "execution_count": 0,
      "outputs": []
    },
    {
      "cell_type": "code",
      "metadata": {
        "id": "XwNJaxwaDJI3",
        "colab_type": "code",
        "colab": {}
      },
      "source": [
        ""
      ],
      "execution_count": 0,
      "outputs": []
    },
    {
      "cell_type": "code",
      "metadata": {
        "id": "-tAisZDAIMJZ",
        "colab_type": "code",
        "outputId": "bd41d91f-26d2-4f4a-c481-640e69a57302",
        "colab": {
          "base_uri": "https://localhost:8080/",
          "height": 34
        }
      },
      "source": [
        "len(df.source_new.unique())"
      ],
      "execution_count": 172,
      "outputs": [
        {
          "output_type": "execute_result",
          "data": {
            "text/plain": [
              "220"
            ]
          },
          "metadata": {
            "tags": []
          },
          "execution_count": 172
        }
      ]
    },
    {
      "cell_type": "code",
      "metadata": {
        "id": "mKkpHvmJJa7Y",
        "colab_type": "code",
        "colab": {}
      },
      "source": [
        "df.drop(['source','source_new'],axis=1,inplace=True)"
      ],
      "execution_count": 0,
      "outputs": []
    },
    {
      "cell_type": "code",
      "metadata": {
        "id": "qpoNCTz9Mv_E",
        "colab_type": "code",
        "outputId": "5f2d92c4-388e-41f6-dfaf-25c7084f6cc0",
        "colab": {
          "base_uri": "https://localhost:8080/",
          "height": 317
        }
      },
      "source": [
        "df.describe()"
      ],
      "execution_count": 101,
      "outputs": [
        {
          "output_type": "execute_result",
          "data": {
            "text/html": [
              "<div>\n",
              "<style scoped>\n",
              "    .dataframe tbody tr th:only-of-type {\n",
              "        vertical-align: middle;\n",
              "    }\n",
              "\n",
              "    .dataframe tbody tr th {\n",
              "        vertical-align: top;\n",
              "    }\n",
              "\n",
              "    .dataframe thead th {\n",
              "        text-align: right;\n",
              "    }\n",
              "</style>\n",
              "<table border=\"1\" class=\"dataframe\">\n",
              "  <thead>\n",
              "    <tr style=\"text-align: right;\">\n",
              "      <th></th>\n",
              "      <th>num_hashtags</th>\n",
              "      <th>num_symbols</th>\n",
              "      <th>num_user_mentions</th>\n",
              "      <th>num_urls</th>\n",
              "      <th>retweet_count</th>\n",
              "      <th>source_user_followers_count</th>\n",
              "      <th>source_user_friends_count</th>\n",
              "      <th>url_present</th>\n",
              "      <th>word_count</th>\n",
              "    </tr>\n",
              "  </thead>\n",
              "  <tbody>\n",
              "    <tr>\n",
              "      <th>count</th>\n",
              "      <td>9997.000000</td>\n",
              "      <td>9997.000000</td>\n",
              "      <td>9997.000000</td>\n",
              "      <td>9997.000000</td>\n",
              "      <td>9997.000000</td>\n",
              "      <td>9.997000e+03</td>\n",
              "      <td>9997.000000</td>\n",
              "      <td>9997.000000</td>\n",
              "      <td>9997.000000</td>\n",
              "    </tr>\n",
              "    <tr>\n",
              "      <th>mean</th>\n",
              "      <td>1.095129</td>\n",
              "      <td>0.002801</td>\n",
              "      <td>0.699910</td>\n",
              "      <td>0.489247</td>\n",
              "      <td>1361.391317</td>\n",
              "      <td>1.228554e+05</td>\n",
              "      <td>6759.088827</td>\n",
              "      <td>0.663799</td>\n",
              "      <td>16.623187</td>\n",
              "    </tr>\n",
              "    <tr>\n",
              "      <th>std</th>\n",
              "      <td>2.528955</td>\n",
              "      <td>0.081208</td>\n",
              "      <td>1.309144</td>\n",
              "      <td>0.571262</td>\n",
              "      <td>16448.131208</td>\n",
              "      <td>1.391078e+06</td>\n",
              "      <td>51787.903595</td>\n",
              "      <td>0.472432</td>\n",
              "      <td>9.955993</td>\n",
              "    </tr>\n",
              "    <tr>\n",
              "      <th>min</th>\n",
              "      <td>0.000000</td>\n",
              "      <td>0.000000</td>\n",
              "      <td>0.000000</td>\n",
              "      <td>0.000000</td>\n",
              "      <td>0.000000</td>\n",
              "      <td>0.000000e+00</td>\n",
              "      <td>0.000000</td>\n",
              "      <td>0.000000</td>\n",
              "      <td>0.000000</td>\n",
              "    </tr>\n",
              "    <tr>\n",
              "      <th>25%</th>\n",
              "      <td>0.000000</td>\n",
              "      <td>0.000000</td>\n",
              "      <td>0.000000</td>\n",
              "      <td>0.000000</td>\n",
              "      <td>0.000000</td>\n",
              "      <td>2.110000e+02</td>\n",
              "      <td>148.000000</td>\n",
              "      <td>0.000000</td>\n",
              "      <td>9.000000</td>\n",
              "    </tr>\n",
              "    <tr>\n",
              "      <th>50%</th>\n",
              "      <td>0.000000</td>\n",
              "      <td>0.000000</td>\n",
              "      <td>0.000000</td>\n",
              "      <td>0.000000</td>\n",
              "      <td>5.000000</td>\n",
              "      <td>1.006000e+03</td>\n",
              "      <td>526.000000</td>\n",
              "      <td>1.000000</td>\n",
              "      <td>16.000000</td>\n",
              "    </tr>\n",
              "    <tr>\n",
              "      <th>75%</th>\n",
              "      <td>1.000000</td>\n",
              "      <td>0.000000</td>\n",
              "      <td>1.000000</td>\n",
              "      <td>1.000000</td>\n",
              "      <td>31.000000</td>\n",
              "      <td>6.043000e+03</td>\n",
              "      <td>1469.000000</td>\n",
              "      <td>1.000000</td>\n",
              "      <td>22.000000</td>\n",
              "    </tr>\n",
              "    <tr>\n",
              "      <th>max</th>\n",
              "      <td>30.000000</td>\n",
              "      <td>4.000000</td>\n",
              "      <td>46.000000</td>\n",
              "      <td>6.000000</td>\n",
              "      <td>457650.000000</td>\n",
              "      <td>3.900518e+07</td>\n",
              "      <td>982196.000000</td>\n",
              "      <td>1.000000</td>\n",
              "      <td>86.000000</td>\n",
              "    </tr>\n",
              "  </tbody>\n",
              "</table>\n",
              "</div>"
            ],
            "text/plain": [
              "       num_hashtags  num_symbols  ...  url_present   word_count\n",
              "count   9997.000000  9997.000000  ...  9997.000000  9997.000000\n",
              "mean       1.095129     0.002801  ...     0.663799    16.623187\n",
              "std        2.528955     0.081208  ...     0.472432     9.955993\n",
              "min        0.000000     0.000000  ...     0.000000     0.000000\n",
              "25%        0.000000     0.000000  ...     0.000000     9.000000\n",
              "50%        0.000000     0.000000  ...     1.000000    16.000000\n",
              "75%        1.000000     0.000000  ...     1.000000    22.000000\n",
              "max       30.000000     4.000000  ...     1.000000    86.000000\n",
              "\n",
              "[8 rows x 9 columns]"
            ]
          },
          "metadata": {
            "tags": []
          },
          "execution_count": 101
        }
      ]
    },
    {
      "cell_type": "code",
      "metadata": {
        "id": "IwEzXkSzoFy1",
        "colab_type": "code",
        "outputId": "80b93970-9431-49ea-8e38-ddbc3e6ee571",
        "colab": {
          "base_uri": "https://localhost:8080/",
          "height": 34
        }
      },
      "source": [
        "len(df[df.label=='Collusive'])"
      ],
      "execution_count": 176,
      "outputs": [
        {
          "output_type": "execute_result",
          "data": {
            "text/plain": [
              "3105"
            ]
          },
          "metadata": {
            "tags": []
          },
          "execution_count": 176
        }
      ]
    },
    {
      "cell_type": "code",
      "metadata": {
        "id": "euUbNcVbM4-Z",
        "colab_type": "code",
        "colab": {}
      },
      "source": [
        "sc=StandardScaler()\n",
        "df[['source_user_followers_count']]=sc.fit_transform(df[['source_user_followers_count']])\n",
        "sc1=StandardScaler()\n",
        "df[['source_user_friends_count']]=sc1.fit_transform(df[['source_user_friends_count']])\n",
        "sc2=StandardScaler()\n",
        "df[['retweet_count']]=sc2.fit_transform(df[['retweet_count']])\n",
        "sc3=StandardScaler()\n",
        "df[['favorite_count']]=sc.fit_transform(df[['favorite_count']])\n",
        "sc4=StandardScaler()\n",
        "df[['num_hashtags']]=sc4.fit_transform(df[['num_hashtags']])\n",
        "sc5=StandardScaler()\n",
        "df[['num_user_mentions']]=sc.fit_transform(df[['num_user_mentions']])\n",
        "sc=StandardScaler()\n",
        "df[['source_user_statuses_count']]=sc.fit_transform(df[['source_user_statuses_count']])"
      ],
      "execution_count": 0,
      "outputs": []
    },
    {
      "cell_type": "code",
      "metadata": {
        "id": "ziY8FM2_T55a",
        "colab_type": "code",
        "outputId": "0ff5dd04-75fe-4397-ac6a-06a1e0579632",
        "colab": {
          "base_uri": "https://localhost:8080/",
          "height": 224
        }
      },
      "source": [
        "df.head()"
      ],
      "execution_count": 182,
      "outputs": [
        {
          "output_type": "execute_result",
          "data": {
            "text/html": [
              "<div>\n",
              "<style scoped>\n",
              "    .dataframe tbody tr th:only-of-type {\n",
              "        vertical-align: middle;\n",
              "    }\n",
              "\n",
              "    .dataframe tbody tr th {\n",
              "        vertical-align: top;\n",
              "    }\n",
              "\n",
              "    .dataframe thead th {\n",
              "        text-align: right;\n",
              "    }\n",
              "</style>\n",
              "<table border=\"1\" class=\"dataframe\">\n",
              "  <thead>\n",
              "    <tr style=\"text-align: right;\">\n",
              "      <th></th>\n",
              "      <th>num_hashtags</th>\n",
              "      <th>num_user_mentions</th>\n",
              "      <th>num_urls</th>\n",
              "      <th>retweet_count</th>\n",
              "      <th>favorite_count</th>\n",
              "      <th>source_user_followers_count</th>\n",
              "      <th>source_user_friends_count</th>\n",
              "      <th>source_user_statuses_count</th>\n",
              "      <th>source_user_geo_enabled</th>\n",
              "      <th>source_user_verified</th>\n",
              "      <th>label</th>\n",
              "      <th>url_present</th>\n",
              "      <th>emoji_present</th>\n",
              "    </tr>\n",
              "  </thead>\n",
              "  <tbody>\n",
              "    <tr>\n",
              "      <th>0</th>\n",
              "      <td>-0.450270</td>\n",
              "      <td>-0.573579</td>\n",
              "      <td>0.0</td>\n",
              "      <td>-0.093849</td>\n",
              "      <td>-0.024897</td>\n",
              "      <td>-0.092310</td>\n",
              "      <td>-0.131667</td>\n",
              "      <td>-0.146722</td>\n",
              "      <td>True</td>\n",
              "      <td>False</td>\n",
              "      <td>Collusive</td>\n",
              "      <td>0</td>\n",
              "      <td>NoEmoji</td>\n",
              "    </tr>\n",
              "    <tr>\n",
              "      <th>1</th>\n",
              "      <td>-0.450270</td>\n",
              "      <td>0.193000</td>\n",
              "      <td>0.0</td>\n",
              "      <td>0.006051</td>\n",
              "      <td>-0.031539</td>\n",
              "      <td>-0.093590</td>\n",
              "      <td>-0.130460</td>\n",
              "      <td>-0.349166</td>\n",
              "      <td>False</td>\n",
              "      <td>False</td>\n",
              "      <td>Genuine</td>\n",
              "      <td>0</td>\n",
              "      <td>NoEmoji</td>\n",
              "    </tr>\n",
              "    <tr>\n",
              "      <th>2</th>\n",
              "      <td>0.828200</td>\n",
              "      <td>-0.573579</td>\n",
              "      <td>0.0</td>\n",
              "      <td>-0.094141</td>\n",
              "      <td>-0.029611</td>\n",
              "      <td>-0.093505</td>\n",
              "      <td>-0.121707</td>\n",
              "      <td>-0.360671</td>\n",
              "      <td>False</td>\n",
              "      <td>False</td>\n",
              "      <td>Collusive</td>\n",
              "      <td>1</td>\n",
              "      <td>Emoji</td>\n",
              "    </tr>\n",
              "    <tr>\n",
              "      <th>3</th>\n",
              "      <td>-0.024113</td>\n",
              "      <td>-0.573579</td>\n",
              "      <td>1.0</td>\n",
              "      <td>-0.079508</td>\n",
              "      <td>-0.024254</td>\n",
              "      <td>-0.093691</td>\n",
              "      <td>-0.104445</td>\n",
              "      <td>-0.357472</td>\n",
              "      <td>False</td>\n",
              "      <td>False</td>\n",
              "      <td>Collusive</td>\n",
              "      <td>1</td>\n",
              "      <td>NoEmoji</td>\n",
              "    </tr>\n",
              "    <tr>\n",
              "      <th>5</th>\n",
              "      <td>-0.450270</td>\n",
              "      <td>0.193000</td>\n",
              "      <td>0.0</td>\n",
              "      <td>0.536770</td>\n",
              "      <td>-0.031539</td>\n",
              "      <td>-0.093438</td>\n",
              "      <td>-0.105549</td>\n",
              "      <td>-0.118912</td>\n",
              "      <td>True</td>\n",
              "      <td>False</td>\n",
              "      <td>Genuine</td>\n",
              "      <td>0</td>\n",
              "      <td>Emoji</td>\n",
              "    </tr>\n",
              "  </tbody>\n",
              "</table>\n",
              "</div>"
            ],
            "text/plain": [
              "   num_hashtags  num_user_mentions  ...  url_present  emoji_present\n",
              "0     -0.450270          -0.573579  ...            0        NoEmoji\n",
              "1     -0.450270           0.193000  ...            0        NoEmoji\n",
              "2      0.828200          -0.573579  ...            1          Emoji\n",
              "3     -0.024113          -0.573579  ...            1        NoEmoji\n",
              "5     -0.450270           0.193000  ...            0          Emoji\n",
              "\n",
              "[5 rows x 13 columns]"
            ]
          },
          "metadata": {
            "tags": []
          },
          "execution_count": 182
        }
      ]
    },
    {
      "cell_type": "code",
      "metadata": {
        "id": "M6XtKmJqZTtz",
        "colab_type": "code",
        "colab": {}
      },
      "source": [
        "lc=LabelEncoder()\n",
        "df['lang']=lc.fit_transform(df['lang'])"
      ],
      "execution_count": 0,
      "outputs": []
    },
    {
      "cell_type": "code",
      "metadata": {
        "id": "9661e3wEaoZT",
        "colab_type": "code",
        "colab": {}
      },
      "source": [
        "lc1=LabelEncoder()\n",
        "df['source_user_geo_enabled']=lc1.fit_transform(df['source_user_geo_enabled'])\n",
        "lc2=LabelEncoder()\n",
        "df['source_user_verified']=lc2.fit_transform(df['source_user_verified'])\n",
        "lc3=LabelEncoder()\n",
        "df['source_user_geo_enabled']=lc3.fit_transform(df['source_user_geo_enabled'])\n",
        "lc4=LabelEncoder()\n",
        "df['emoji_present']=lc4.fit_transform(df['emoji_present'])\n"
      ],
      "execution_count": 0,
      "outputs": []
    },
    {
      "cell_type": "code",
      "metadata": {
        "id": "St5T43pqeoYX",
        "colab_type": "code",
        "colab": {}
      },
      "source": [
        "df.drop('num_symbols',axis=1,inplace=True)"
      ],
      "execution_count": 0,
      "outputs": []
    },
    {
      "cell_type": "code",
      "metadata": {
        "id": "9g_Vabawe1n3",
        "colab_type": "code",
        "colab": {}
      },
      "source": [
        "y=df['label']"
      ],
      "execution_count": 0,
      "outputs": []
    },
    {
      "cell_type": "code",
      "metadata": {
        "id": "sI7KDxsGe-QL",
        "colab_type": "code",
        "outputId": "a06e0b40-66a9-4a35-e42d-c1136031e164",
        "colab": {
          "base_uri": "https://localhost:8080/",
          "height": 34
        }
      },
      "source": [
        "len(y)"
      ],
      "execution_count": 185,
      "outputs": [
        {
          "output_type": "execute_result",
          "data": {
            "text/plain": [
              "7352"
            ]
          },
          "metadata": {
            "tags": []
          },
          "execution_count": 185
        }
      ]
    },
    {
      "cell_type": "code",
      "metadata": {
        "id": "OClzfnXae_mu",
        "colab_type": "code",
        "colab": {}
      },
      "source": [
        "df.drop('label',axis=1,inplace=True)"
      ],
      "execution_count": 0,
      "outputs": []
    },
    {
      "cell_type": "code",
      "metadata": {
        "id": "B8H3NQ7yfGuY",
        "colab_type": "code",
        "colab": {}
      },
      "source": [
        "import xgboost as xgb\n",
        "from sklearn.linear_model import LogisticRegression\n",
        "from sklearn.naive_bayes import GaussianNB\n",
        "from sklearn.tree import DecisionTreeClassifier\n",
        "from sklearn.ensemble import RandomForestClassifier"
      ],
      "execution_count": 0,
      "outputs": []
    },
    {
      "cell_type": "code",
      "metadata": {
        "id": "S3wDQ8nTfH9D",
        "colab_type": "code",
        "colab": {}
      },
      "source": [
        "from sklearn.model_selection import train_test_split\n",
        "x_train,x_val,y_train,y_val=train_test_split(df,y,test_size=0.2,random_state=9)"
      ],
      "execution_count": 0,
      "outputs": []
    },
    {
      "cell_type": "code",
      "metadata": {
        "id": "_IYf0neTAP-I",
        "colab_type": "code",
        "colab": {
          "base_uri": "https://localhost:8080/",
          "height": 224
        },
        "outputId": "178b2998-1751-4928-ddeb-7a29098b3293"
      },
      "source": [
        "df.head()"
      ],
      "execution_count": 189,
      "outputs": [
        {
          "output_type": "execute_result",
          "data": {
            "text/html": [
              "<div>\n",
              "<style scoped>\n",
              "    .dataframe tbody tr th:only-of-type {\n",
              "        vertical-align: middle;\n",
              "    }\n",
              "\n",
              "    .dataframe tbody tr th {\n",
              "        vertical-align: top;\n",
              "    }\n",
              "\n",
              "    .dataframe thead th {\n",
              "        text-align: right;\n",
              "    }\n",
              "</style>\n",
              "<table border=\"1\" class=\"dataframe\">\n",
              "  <thead>\n",
              "    <tr style=\"text-align: right;\">\n",
              "      <th></th>\n",
              "      <th>num_hashtags</th>\n",
              "      <th>num_user_mentions</th>\n",
              "      <th>num_urls</th>\n",
              "      <th>retweet_count</th>\n",
              "      <th>favorite_count</th>\n",
              "      <th>source_user_followers_count</th>\n",
              "      <th>source_user_friends_count</th>\n",
              "      <th>source_user_statuses_count</th>\n",
              "      <th>source_user_geo_enabled</th>\n",
              "      <th>source_user_verified</th>\n",
              "      <th>url_present</th>\n",
              "      <th>emoji_present</th>\n",
              "    </tr>\n",
              "  </thead>\n",
              "  <tbody>\n",
              "    <tr>\n",
              "      <th>0</th>\n",
              "      <td>-0.450270</td>\n",
              "      <td>-0.573579</td>\n",
              "      <td>0.0</td>\n",
              "      <td>-0.093849</td>\n",
              "      <td>-0.024897</td>\n",
              "      <td>-0.092310</td>\n",
              "      <td>-0.131667</td>\n",
              "      <td>-0.146722</td>\n",
              "      <td>1</td>\n",
              "      <td>0</td>\n",
              "      <td>0</td>\n",
              "      <td>1</td>\n",
              "    </tr>\n",
              "    <tr>\n",
              "      <th>1</th>\n",
              "      <td>-0.450270</td>\n",
              "      <td>0.193000</td>\n",
              "      <td>0.0</td>\n",
              "      <td>0.006051</td>\n",
              "      <td>-0.031539</td>\n",
              "      <td>-0.093590</td>\n",
              "      <td>-0.130460</td>\n",
              "      <td>-0.349166</td>\n",
              "      <td>0</td>\n",
              "      <td>0</td>\n",
              "      <td>0</td>\n",
              "      <td>1</td>\n",
              "    </tr>\n",
              "    <tr>\n",
              "      <th>2</th>\n",
              "      <td>0.828200</td>\n",
              "      <td>-0.573579</td>\n",
              "      <td>0.0</td>\n",
              "      <td>-0.094141</td>\n",
              "      <td>-0.029611</td>\n",
              "      <td>-0.093505</td>\n",
              "      <td>-0.121707</td>\n",
              "      <td>-0.360671</td>\n",
              "      <td>0</td>\n",
              "      <td>0</td>\n",
              "      <td>1</td>\n",
              "      <td>0</td>\n",
              "    </tr>\n",
              "    <tr>\n",
              "      <th>3</th>\n",
              "      <td>-0.024113</td>\n",
              "      <td>-0.573579</td>\n",
              "      <td>1.0</td>\n",
              "      <td>-0.079508</td>\n",
              "      <td>-0.024254</td>\n",
              "      <td>-0.093691</td>\n",
              "      <td>-0.104445</td>\n",
              "      <td>-0.357472</td>\n",
              "      <td>0</td>\n",
              "      <td>0</td>\n",
              "      <td>1</td>\n",
              "      <td>1</td>\n",
              "    </tr>\n",
              "    <tr>\n",
              "      <th>5</th>\n",
              "      <td>-0.450270</td>\n",
              "      <td>0.193000</td>\n",
              "      <td>0.0</td>\n",
              "      <td>0.536770</td>\n",
              "      <td>-0.031539</td>\n",
              "      <td>-0.093438</td>\n",
              "      <td>-0.105549</td>\n",
              "      <td>-0.118912</td>\n",
              "      <td>1</td>\n",
              "      <td>0</td>\n",
              "      <td>0</td>\n",
              "      <td>0</td>\n",
              "    </tr>\n",
              "  </tbody>\n",
              "</table>\n",
              "</div>"
            ],
            "text/plain": [
              "   num_hashtags  num_user_mentions  ...  url_present  emoji_present\n",
              "0     -0.450270          -0.573579  ...            0              1\n",
              "1     -0.450270           0.193000  ...            0              1\n",
              "2      0.828200          -0.573579  ...            1              0\n",
              "3     -0.024113          -0.573579  ...            1              1\n",
              "5     -0.450270           0.193000  ...            0              0\n",
              "\n",
              "[5 rows x 12 columns]"
            ]
          },
          "metadata": {
            "tags": []
          },
          "execution_count": 189
        }
      ]
    },
    {
      "cell_type": "code",
      "metadata": {
        "id": "eO-tfM8agm3a",
        "colab_type": "code",
        "outputId": "251f9260-c6fc-4d65-9a5a-ce9e837f6820",
        "colab": {
          "base_uri": "https://localhost:8080/",
          "height": 224
        }
      },
      "source": [
        "clf3=xgb.XGBClassifier(learning_rate=0.1,n_estimators=200,max_depth=5,min_child_weight=5,gamma=0,subsample=0.8,colsample_bytree=0.8,reg_alpha=0.005,objective='binary:logistic',n_thread=4,scale_pos_weight=1)\n",
        "clf3.fit(x_train,y_train)\n",
        "clf=LogisticRegression()\n",
        "clf.fit(x_train,y_train)\n",
        "clf1=GaussianNB()\n",
        "clf1.fit(x_train,y_train)\n",
        "clf4=DecisionTreeClassifier()\n",
        "clf4.fit(x_train,y_train)\n",
        "clf5=RandomForestClassifier()\n",
        "clf5.fit(x_train,y_train)"
      ],
      "execution_count": 190,
      "outputs": [
        {
          "output_type": "stream",
          "text": [
            "/usr/local/lib/python3.6/dist-packages/sklearn/linear_model/logistic.py:432: FutureWarning: Default solver will be changed to 'lbfgs' in 0.22. Specify a solver to silence this warning.\n",
            "  FutureWarning)\n",
            "/usr/local/lib/python3.6/dist-packages/sklearn/ensemble/forest.py:245: FutureWarning: The default value of n_estimators will change from 10 in version 0.20 to 100 in 0.22.\n",
            "  \"10 in version 0.20 to 100 in 0.22.\", FutureWarning)\n"
          ],
          "name": "stderr"
        },
        {
          "output_type": "execute_result",
          "data": {
            "text/plain": [
              "RandomForestClassifier(bootstrap=True, class_weight=None, criterion='gini',\n",
              "                       max_depth=None, max_features='auto', max_leaf_nodes=None,\n",
              "                       min_impurity_decrease=0.0, min_impurity_split=None,\n",
              "                       min_samples_leaf=1, min_samples_split=2,\n",
              "                       min_weight_fraction_leaf=0.0, n_estimators=10,\n",
              "                       n_jobs=None, oob_score=False, random_state=None,\n",
              "                       verbose=0, warm_start=False)"
            ]
          },
          "metadata": {
            "tags": []
          },
          "execution_count": 190
        }
      ]
    },
    {
      "cell_type": "code",
      "metadata": {
        "id": "7XQStr2VhLwW",
        "colab_type": "code",
        "colab": {}
      },
      "source": [
        "y_pred=clf4.predict(x_val)"
      ],
      "execution_count": 0,
      "outputs": []
    },
    {
      "cell_type": "code",
      "metadata": {
        "id": "YiT5_GC6hTsv",
        "colab_type": "code",
        "colab": {}
      },
      "source": [
        "from sklearn.metrics import accuracy_score,confusion_matrix"
      ],
      "execution_count": 0,
      "outputs": []
    },
    {
      "cell_type": "code",
      "metadata": {
        "id": "dTNKZHaOhVNV",
        "colab_type": "code",
        "outputId": "774c3669-3a19-4476-8f92-fdffd9baa261",
        "colab": {
          "base_uri": "https://localhost:8080/",
          "height": 34
        }
      },
      "source": [
        "accuracy_score(y_val,y_pred)"
      ],
      "execution_count": 203,
      "outputs": [
        {
          "output_type": "execute_result",
          "data": {
            "text/plain": [
              "0.8987083616587356"
            ]
          },
          "metadata": {
            "tags": []
          },
          "execution_count": 203
        }
      ]
    },
    {
      "cell_type": "code",
      "metadata": {
        "id": "4xJq_Z44hl7n",
        "colab_type": "code",
        "colab": {}
      },
      "source": [
        ""
      ],
      "execution_count": 0,
      "outputs": []
    }
  ]
}