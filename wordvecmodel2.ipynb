{
  "nbformat": 4,
  "nbformat_minor": 0,
  "metadata": {
    "colab": {
      "name": "wordvecmodel.ipynb",
      "provenance": [],
      "collapsed_sections": [],
      "include_colab_link": true
    },
    "kernelspec": {
      "name": "python3",
      "display_name": "Python 3"
    },
    "accelerator": "GPU"
  },
  "cells": [
    {
      "cell_type": "markdown",
      "metadata": {
        "id": "view-in-github",
        "colab_type": "text"
      },
      "source": [
        "<a href=\"https://colab.research.google.com/github/manjotmb20/tweet-analysis/blob/master/wordvecmodel2.ipynb\" target=\"_parent\"><img src=\"https://colab.research.google.com/assets/colab-badge.svg\" alt=\"Open In Colab\"/></a>"
      ]
    },
    {
      "cell_type": "code",
      "metadata": {
        "id": "Exd_ca2Ioxxo",
        "colab_type": "code",
        "colab": {
          "base_uri": "https://localhost:8080/",
          "height": 102
        },
        "outputId": "46e358b6-bd54-48b9-d281-cc907f94ed28"
      },
      "source": [
        "import numpy as np\n",
        "import pandas as pd\n",
        "import re\n",
        "import matplotlib.pyplot as plt\n",
        "import nltk\n",
        "import seaborn as sns\n",
        "import nltk\n",
        "nltk.download('stopwords')\n",
        "nltk.download('punkt')"
      ],
      "execution_count": 474,
      "outputs": [
        {
          "output_type": "stream",
          "text": [
            "[nltk_data] Downloading package stopwords to /root/nltk_data...\n",
            "[nltk_data]   Package stopwords is already up-to-date!\n",
            "[nltk_data] Downloading package punkt to /root/nltk_data...\n",
            "[nltk_data]   Package punkt is already up-to-date!\n"
          ],
          "name": "stdout"
        },
        {
          "output_type": "execute_result",
          "data": {
            "text/plain": [
              "True"
            ]
          },
          "metadata": {
            "tags": []
          },
          "execution_count": 474
        }
      ]
    },
    {
      "cell_type": "code",
      "metadata": {
        "id": "VaAQ1bxJpf-2",
        "colab_type": "code",
        "colab": {}
      },
      "source": [
        "data=pd.read_csv(\"tweets.csv\")"
      ],
      "execution_count": 0,
      "outputs": []
    },
    {
      "cell_type": "code",
      "metadata": {
        "id": "NSm3CkTQpkgZ",
        "colab_type": "code",
        "colab": {}
      },
      "source": [
        "data.dropna(inplace=True,axis=0)\n"
      ],
      "execution_count": 0,
      "outputs": []
    },
    {
      "cell_type": "code",
      "metadata": {
        "id": "P-lHTq1apmIJ",
        "colab_type": "code",
        "colab": {}
      },
      "source": [
        "df=pd.DataFrame()\n",
        "df[\"content\"]=data[\"tweet_text\"]\n",
        "df[\"label\"]=data[\"label\"]"
      ],
      "execution_count": 0,
      "outputs": []
    },
    {
      "cell_type": "code",
      "metadata": {
        "id": "g6EHxwkmqcUL",
        "colab_type": "code",
        "colab": {
          "base_uri": "https://localhost:8080/",
          "height": 34
        },
        "outputId": "ecceacd4-70af-4bc4-c39d-f1eb68ffa474"
      },
      "source": [
        "len(data)"
      ],
      "execution_count": 478,
      "outputs": [
        {
          "output_type": "execute_result",
          "data": {
            "text/plain": [
              "9998"
            ]
          },
          "metadata": {
            "tags": []
          },
          "execution_count": 478
        }
      ]
    },
    {
      "cell_type": "code",
      "metadata": {
        "id": "rGiFt9BDqiNp",
        "colab_type": "code",
        "colab": {
          "base_uri": "https://localhost:8080/",
          "height": 119
        },
        "outputId": "1c35dd5e-b5b7-458e-fe8a-88cded080093"
      },
      "source": [
        "data.columns"
      ],
      "execution_count": 479,
      "outputs": [
        {
          "output_type": "execute_result",
          "data": {
            "text/plain": [
              "Index(['Unnamed: 0', 'tweet_text', 'creation_time', 'num_hashtags',\n",
              "       'num_symbols', 'num_user_mentions', 'num_urls', 'retweet_count',\n",
              "       'favorite_count', 'source', 'lang', 'source_user_followers_count',\n",
              "       'source_user_friends_count', 'source_user_statuses_count',\n",
              "       'source_user_geo_enabled', 'source_user_verified', 'label'],\n",
              "      dtype='object')"
            ]
          },
          "metadata": {
            "tags": []
          },
          "execution_count": 479
        }
      ]
    },
    {
      "cell_type": "code",
      "metadata": {
        "id": "qxSXLGrLptHZ",
        "colab_type": "code",
        "colab": {}
      },
      "source": [
        "data.drop([\"Unnamed: 0\"],axis=1,inplace=True)"
      ],
      "execution_count": 0,
      "outputs": []
    },
    {
      "cell_type": "code",
      "metadata": {
        "id": "S9jXiK12p6po",
        "colab_type": "code",
        "colab": {
          "base_uri": "https://localhost:8080/",
          "height": 479
        },
        "outputId": "3f25b80f-be51-4d51-859d-8e4d55ee423a"
      },
      "source": [
        "data.head()"
      ],
      "execution_count": 481,
      "outputs": [
        {
          "output_type": "execute_result",
          "data": {
            "text/html": [
              "<div>\n",
              "<style scoped>\n",
              "    .dataframe tbody tr th:only-of-type {\n",
              "        vertical-align: middle;\n",
              "    }\n",
              "\n",
              "    .dataframe tbody tr th {\n",
              "        vertical-align: top;\n",
              "    }\n",
              "\n",
              "    .dataframe thead th {\n",
              "        text-align: right;\n",
              "    }\n",
              "</style>\n",
              "<table border=\"1\" class=\"dataframe\">\n",
              "  <thead>\n",
              "    <tr style=\"text-align: right;\">\n",
              "      <th></th>\n",
              "      <th>tweet_text</th>\n",
              "      <th>creation_time</th>\n",
              "      <th>num_hashtags</th>\n",
              "      <th>num_symbols</th>\n",
              "      <th>num_user_mentions</th>\n",
              "      <th>num_urls</th>\n",
              "      <th>retweet_count</th>\n",
              "      <th>favorite_count</th>\n",
              "      <th>source</th>\n",
              "      <th>lang</th>\n",
              "      <th>source_user_followers_count</th>\n",
              "      <th>source_user_friends_count</th>\n",
              "      <th>source_user_statuses_count</th>\n",
              "      <th>source_user_geo_enabled</th>\n",
              "      <th>source_user_verified</th>\n",
              "      <th>label</th>\n",
              "    </tr>\n",
              "  </thead>\n",
              "  <tbody>\n",
              "    <tr>\n",
              "      <th>0</th>\n",
              "      <td>URL schemes that Sileo supports, so you can be...</td>\n",
              "      <td>Fri Apr 26 18:17:41 +0000 2019</td>\n",
              "      <td>0.0</td>\n",
              "      <td>0.0</td>\n",
              "      <td>0.0</td>\n",
              "      <td>0.0</td>\n",
              "      <td>12.0</td>\n",
              "      <td>31</td>\n",
              "      <td>&lt;a href=\"http://twitter.com/download/android\" ...</td>\n",
              "      <td>en</td>\n",
              "      <td>2032.0</td>\n",
              "      <td>309.0</td>\n",
              "      <td>9866</td>\n",
              "      <td>True</td>\n",
              "      <td>False</td>\n",
              "      <td>Collusive</td>\n",
              "    </tr>\n",
              "    <tr>\n",
              "      <th>1</th>\n",
              "      <td>RT @TheLifeDiaries: Never compare your life to...</td>\n",
              "      <td>Thu Feb 28 05:28:01 +0000 2013</td>\n",
              "      <td>0.0</td>\n",
              "      <td>0.0</td>\n",
              "      <td>1.0</td>\n",
              "      <td>0.0</td>\n",
              "      <td>1036.0</td>\n",
              "      <td>0</td>\n",
              "      <td>&lt;a href=\"http://twitter.com/download/iphone\" r...</td>\n",
              "      <td>en</td>\n",
              "      <td>202.0</td>\n",
              "      <td>368.0</td>\n",
              "      <td>628</td>\n",
              "      <td>False</td>\n",
              "      <td>False</td>\n",
              "      <td>Genuine</td>\n",
              "    </tr>\n",
              "    <tr>\n",
              "      <th>2</th>\n",
              "      <td>Sneak Attack on Skybase👀🤖 #Fortnite #GameofGam...</td>\n",
              "      <td>Sun Jan 20 15:56:32 +0000 2019</td>\n",
              "      <td>3.0</td>\n",
              "      <td>0.0</td>\n",
              "      <td>0.0</td>\n",
              "      <td>0.0</td>\n",
              "      <td>9.0</td>\n",
              "      <td>9</td>\n",
              "      <td>&lt;a href=\"http://twitter.com/download/android\" ...</td>\n",
              "      <td>en</td>\n",
              "      <td>324.0</td>\n",
              "      <td>796.0</td>\n",
              "      <td>103</td>\n",
              "      <td>False</td>\n",
              "      <td>False</td>\n",
              "      <td>Collusive</td>\n",
              "    </tr>\n",
              "    <tr>\n",
              "      <th>3</th>\n",
              "      <td>#Meeseva Apply, Online, Centers, Services, App...</td>\n",
              "      <td>Sat Feb 02 10:16:47 +0000 2019</td>\n",
              "      <td>1.0</td>\n",
              "      <td>0.0</td>\n",
              "      <td>0.0</td>\n",
              "      <td>1.0</td>\n",
              "      <td>159.0</td>\n",
              "      <td>34</td>\n",
              "      <td>&lt;a href=\"http://twitter.com\" rel=\"nofollow\"&gt;Tw...</td>\n",
              "      <td>en</td>\n",
              "      <td>57.0</td>\n",
              "      <td>1640.0</td>\n",
              "      <td>249</td>\n",
              "      <td>False</td>\n",
              "      <td>False</td>\n",
              "      <td>Collusive</td>\n",
              "    </tr>\n",
              "    <tr>\n",
              "      <th>4</th>\n",
              "      <td>RT @Linformatrice: Ceux qui n'étaient présents...</td>\n",
              "      <td>Wed Dec 13 10:04:23 +0000 2017</td>\n",
              "      <td>0.0</td>\n",
              "      <td>0.0</td>\n",
              "      <td>1.0</td>\n",
              "      <td>0.0</td>\n",
              "      <td>190.0</td>\n",
              "      <td>0</td>\n",
              "      <td>&lt;a href=\"http://twitter.com/download/android\" ...</td>\n",
              "      <td>fr</td>\n",
              "      <td>620.0</td>\n",
              "      <td>2591.0</td>\n",
              "      <td>12682</td>\n",
              "      <td>False</td>\n",
              "      <td>False</td>\n",
              "      <td>Genuine</td>\n",
              "    </tr>\n",
              "  </tbody>\n",
              "</table>\n",
              "</div>"
            ],
            "text/plain": [
              "                                          tweet_text  ...      label\n",
              "0  URL schemes that Sileo supports, so you can be...  ...  Collusive\n",
              "1  RT @TheLifeDiaries: Never compare your life to...  ...    Genuine\n",
              "2  Sneak Attack on Skybase👀🤖 #Fortnite #GameofGam...  ...  Collusive\n",
              "3  #Meeseva Apply, Online, Centers, Services, App...  ...  Collusive\n",
              "4  RT @Linformatrice: Ceux qui n'étaient présents...  ...    Genuine\n",
              "\n",
              "[5 rows x 16 columns]"
            ]
          },
          "metadata": {
            "tags": []
          },
          "execution_count": 481
        }
      ]
    },
    {
      "cell_type": "code",
      "metadata": {
        "id": "Vn-RGIX-tUM0",
        "colab_type": "code",
        "colab": {
          "base_uri": "https://localhost:8080/",
          "height": 71
        },
        "outputId": "be5a08a7-13a7-456f-ad23-5b8d27af2914"
      },
      "source": [
        "!pip install tweet-preprocessor\n",
        "import preprocessor as p\n",
        "'''c=type(None)\n",
        "index=0\n",
        "def urlpresent(input_text):\n",
        "  t_parse=p.parse(input_text)\n",
        "  if type(t_parse.urls) is not c:\n",
        "    index=1\n",
        "  else:\n",
        "    index=0\n",
        "  return index\n",
        "tlist=[]\n",
        "for row in data[\"tweet_text\"]:\n",
        "  tlist.append(urlpresent(row))\n",
        "data[\"url_present\"] =tlist'''   "
      ],
      "execution_count": 482,
      "outputs": [
        {
          "output_type": "stream",
          "text": [
            "Requirement already satisfied: tweet-preprocessor in /usr/local/lib/python3.6/dist-packages (0.5.0)\n"
          ],
          "name": "stdout"
        },
        {
          "output_type": "execute_result",
          "data": {
            "text/plain": [
              "'c=type(None)\\nindex=0\\ndef urlpresent(input_text):\\n  t_parse=p.parse(input_text)\\n  if type(t_parse.urls) is not c:\\n    index=1\\n  else:\\n    index=0\\n  return index\\ntlist=[]\\nfor row in data[\"tweet_text\"]:\\n  tlist.append(urlpresent(row))\\ndata[\"url_present\"] =tlist'"
            ]
          },
          "metadata": {
            "tags": []
          },
          "execution_count": 482
        }
      ]
    },
    {
      "cell_type": "code",
      "metadata": {
        "id": "2djS6GN6qxIB",
        "colab_type": "code",
        "colab": {
          "base_uri": "https://localhost:8080/",
          "height": 637
        },
        "outputId": "54af7ad1-0d65-4d00-bb31-97d1fd53c1e5"
      },
      "source": [
        "f, ax = plt.subplots(figsize=(10, 8))\n",
        "corr = data.corr()\n",
        "sns.heatmap(corr, mask=np.zeros_like(corr, dtype=np.bool), cmap=sns.diverging_palette(220, 10, as_cmap=True),\n",
        "            square=True, ax=ax,annot=True)\n"
      ],
      "execution_count": 483,
      "outputs": [
        {
          "output_type": "execute_result",
          "data": {
            "text/plain": [
              "<matplotlib.axes._subplots.AxesSubplot at 0x7fdff0fc5390>"
            ]
          },
          "metadata": {
            "tags": []
          },
          "execution_count": 483
        },
        {
          "output_type": "display_data",
          "data": {
            "image/png": "[encoded data removed]",
            "text/plain": [
              "<Figure size 720x576 with 2 Axes>"
            ]
          },
          "metadata": {
            "tags": []
          }
        }
      ]
    },
    {
      "cell_type": "code",
      "metadata": {
        "id": "Cjfr7ChTrVf1",
        "colab_type": "code",
        "colab": {
          "base_uri": "https://localhost:8080/",
          "height": 34
        },
        "outputId": "32cb0624-e5cd-49d9-ace9-2caaaad466bb"
      },
      "source": [
        "from sklearn.preprocessing import LabelEncoder\n",
        "'''lc=LabelEncoder()\n",
        "data['lang']=lc.fit_transform(data['lang'])'''\n",
        "lc1=LabelEncoder()\n",
        "data['source_user_geo_enabled']=lc1.fit_transform(data['source_user_geo_enabled'])\n",
        "lc2=LabelEncoder()\n",
        "data['source_user_verified']=lc2.fit_transform(data['source_user_verified'])\n",
        "lc3=LabelEncoder()\n",
        "data['source_user_geo_enabled']=lc3.fit_transform(data['source_user_geo_enabled'])\n",
        "'''lc4=LabelEncoder()\n",
        "data['label']=lc4.fit_transform(data['label'])'''\n"
      ],
      "execution_count": 484,
      "outputs": [
        {
          "output_type": "execute_result",
          "data": {
            "text/plain": [
              "\"lc4=LabelEncoder()\\ndata['label']=lc4.fit_transform(data['label'])\""
            ]
          },
          "metadata": {
            "tags": []
          },
          "execution_count": 484
        }
      ]
    },
    {
      "cell_type": "code",
      "metadata": {
        "id": "3P-6ghnhsE85",
        "colab_type": "code",
        "colab": {
          "base_uri": "https://localhost:8080/",
          "height": 34
        },
        "outputId": "da3ef3ac-0844-4125-d537-1bc39c72344f"
      },
      "source": [
        "list2=[]\n",
        "for i in data.lang.unique():\n",
        "  if len(data[data.lang==i])<100:\n",
        "    list2.append(i)\n",
        "print(len(list2))    "
      ],
      "execution_count": 485,
      "outputs": [
        {
          "output_type": "stream",
          "text": [
            "39\n"
          ],
          "name": "stdout"
        }
      ]
    },
    {
      "cell_type": "code",
      "metadata": {
        "id": "zqLhiL3_wGGU",
        "colab_type": "code",
        "colab": {}
      },
      "source": [
        "for i in list2:\n",
        "  data.drop(data[data[\"lang\"]==i].index,axis=0,inplace=True)"
      ],
      "execution_count": 0,
      "outputs": []
    },
    {
      "cell_type": "code",
      "metadata": {
        "id": "gECZPwMkw85U",
        "colab_type": "code",
        "colab": {
          "base_uri": "https://localhost:8080/",
          "height": 34
        },
        "outputId": "4c414939-6409-48fb-dc0a-daf63d199f66"
      },
      "source": [
        "len(data)"
      ],
      "execution_count": 487,
      "outputs": [
        {
          "output_type": "execute_result",
          "data": {
            "text/plain": [
              "9437"
            ]
          },
          "metadata": {
            "tags": []
          },
          "execution_count": 487
        }
      ]
    },
    {
      "cell_type": "code",
      "metadata": {
        "id": "g84t_SSTw-x0",
        "colab_type": "code",
        "colab": {
          "base_uri": "https://localhost:8080/",
          "height": 34
        },
        "outputId": "d8fb4516-9618-4b19-8cb0-ca0b9c66f1e1"
      },
      "source": [
        "data.lang.unique()"
      ],
      "execution_count": 488,
      "outputs": [
        {
          "output_type": "execute_result",
          "data": {
            "text/plain": [
              "array(['en', 'fr', 'und', 'es', 'pt', 'in', 'ar'], dtype=object)"
            ]
          },
          "metadata": {
            "tags": []
          },
          "execution_count": 488
        }
      ]
    },
    {
      "cell_type": "code",
      "metadata": {
        "id": "LTCXBMSCxcaE",
        "colab_type": "code",
        "colab": {
          "base_uri": "https://localhost:8080/",
          "height": 34
        },
        "outputId": "9239748b-2923-4438-cb5a-e0e94d4b2381"
      },
      "source": [
        "df_eng=pd.DataFrame()\n",
        "df_eng=data[data.lang=='en']\n",
        "len(df_eng)"
      ],
      "execution_count": 489,
      "outputs": [
        {
          "output_type": "execute_result",
          "data": {
            "text/plain": [
              "7352"
            ]
          },
          "metadata": {
            "tags": []
          },
          "execution_count": 489
        }
      ]
    },
    {
      "cell_type": "code",
      "metadata": {
        "id": "NUSdNniAxv5r",
        "colab_type": "code",
        "colab": {
          "base_uri": "https://localhost:8080/",
          "height": 479
        },
        "outputId": "953764ab-5672-47d1-a774-67b4e29213d1"
      },
      "source": [
        "df_eng.head()"
      ],
      "execution_count": 490,
      "outputs": [
        {
          "output_type": "execute_result",
          "data": {
            "text/html": [
              "<div>\n",
              "<style scoped>\n",
              "    .dataframe tbody tr th:only-of-type {\n",
              "        vertical-align: middle;\n",
              "    }\n",
              "\n",
              "    .dataframe tbody tr th {\n",
              "        vertical-align: top;\n",
              "    }\n",
              "\n",
              "    .dataframe thead th {\n",
              "        text-align: right;\n",
              "    }\n",
              "</style>\n",
              "<table border=\"1\" class=\"dataframe\">\n",
              "  <thead>\n",
              "    <tr style=\"text-align: right;\">\n",
              "      <th></th>\n",
              "      <th>tweet_text</th>\n",
              "      <th>creation_time</th>\n",
              "      <th>num_hashtags</th>\n",
              "      <th>num_symbols</th>\n",
              "      <th>num_user_mentions</th>\n",
              "      <th>num_urls</th>\n",
              "      <th>retweet_count</th>\n",
              "      <th>favorite_count</th>\n",
              "      <th>source</th>\n",
              "      <th>lang</th>\n",
              "      <th>source_user_followers_count</th>\n",
              "      <th>source_user_friends_count</th>\n",
              "      <th>source_user_statuses_count</th>\n",
              "      <th>source_user_geo_enabled</th>\n",
              "      <th>source_user_verified</th>\n",
              "      <th>label</th>\n",
              "    </tr>\n",
              "  </thead>\n",
              "  <tbody>\n",
              "    <tr>\n",
              "      <th>0</th>\n",
              "      <td>URL schemes that Sileo supports, so you can be...</td>\n",
              "      <td>Fri Apr 26 18:17:41 +0000 2019</td>\n",
              "      <td>0.0</td>\n",
              "      <td>0.0</td>\n",
              "      <td>0.0</td>\n",
              "      <td>0.0</td>\n",
              "      <td>12.0</td>\n",
              "      <td>31</td>\n",
              "      <td>&lt;a href=\"http://twitter.com/download/android\" ...</td>\n",
              "      <td>en</td>\n",
              "      <td>2032.0</td>\n",
              "      <td>309.0</td>\n",
              "      <td>9866</td>\n",
              "      <td>1</td>\n",
              "      <td>0</td>\n",
              "      <td>Collusive</td>\n",
              "    </tr>\n",
              "    <tr>\n",
              "      <th>1</th>\n",
              "      <td>RT @TheLifeDiaries: Never compare your life to...</td>\n",
              "      <td>Thu Feb 28 05:28:01 +0000 2013</td>\n",
              "      <td>0.0</td>\n",
              "      <td>0.0</td>\n",
              "      <td>1.0</td>\n",
              "      <td>0.0</td>\n",
              "      <td>1036.0</td>\n",
              "      <td>0</td>\n",
              "      <td>&lt;a href=\"http://twitter.com/download/iphone\" r...</td>\n",
              "      <td>en</td>\n",
              "      <td>202.0</td>\n",
              "      <td>368.0</td>\n",
              "      <td>628</td>\n",
              "      <td>0</td>\n",
              "      <td>0</td>\n",
              "      <td>Genuine</td>\n",
              "    </tr>\n",
              "    <tr>\n",
              "      <th>2</th>\n",
              "      <td>Sneak Attack on Skybase👀🤖 #Fortnite #GameofGam...</td>\n",
              "      <td>Sun Jan 20 15:56:32 +0000 2019</td>\n",
              "      <td>3.0</td>\n",
              "      <td>0.0</td>\n",
              "      <td>0.0</td>\n",
              "      <td>0.0</td>\n",
              "      <td>9.0</td>\n",
              "      <td>9</td>\n",
              "      <td>&lt;a href=\"http://twitter.com/download/android\" ...</td>\n",
              "      <td>en</td>\n",
              "      <td>324.0</td>\n",
              "      <td>796.0</td>\n",
              "      <td>103</td>\n",
              "      <td>0</td>\n",
              "      <td>0</td>\n",
              "      <td>Collusive</td>\n",
              "    </tr>\n",
              "    <tr>\n",
              "      <th>3</th>\n",
              "      <td>#Meeseva Apply, Online, Centers, Services, App...</td>\n",
              "      <td>Sat Feb 02 10:16:47 +0000 2019</td>\n",
              "      <td>1.0</td>\n",
              "      <td>0.0</td>\n",
              "      <td>0.0</td>\n",
              "      <td>1.0</td>\n",
              "      <td>159.0</td>\n",
              "      <td>34</td>\n",
              "      <td>&lt;a href=\"http://twitter.com\" rel=\"nofollow\"&gt;Tw...</td>\n",
              "      <td>en</td>\n",
              "      <td>57.0</td>\n",
              "      <td>1640.0</td>\n",
              "      <td>249</td>\n",
              "      <td>0</td>\n",
              "      <td>0</td>\n",
              "      <td>Collusive</td>\n",
              "    </tr>\n",
              "    <tr>\n",
              "      <th>5</th>\n",
              "      <td>RT @mbatshuayi: 💪🏾 a couple idiots should neve...</td>\n",
              "      <td>Mon Feb 26 22:45:38 +0000 2018</td>\n",
              "      <td>0.0</td>\n",
              "      <td>0.0</td>\n",
              "      <td>1.0</td>\n",
              "      <td>0.0</td>\n",
              "      <td>6476.0</td>\n",
              "      <td>0</td>\n",
              "      <td>&lt;a href=\"http://twitter.com/download/iphone\" r...</td>\n",
              "      <td>en</td>\n",
              "      <td>419.0</td>\n",
              "      <td>1586.0</td>\n",
              "      <td>11135</td>\n",
              "      <td>1</td>\n",
              "      <td>0</td>\n",
              "      <td>Genuine</td>\n",
              "    </tr>\n",
              "  </tbody>\n",
              "</table>\n",
              "</div>"
            ],
            "text/plain": [
              "                                          tweet_text  ...      label\n",
              "0  URL schemes that Sileo supports, so you can be...  ...  Collusive\n",
              "1  RT @TheLifeDiaries: Never compare your life to...  ...    Genuine\n",
              "2  Sneak Attack on Skybase👀🤖 #Fortnite #GameofGam...  ...  Collusive\n",
              "3  #Meeseva Apply, Online, Centers, Services, App...  ...  Collusive\n",
              "5  RT @mbatshuayi: 💪🏾 a couple idiots should neve...  ...    Genuine\n",
              "\n",
              "[5 rows x 16 columns]"
            ]
          },
          "metadata": {
            "tags": []
          },
          "execution_count": 490
        }
      ]
    },
    {
      "cell_type": "code",
      "metadata": {
        "id": "FsIHn6ggyJeb",
        "colab_type": "code",
        "colab": {
          "base_uri": "https://localhost:8080/",
          "height": 476
        },
        "outputId": "762d0de6-769b-45ee-c6a0-8a5a92075679"
      },
      "source": [
        "data.tail(6)"
      ],
      "execution_count": 491,
      "outputs": [
        {
          "output_type": "execute_result",
          "data": {
            "text/html": [
              "<div>\n",
              "<style scoped>\n",
              "    .dataframe tbody tr th:only-of-type {\n",
              "        vertical-align: middle;\n",
              "    }\n",
              "\n",
              "    .dataframe tbody tr th {\n",
              "        vertical-align: top;\n",
              "    }\n",
              "\n",
              "    .dataframe thead th {\n",
              "        text-align: right;\n",
              "    }\n",
              "</style>\n",
              "<table border=\"1\" class=\"dataframe\">\n",
              "  <thead>\n",
              "    <tr style=\"text-align: right;\">\n",
              "      <th></th>\n",
              "      <th>tweet_text</th>\n",
              "      <th>creation_time</th>\n",
              "      <th>num_hashtags</th>\n",
              "      <th>num_symbols</th>\n",
              "      <th>num_user_mentions</th>\n",
              "      <th>num_urls</th>\n",
              "      <th>retweet_count</th>\n",
              "      <th>favorite_count</th>\n",
              "      <th>source</th>\n",
              "      <th>lang</th>\n",
              "      <th>source_user_followers_count</th>\n",
              "      <th>source_user_friends_count</th>\n",
              "      <th>source_user_statuses_count</th>\n",
              "      <th>source_user_geo_enabled</th>\n",
              "      <th>source_user_verified</th>\n",
              "      <th>label</th>\n",
              "    </tr>\n",
              "  </thead>\n",
              "  <tbody>\n",
              "    <tr>\n",
              "      <th>9996</th>\n",
              "      <td>https://t.co/fmX2x426Vy @malcolmross17 new 🔥🔥🔥...</td>\n",
              "      <td>Mon May 29 18:49:05 +0000 2017</td>\n",
              "      <td>0.0</td>\n",
              "      <td>0.0</td>\n",
              "      <td>1.0</td>\n",
              "      <td>1.0</td>\n",
              "      <td>8.0</td>\n",
              "      <td>3</td>\n",
              "      <td>&lt;a href=\"http://twitter.com/download/iphone\" r...</td>\n",
              "      <td>und</td>\n",
              "      <td>238.0</td>\n",
              "      <td>201.0</td>\n",
              "      <td>2706</td>\n",
              "      <td>1</td>\n",
              "      <td>0</td>\n",
              "      <td>Collusive</td>\n",
              "    </tr>\n",
              "    <tr>\n",
              "      <th>9997</th>\n",
              "      <td>https://t.co/9458tZM1j6 @Sick_promo</td>\n",
              "      <td>Thu Oct 13 18:49:58 +0000 2016</td>\n",
              "      <td>0.0</td>\n",
              "      <td>0.0</td>\n",
              "      <td>0.0</td>\n",
              "      <td>1.0</td>\n",
              "      <td>8.0</td>\n",
              "      <td>2</td>\n",
              "      <td>&lt;a href=\"http://twitter.com/download/android\" ...</td>\n",
              "      <td>und</td>\n",
              "      <td>657.0</td>\n",
              "      <td>561.0</td>\n",
              "      <td>6256</td>\n",
              "      <td>0</td>\n",
              "      <td>0</td>\n",
              "      <td>Collusive</td>\n",
              "    </tr>\n",
              "    <tr>\n",
              "      <th>9998</th>\n",
              "      <td>RT @Borestrom: Congrats @JasonMillerCA for mak...</td>\n",
              "      <td>Wed Nov 23 08:43:07 +0000 2016</td>\n",
              "      <td>0.0</td>\n",
              "      <td>0.0</td>\n",
              "      <td>2.0</td>\n",
              "      <td>1.0</td>\n",
              "      <td>1.0</td>\n",
              "      <td>0</td>\n",
              "      <td>&lt;a href=\"http://twitter.com/download/android\" ...</td>\n",
              "      <td>en</td>\n",
              "      <td>26784.0</td>\n",
              "      <td>7831.0</td>\n",
              "      <td>25196</td>\n",
              "      <td>1</td>\n",
              "      <td>0</td>\n",
              "      <td>Genuine</td>\n",
              "    </tr>\n",
              "    <tr>\n",
              "      <th>9999</th>\n",
              "      <td>Absolutely love this @Bulova Skeleton Automati...</td>\n",
              "      <td>Tue Jan 08 14:00:53 +0000 2019</td>\n",
              "      <td>16.0</td>\n",
              "      <td>0.0</td>\n",
              "      <td>1.0</td>\n",
              "      <td>1.0</td>\n",
              "      <td>21.0</td>\n",
              "      <td>8</td>\n",
              "      <td>&lt;a href=\"https://buffer.com\" rel=\"nofollow\"&gt;Bu...</td>\n",
              "      <td>en</td>\n",
              "      <td>503.0</td>\n",
              "      <td>343.0</td>\n",
              "      <td>814</td>\n",
              "      <td>0</td>\n",
              "      <td>0</td>\n",
              "      <td>Collusive</td>\n",
              "    </tr>\n",
              "    <tr>\n",
              "      <th>10000</th>\n",
              "      <td>RT @CNET: This kid can crack any of your passw...</td>\n",
              "      <td>Mon Apr 30 15:31:07 +0000 2018</td>\n",
              "      <td>0.0</td>\n",
              "      <td>0.0</td>\n",
              "      <td>1.0</td>\n",
              "      <td>0.0</td>\n",
              "      <td>43.0</td>\n",
              "      <td>0</td>\n",
              "      <td>&lt;a href=\"http://twitter.com\" rel=\"nofollow\"&gt;Tw...</td>\n",
              "      <td>en</td>\n",
              "      <td>55216.0</td>\n",
              "      <td>55161.0</td>\n",
              "      <td>15325</td>\n",
              "      <td>0</td>\n",
              "      <td>0</td>\n",
              "      <td>Genuine</td>\n",
              "    </tr>\n",
              "    <tr>\n",
              "      <th>10001</th>\n",
              "      <td>Hey People!! Music coming SOON!! Check out my ...</td>\n",
              "      <td>Fri Sep 22 22:30:42 +0000 2017</td>\n",
              "      <td>0.0</td>\n",
              "      <td>0.0</td>\n",
              "      <td>0.0</td>\n",
              "      <td>1.0</td>\n",
              "      <td>19.0</td>\n",
              "      <td>1</td>\n",
              "      <td>&lt;a href=\"http://twitter.com\" rel=\"nofollow\"&gt;Tw...</td>\n",
              "      <td>en</td>\n",
              "      <td>1006.0</td>\n",
              "      <td>71.0</td>\n",
              "      <td>67</td>\n",
              "      <td>0</td>\n",
              "      <td>0</td>\n",
              "      <td>Collusive</td>\n",
              "    </tr>\n",
              "  </tbody>\n",
              "</table>\n",
              "</div>"
            ],
            "text/plain": [
              "                                              tweet_text  ...      label\n",
              "9996   https://t.co/fmX2x426Vy @malcolmross17 new 🔥🔥🔥...  ...  Collusive\n",
              "9997                 https://t.co/9458tZM1j6 @Sick_promo  ...  Collusive\n",
              "9998   RT @Borestrom: Congrats @JasonMillerCA for mak...  ...    Genuine\n",
              "9999   Absolutely love this @Bulova Skeleton Automati...  ...  Collusive\n",
              "10000  RT @CNET: This kid can crack any of your passw...  ...    Genuine\n",
              "10001  Hey People!! Music coming SOON!! Check out my ...  ...  Collusive\n",
              "\n",
              "[6 rows x 16 columns]"
            ]
          },
          "metadata": {
            "tags": []
          },
          "execution_count": 491
        }
      ]
    },
    {
      "cell_type": "code",
      "metadata": {
        "id": "-oW1iTRahuX_",
        "colab_type": "code",
        "colab": {}
      },
      "source": [
        "from nltk.corpus import stopwords\n",
        "stop = stopwords.words('english')\n",
        "from nltk.stem import PorterStemmer"
      ],
      "execution_count": 0,
      "outputs": []
    },
    {
      "cell_type": "code",
      "metadata": {
        "id": "CCR7o713acyp",
        "colab_type": "code",
        "colab": {
          "base_uri": "https://localhost:8080/",
          "height": 34
        },
        "outputId": "08552f9d-5005-4332-b0ab-d12a68fd49f0"
      },
      "source": [
        "!pip install emoji --upgrade"
      ],
      "execution_count": 493,
      "outputs": [
        {
          "output_type": "stream",
          "text": [
            "Requirement already up-to-date: emoji in /usr/local/lib/python3.6/dist-packages (0.5.4)\n"
          ],
          "name": "stdout"
        }
      ]
    },
    {
      "cell_type": "code",
      "metadata": {
        "id": "QuuUEJFmb_JT",
        "colab_type": "code",
        "colab": {}
      },
      "source": [
        "import emoji"
      ],
      "execution_count": 0,
      "outputs": []
    },
    {
      "cell_type": "markdown",
      "metadata": {
        "id": "fA8zHDDqjCLF",
        "colab_type": "text"
      },
      "source": [
        "**preprocessing of tweets to extract words from different features such as @, changing urls to stringURL and removing hashtags**"
      ]
    },
    {
      "cell_type": "code",
      "metadata": {
        "id": "q6YRjHPc491I",
        "colab_type": "code",
        "colab": {
          "base_uri": "https://localhost:8080/",
          "height": 34
        },
        "outputId": "e72d0460-ee71-4603-9db4-8b745992dcec"
      },
      "source": [
        "def preprocess_tweet(tweet):\n",
        "  #converting all to lower case\n",
        "  tweet=tweet.lower()\n",
        "  #converting all tweet urls to string \"URL\"\n",
        "  tweet=re.sub('((www\\.[^\\s]+)|(https?://[^\\s]+))','URL',tweet)\n",
        "  #converting all @username to \"AT_USER\"\n",
        "  tweet=re.sub('@[^\\s]+','AT_USER',tweet)\n",
        "  #removing numbers from tweets\n",
        "  tweet= re.sub(r'\\d+','', tweet)\n",
        "  #converting all multiple white spaces to a single space\n",
        "  tweet=re.sub('[\\s]+',' ',tweet)\n",
        "  #converting hastags to name after hastags\n",
        "  tweet=re.sub(r'#([^\\s]+)',r'Hashtag',tweet)\n",
        "  #converting emojis to words\n",
        "  tweet=emoji.demojize(tweet)\n",
        "  tweet = re.sub(r'[?|$|.|!|ÿ|œ¹|ð]','',tweet)\n",
        "  #Removing special characters such as punctuation from tweets\n",
        "  tweet=tweet.replace(r'[^a-zA-Z_]','')\n",
        "  #Stemming words in text\n",
        "  word=' '.join(([word for word in tweet.split()]))\n",
        "  return word\n",
        "\n",
        "print(preprocess_tweet(\"@Rose RT T-Shirt ðŸŒ¹ðŸŒ¹ðŸŒ¹ You going #Manjot Can get this now at https://t.co/VsmSa6BnQG https://t.co/5WaHGvW7Tb\"))"
      ],
      "execution_count": 495,
      "outputs": [
        {
          "output_type": "stream",
          "text": [
            "AT_USER rt t-shirt you going Hashtag can get this now at URL URL\n"
          ],
          "name": "stdout"
        }
      ]
    },
    {
      "cell_type": "code",
      "metadata": {
        "id": "2mMfBJ6o5vUz",
        "colab_type": "code",
        "colab": {
          "base_uri": "https://localhost:8080/",
          "height": 119
        },
        "outputId": "e6b3c662-bc96-4c3b-d6ab-13ac92faab4b"
      },
      "source": [
        "df_eng.columns"
      ],
      "execution_count": 496,
      "outputs": [
        {
          "output_type": "execute_result",
          "data": {
            "text/plain": [
              "Index(['tweet_text', 'creation_time', 'num_hashtags', 'num_symbols',\n",
              "       'num_user_mentions', 'num_urls', 'retweet_count', 'favorite_count',\n",
              "       'source', 'lang', 'source_user_followers_count',\n",
              "       'source_user_friends_count', 'source_user_statuses_count',\n",
              "       'source_user_geo_enabled', 'source_user_verified', 'label'],\n",
              "      dtype='object')"
            ]
          },
          "metadata": {
            "tags": []
          },
          "execution_count": 496
        }
      ]
    },
    {
      "cell_type": "markdown",
      "metadata": {
        "id": "c8a5AqLGiV-G",
        "colab_type": "text"
      },
      "source": [
        "**Preprocessing tweets by calling the preprocess_tweet function and then using demojize to convert Emojis present in data to words or sentiment expressed by them.**"
      ]
    },
    {
      "cell_type": "code",
      "metadata": {
        "id": "f81e_N-qCAqG",
        "colab_type": "code",
        "colab": {}
      },
      "source": [
        "final_list=[]\n",
        "labels=df_eng.label\n",
        "labels2=df_eng.num_hashtags\n",
        "labels3=df_eng.num_user_mentions\n",
        "labels4=df_eng.retweet_count\n",
        "labels5=df_eng.favorite_count\n",
        "labels6=df_eng.source_user_followers_count\n",
        "labels7=df_eng.source_user_friends_count\n",
        "labels8=df_eng.source_user_statuses_count\n",
        "labels9=df_eng.source_user_geo_enabled\n",
        "labels10=df_eng.source_user_verified\n",
        "for row in df_eng[\"tweet_text\"]:\n",
        "  final_list.append((preprocess_tweet(row)))\n",
        "df_new=pd.DataFrame({'clean_text':final_list,'label':labels,'num_hashtags':labels2,'num_user_mentions':labels3, 'retweet_count':labels4, 'favorite_count':labels5,\n",
        "       'source_user_followers_count':labels6,\n",
        "       'source_user_friends_count':labels7, 'source_user_statuses_count':labels8,\n",
        "       'source_user_geo_enabled':labels9, 'source_user_verified':labels10 })"
      ],
      "execution_count": 0,
      "outputs": []
    },
    {
      "cell_type": "code",
      "metadata": {
        "id": "LsOk63z470yu",
        "colab_type": "code",
        "colab": {}
      },
      "source": [
        "from sklearn.preprocessing import StandardScaler\n",
        "sc=StandardScaler()\n",
        "df_new[['source_user_followers_count']]=sc.fit_transform(df_new[['source_user_followers_count']])\n",
        "sc1=StandardScaler()\n",
        "df_new[['source_user_friends_count']]=sc1.fit_transform(df_new[['source_user_friends_count']])\n",
        "sc2=StandardScaler()\n",
        "df_new[['retweet_count']]=sc2.fit_transform(df_new[['retweet_count']])\n",
        "sc3=StandardScaler()\n",
        "df_new[['favorite_count']]=sc.fit_transform(df_new[['favorite_count']])\n",
        "sc4=StandardScaler()\n",
        "df_new[['num_hashtags']]=sc4.fit_transform(df_new[['num_hashtags']])\n",
        "sc5=StandardScaler()\n",
        "df_new[['num_user_mentions']]=sc.fit_transform(df_new[['num_user_mentions']])\n",
        "sc=StandardScaler()\n",
        "df_new[['source_user_statuses_count']]=sc.fit_transform(df_new[['source_user_statuses_count']])"
      ],
      "execution_count": 0,
      "outputs": []
    },
    {
      "cell_type": "code",
      "metadata": {
        "id": "rI8vTm9TtDNl",
        "colab_type": "code",
        "colab": {
          "base_uri": "https://localhost:8080/",
          "height": 564
        },
        "outputId": "0dbb4f05-5f4b-4433-ee84-ff7b6bd421b8"
      },
      "source": [
        "df_new.tail()"
      ],
      "execution_count": 499,
      "outputs": [
        {
          "output_type": "execute_result",
          "data": {
            "text/html": [
              "<div>\n",
              "<style scoped>\n",
              "    .dataframe tbody tr th:only-of-type {\n",
              "        vertical-align: middle;\n",
              "    }\n",
              "\n",
              "    .dataframe tbody tr th {\n",
              "        vertical-align: top;\n",
              "    }\n",
              "\n",
              "    .dataframe thead th {\n",
              "        text-align: right;\n",
              "    }\n",
              "</style>\n",
              "<table border=\"1\" class=\"dataframe\">\n",
              "  <thead>\n",
              "    <tr style=\"text-align: right;\">\n",
              "      <th></th>\n",
              "      <th>clean_text</th>\n",
              "      <th>label</th>\n",
              "      <th>num_hashtags</th>\n",
              "      <th>num_user_mentions</th>\n",
              "      <th>retweet_count</th>\n",
              "      <th>favorite_count</th>\n",
              "      <th>source_user_followers_count</th>\n",
              "      <th>source_user_friends_count</th>\n",
              "      <th>source_user_statuses_count</th>\n",
              "      <th>source_user_geo_enabled</th>\n",
              "      <th>source_user_verified</th>\n",
              "    </tr>\n",
              "  </thead>\n",
              "  <tbody>\n",
              "    <tr>\n",
              "      <th>9995</th>\n",
              "      <td>looks like we are doing something right URL</td>\n",
              "      <td>Genuine</td>\n",
              "      <td>-0.450270</td>\n",
              "      <td>-0.573579</td>\n",
              "      <td>-0.094434</td>\n",
              "      <td>-0.027682</td>\n",
              "      <td>-0.091751</td>\n",
              "      <td>-0.121584</td>\n",
              "      <td>-0.326068</td>\n",
              "      <td>1</td>\n",
              "      <td>0</td>\n",
              "    </tr>\n",
              "    <tr>\n",
              "      <th>9998</th>\n",
              "      <td>rt AT_USER congrats AT_USER for making the top...</td>\n",
              "      <td>Genuine</td>\n",
              "      <td>-0.450270</td>\n",
              "      <td>0.959580</td>\n",
              "      <td>-0.094922</td>\n",
              "      <td>-0.031539</td>\n",
              "      <td>-0.074994</td>\n",
              "      <td>0.022177</td>\n",
              "      <td>0.189225</td>\n",
              "      <td>1</td>\n",
              "      <td>0</td>\n",
              "    </tr>\n",
              "    <tr>\n",
              "      <th>9999</th>\n",
              "      <td>absolutely love this AT_USER skeleton automati...</td>\n",
              "      <td>Collusive</td>\n",
              "      <td>6.368237</td>\n",
              "      <td>0.193000</td>\n",
              "      <td>-0.092971</td>\n",
              "      <td>-0.029825</td>\n",
              "      <td>-0.093379</td>\n",
              "      <td>-0.130972</td>\n",
              "      <td>-0.345090</td>\n",
              "      <td>0</td>\n",
              "      <td>0</td>\n",
              "    </tr>\n",
              "    <tr>\n",
              "      <th>10000</th>\n",
              "      <td>rt AT_USER this kid can crack any of your pass...</td>\n",
              "      <td>Genuine</td>\n",
              "      <td>-0.450270</td>\n",
              "      <td>0.193000</td>\n",
              "      <td>-0.090824</td>\n",
              "      <td>-0.031539</td>\n",
              "      <td>-0.055105</td>\n",
              "      <td>0.990193</td>\n",
              "      <td>-0.027092</td>\n",
              "      <td>0</td>\n",
              "      <td>0</td>\n",
              "    </tr>\n",
              "    <tr>\n",
              "      <th>10001</th>\n",
              "      <td>hey people music coming soon check out my yt c...</td>\n",
              "      <td>Collusive</td>\n",
              "      <td>-0.450270</td>\n",
              "      <td>-0.573579</td>\n",
              "      <td>-0.093166</td>\n",
              "      <td>-0.031325</td>\n",
              "      <td>-0.093028</td>\n",
              "      <td>-0.136535</td>\n",
              "      <td>-0.361460</td>\n",
              "      <td>0</td>\n",
              "      <td>0</td>\n",
              "    </tr>\n",
              "  </tbody>\n",
              "</table>\n",
              "</div>"
            ],
            "text/plain": [
              "                                              clean_text  ... source_user_verified\n",
              "9995         looks like we are doing something right URL  ...                    0\n",
              "9998   rt AT_USER congrats AT_USER for making the top...  ...                    0\n",
              "9999   absolutely love this AT_USER skeleton automati...  ...                    0\n",
              "10000  rt AT_USER this kid can crack any of your pass...  ...                    0\n",
              "10001  hey people music coming soon check out my yt c...  ...                    0\n",
              "\n",
              "[5 rows x 11 columns]"
            ]
          },
          "metadata": {
            "tags": []
          },
          "execution_count": 499
        }
      ]
    },
    {
      "cell_type": "code",
      "metadata": {
        "id": "UuyYwxI5tK80",
        "colab_type": "code",
        "colab": {
          "base_uri": "https://localhost:8080/",
          "height": 479
        },
        "outputId": "835c6580-596f-4fbe-c031-62847f588aab"
      },
      "source": [
        "df_eng.head()"
      ],
      "execution_count": 500,
      "outputs": [
        {
          "output_type": "execute_result",
          "data": {
            "text/html": [
              "<div>\n",
              "<style scoped>\n",
              "    .dataframe tbody tr th:only-of-type {\n",
              "        vertical-align: middle;\n",
              "    }\n",
              "\n",
              "    .dataframe tbody tr th {\n",
              "        vertical-align: top;\n",
              "    }\n",
              "\n",
              "    .dataframe thead th {\n",
              "        text-align: right;\n",
              "    }\n",
              "</style>\n",
              "<table border=\"1\" class=\"dataframe\">\n",
              "  <thead>\n",
              "    <tr style=\"text-align: right;\">\n",
              "      <th></th>\n",
              "      <th>tweet_text</th>\n",
              "      <th>creation_time</th>\n",
              "      <th>num_hashtags</th>\n",
              "      <th>num_symbols</th>\n",
              "      <th>num_user_mentions</th>\n",
              "      <th>num_urls</th>\n",
              "      <th>retweet_count</th>\n",
              "      <th>favorite_count</th>\n",
              "      <th>source</th>\n",
              "      <th>lang</th>\n",
              "      <th>source_user_followers_count</th>\n",
              "      <th>source_user_friends_count</th>\n",
              "      <th>source_user_statuses_count</th>\n",
              "      <th>source_user_geo_enabled</th>\n",
              "      <th>source_user_verified</th>\n",
              "      <th>label</th>\n",
              "    </tr>\n",
              "  </thead>\n",
              "  <tbody>\n",
              "    <tr>\n",
              "      <th>0</th>\n",
              "      <td>URL schemes that Sileo supports, so you can be...</td>\n",
              "      <td>Fri Apr 26 18:17:41 +0000 2019</td>\n",
              "      <td>0.0</td>\n",
              "      <td>0.0</td>\n",
              "      <td>0.0</td>\n",
              "      <td>0.0</td>\n",
              "      <td>12.0</td>\n",
              "      <td>31</td>\n",
              "      <td>&lt;a href=\"http://twitter.com/download/android\" ...</td>\n",
              "      <td>en</td>\n",
              "      <td>2032.0</td>\n",
              "      <td>309.0</td>\n",
              "      <td>9866</td>\n",
              "      <td>1</td>\n",
              "      <td>0</td>\n",
              "      <td>Collusive</td>\n",
              "    </tr>\n",
              "    <tr>\n",
              "      <th>1</th>\n",
              "      <td>RT @TheLifeDiaries: Never compare your life to...</td>\n",
              "      <td>Thu Feb 28 05:28:01 +0000 2013</td>\n",
              "      <td>0.0</td>\n",
              "      <td>0.0</td>\n",
              "      <td>1.0</td>\n",
              "      <td>0.0</td>\n",
              "      <td>1036.0</td>\n",
              "      <td>0</td>\n",
              "      <td>&lt;a href=\"http://twitter.com/download/iphone\" r...</td>\n",
              "      <td>en</td>\n",
              "      <td>202.0</td>\n",
              "      <td>368.0</td>\n",
              "      <td>628</td>\n",
              "      <td>0</td>\n",
              "      <td>0</td>\n",
              "      <td>Genuine</td>\n",
              "    </tr>\n",
              "    <tr>\n",
              "      <th>2</th>\n",
              "      <td>Sneak Attack on Skybase👀🤖 #Fortnite #GameofGam...</td>\n",
              "      <td>Sun Jan 20 15:56:32 +0000 2019</td>\n",
              "      <td>3.0</td>\n",
              "      <td>0.0</td>\n",
              "      <td>0.0</td>\n",
              "      <td>0.0</td>\n",
              "      <td>9.0</td>\n",
              "      <td>9</td>\n",
              "      <td>&lt;a href=\"http://twitter.com/download/android\" ...</td>\n",
              "      <td>en</td>\n",
              "      <td>324.0</td>\n",
              "      <td>796.0</td>\n",
              "      <td>103</td>\n",
              "      <td>0</td>\n",
              "      <td>0</td>\n",
              "      <td>Collusive</td>\n",
              "    </tr>\n",
              "    <tr>\n",
              "      <th>3</th>\n",
              "      <td>#Meeseva Apply, Online, Centers, Services, App...</td>\n",
              "      <td>Sat Feb 02 10:16:47 +0000 2019</td>\n",
              "      <td>1.0</td>\n",
              "      <td>0.0</td>\n",
              "      <td>0.0</td>\n",
              "      <td>1.0</td>\n",
              "      <td>159.0</td>\n",
              "      <td>34</td>\n",
              "      <td>&lt;a href=\"http://twitter.com\" rel=\"nofollow\"&gt;Tw...</td>\n",
              "      <td>en</td>\n",
              "      <td>57.0</td>\n",
              "      <td>1640.0</td>\n",
              "      <td>249</td>\n",
              "      <td>0</td>\n",
              "      <td>0</td>\n",
              "      <td>Collusive</td>\n",
              "    </tr>\n",
              "    <tr>\n",
              "      <th>5</th>\n",
              "      <td>RT @mbatshuayi: 💪🏾 a couple idiots should neve...</td>\n",
              "      <td>Mon Feb 26 22:45:38 +0000 2018</td>\n",
              "      <td>0.0</td>\n",
              "      <td>0.0</td>\n",
              "      <td>1.0</td>\n",
              "      <td>0.0</td>\n",
              "      <td>6476.0</td>\n",
              "      <td>0</td>\n",
              "      <td>&lt;a href=\"http://twitter.com/download/iphone\" r...</td>\n",
              "      <td>en</td>\n",
              "      <td>419.0</td>\n",
              "      <td>1586.0</td>\n",
              "      <td>11135</td>\n",
              "      <td>1</td>\n",
              "      <td>0</td>\n",
              "      <td>Genuine</td>\n",
              "    </tr>\n",
              "  </tbody>\n",
              "</table>\n",
              "</div>"
            ],
            "text/plain": [
              "                                          tweet_text  ...      label\n",
              "0  URL schemes that Sileo supports, so you can be...  ...  Collusive\n",
              "1  RT @TheLifeDiaries: Never compare your life to...  ...    Genuine\n",
              "2  Sneak Attack on Skybase👀🤖 #Fortnite #GameofGam...  ...  Collusive\n",
              "3  #Meeseva Apply, Online, Centers, Services, App...  ...  Collusive\n",
              "5  RT @mbatshuayi: 💪🏾 a couple idiots should neve...  ...    Genuine\n",
              "\n",
              "[5 rows x 16 columns]"
            ]
          },
          "metadata": {
            "tags": []
          },
          "execution_count": 500
        }
      ]
    },
    {
      "cell_type": "code",
      "metadata": {
        "id": "5REYn24W6fVL",
        "colab_type": "code",
        "colab": {
          "base_uri": "https://localhost:8080/",
          "height": 54
        },
        "outputId": "daa165a2-e318-44da-8db1-1755bf3e9a9f"
      },
      "source": [
        "'''c=type(None)\n",
        "index=\"\"\n",
        "def emojipresent(input_text):\n",
        "  t_parse=p.parse(input_text)\n",
        "  if type(t_parse.emojis) is not c:\n",
        "    index=\"Emoji\"\n",
        "  else:\n",
        "    index=\"NoEmoji\"\n",
        "  return index\n",
        "'''"
      ],
      "execution_count": 501,
      "outputs": [
        {
          "output_type": "execute_result",
          "data": {
            "text/plain": [
              "'c=type(None)\\nindex=\"\"\\ndef emojipresent(input_text):\\n  t_parse=p.parse(input_text)\\n  if type(t_parse.emojis) is not c:\\n    index=\"Emoji\"\\n  else:\\n    index=\"NoEmoji\"\\n  return index\\n'"
            ]
          },
          "metadata": {
            "tags": []
          },
          "execution_count": 501
        }
      ]
    },
    {
      "cell_type": "code",
      "metadata": {
        "id": "-HV27eAKsp9f",
        "colab_type": "code",
        "colab": {
          "base_uri": "https://localhost:8080/",
          "height": 479
        },
        "outputId": "ef428790-7c50-45c0-deb0-05c6e3391c5f"
      },
      "source": [
        "df_eng.head()"
      ],
      "execution_count": 502,
      "outputs": [
        {
          "output_type": "execute_result",
          "data": {
            "text/html": [
              "<div>\n",
              "<style scoped>\n",
              "    .dataframe tbody tr th:only-of-type {\n",
              "        vertical-align: middle;\n",
              "    }\n",
              "\n",
              "    .dataframe tbody tr th {\n",
              "        vertical-align: top;\n",
              "    }\n",
              "\n",
              "    .dataframe thead th {\n",
              "        text-align: right;\n",
              "    }\n",
              "</style>\n",
              "<table border=\"1\" class=\"dataframe\">\n",
              "  <thead>\n",
              "    <tr style=\"text-align: right;\">\n",
              "      <th></th>\n",
              "      <th>tweet_text</th>\n",
              "      <th>creation_time</th>\n",
              "      <th>num_hashtags</th>\n",
              "      <th>num_symbols</th>\n",
              "      <th>num_user_mentions</th>\n",
              "      <th>num_urls</th>\n",
              "      <th>retweet_count</th>\n",
              "      <th>favorite_count</th>\n",
              "      <th>source</th>\n",
              "      <th>lang</th>\n",
              "      <th>source_user_followers_count</th>\n",
              "      <th>source_user_friends_count</th>\n",
              "      <th>source_user_statuses_count</th>\n",
              "      <th>source_user_geo_enabled</th>\n",
              "      <th>source_user_verified</th>\n",
              "      <th>label</th>\n",
              "    </tr>\n",
              "  </thead>\n",
              "  <tbody>\n",
              "    <tr>\n",
              "      <th>0</th>\n",
              "      <td>URL schemes that Sileo supports, so you can be...</td>\n",
              "      <td>Fri Apr 26 18:17:41 +0000 2019</td>\n",
              "      <td>0.0</td>\n",
              "      <td>0.0</td>\n",
              "      <td>0.0</td>\n",
              "      <td>0.0</td>\n",
              "      <td>12.0</td>\n",
              "      <td>31</td>\n",
              "      <td>&lt;a href=\"http://twitter.com/download/android\" ...</td>\n",
              "      <td>en</td>\n",
              "      <td>2032.0</td>\n",
              "      <td>309.0</td>\n",
              "      <td>9866</td>\n",
              "      <td>1</td>\n",
              "      <td>0</td>\n",
              "      <td>Collusive</td>\n",
              "    </tr>\n",
              "    <tr>\n",
              "      <th>1</th>\n",
              "      <td>RT @TheLifeDiaries: Never compare your life to...</td>\n",
              "      <td>Thu Feb 28 05:28:01 +0000 2013</td>\n",
              "      <td>0.0</td>\n",
              "      <td>0.0</td>\n",
              "      <td>1.0</td>\n",
              "      <td>0.0</td>\n",
              "      <td>1036.0</td>\n",
              "      <td>0</td>\n",
              "      <td>&lt;a href=\"http://twitter.com/download/iphone\" r...</td>\n",
              "      <td>en</td>\n",
              "      <td>202.0</td>\n",
              "      <td>368.0</td>\n",
              "      <td>628</td>\n",
              "      <td>0</td>\n",
              "      <td>0</td>\n",
              "      <td>Genuine</td>\n",
              "    </tr>\n",
              "    <tr>\n",
              "      <th>2</th>\n",
              "      <td>Sneak Attack on Skybase👀🤖 #Fortnite #GameofGam...</td>\n",
              "      <td>Sun Jan 20 15:56:32 +0000 2019</td>\n",
              "      <td>3.0</td>\n",
              "      <td>0.0</td>\n",
              "      <td>0.0</td>\n",
              "      <td>0.0</td>\n",
              "      <td>9.0</td>\n",
              "      <td>9</td>\n",
              "      <td>&lt;a href=\"http://twitter.com/download/android\" ...</td>\n",
              "      <td>en</td>\n",
              "      <td>324.0</td>\n",
              "      <td>796.0</td>\n",
              "      <td>103</td>\n",
              "      <td>0</td>\n",
              "      <td>0</td>\n",
              "      <td>Collusive</td>\n",
              "    </tr>\n",
              "    <tr>\n",
              "      <th>3</th>\n",
              "      <td>#Meeseva Apply, Online, Centers, Services, App...</td>\n",
              "      <td>Sat Feb 02 10:16:47 +0000 2019</td>\n",
              "      <td>1.0</td>\n",
              "      <td>0.0</td>\n",
              "      <td>0.0</td>\n",
              "      <td>1.0</td>\n",
              "      <td>159.0</td>\n",
              "      <td>34</td>\n",
              "      <td>&lt;a href=\"http://twitter.com\" rel=\"nofollow\"&gt;Tw...</td>\n",
              "      <td>en</td>\n",
              "      <td>57.0</td>\n",
              "      <td>1640.0</td>\n",
              "      <td>249</td>\n",
              "      <td>0</td>\n",
              "      <td>0</td>\n",
              "      <td>Collusive</td>\n",
              "    </tr>\n",
              "    <tr>\n",
              "      <th>5</th>\n",
              "      <td>RT @mbatshuayi: 💪🏾 a couple idiots should neve...</td>\n",
              "      <td>Mon Feb 26 22:45:38 +0000 2018</td>\n",
              "      <td>0.0</td>\n",
              "      <td>0.0</td>\n",
              "      <td>1.0</td>\n",
              "      <td>0.0</td>\n",
              "      <td>6476.0</td>\n",
              "      <td>0</td>\n",
              "      <td>&lt;a href=\"http://twitter.com/download/iphone\" r...</td>\n",
              "      <td>en</td>\n",
              "      <td>419.0</td>\n",
              "      <td>1586.0</td>\n",
              "      <td>11135</td>\n",
              "      <td>1</td>\n",
              "      <td>0</td>\n",
              "      <td>Genuine</td>\n",
              "    </tr>\n",
              "  </tbody>\n",
              "</table>\n",
              "</div>"
            ],
            "text/plain": [
              "                                          tweet_text  ...      label\n",
              "0  URL schemes that Sileo supports, so you can be...  ...  Collusive\n",
              "1  RT @TheLifeDiaries: Never compare your life to...  ...    Genuine\n",
              "2  Sneak Attack on Skybase👀🤖 #Fortnite #GameofGam...  ...  Collusive\n",
              "3  #Meeseva Apply, Online, Centers, Services, App...  ...  Collusive\n",
              "5  RT @mbatshuayi: 💪🏾 a couple idiots should neve...  ...    Genuine\n",
              "\n",
              "[5 rows x 16 columns]"
            ]
          },
          "metadata": {
            "tags": []
          },
          "execution_count": 502
        }
      ]
    },
    {
      "cell_type": "code",
      "metadata": {
        "id": "CGTXboFL9huZ",
        "colab_type": "code",
        "colab": {
          "base_uri": "https://localhost:8080/",
          "height": 34
        },
        "outputId": "35927656-b41f-4206-fd7d-65f224ac6b42"
      },
      "source": [
        "'''tlist=[]\n",
        "for row in df_eng[\"tweet_text\"]:\n",
        "  tlist.append(emojipresent(row))\n",
        "\n",
        "df_new[\"is_emoji\"]=tlist'''"
      ],
      "execution_count": 503,
      "outputs": [
        {
          "output_type": "execute_result",
          "data": {
            "text/plain": [
              "'tlist=[]\\nfor row in df_eng[\"tweet_text\"]:\\n  tlist.append(emojipresent(row))\\n\\ndf_new[\"is_emoji\"]=tlist'"
            ]
          },
          "metadata": {
            "tags": []
          },
          "execution_count": 503
        }
      ]
    },
    {
      "cell_type": "code",
      "metadata": {
        "id": "YQMYg9euJx-n",
        "colab_type": "code",
        "colab": {
          "base_uri": "https://localhost:8080/",
          "height": 360
        },
        "outputId": "7bce31b9-24c8-494c-9551-158914b67003"
      },
      "source": [
        "df_new.head()"
      ],
      "execution_count": 504,
      "outputs": [
        {
          "output_type": "execute_result",
          "data": {
            "text/html": [
              "<div>\n",
              "<style scoped>\n",
              "    .dataframe tbody tr th:only-of-type {\n",
              "        vertical-align: middle;\n",
              "    }\n",
              "\n",
              "    .dataframe tbody tr th {\n",
              "        vertical-align: top;\n",
              "    }\n",
              "\n",
              "    .dataframe thead th {\n",
              "        text-align: right;\n",
              "    }\n",
              "</style>\n",
              "<table border=\"1\" class=\"dataframe\">\n",
              "  <thead>\n",
              "    <tr style=\"text-align: right;\">\n",
              "      <th></th>\n",
              "      <th>clean_text</th>\n",
              "      <th>label</th>\n",
              "      <th>num_hashtags</th>\n",
              "      <th>num_user_mentions</th>\n",
              "      <th>retweet_count</th>\n",
              "      <th>favorite_count</th>\n",
              "      <th>source_user_followers_count</th>\n",
              "      <th>source_user_friends_count</th>\n",
              "      <th>source_user_statuses_count</th>\n",
              "      <th>source_user_geo_enabled</th>\n",
              "      <th>source_user_verified</th>\n",
              "    </tr>\n",
              "  </thead>\n",
              "  <tbody>\n",
              "    <tr>\n",
              "      <th>0</th>\n",
              "      <td>url schemes that sileo supports, so you can be...</td>\n",
              "      <td>Collusive</td>\n",
              "      <td>-0.450270</td>\n",
              "      <td>-0.573579</td>\n",
              "      <td>-0.093849</td>\n",
              "      <td>-0.024897</td>\n",
              "      <td>-0.092310</td>\n",
              "      <td>-0.131667</td>\n",
              "      <td>-0.146722</td>\n",
              "      <td>1</td>\n",
              "      <td>0</td>\n",
              "    </tr>\n",
              "    <tr>\n",
              "      <th>1</th>\n",
              "      <td>rt AT_USER never compare your life to others y...</td>\n",
              "      <td>Genuine</td>\n",
              "      <td>-0.450270</td>\n",
              "      <td>0.193000</td>\n",
              "      <td>0.006051</td>\n",
              "      <td>-0.031539</td>\n",
              "      <td>-0.093590</td>\n",
              "      <td>-0.130460</td>\n",
              "      <td>-0.349166</td>\n",
              "      <td>0</td>\n",
              "      <td>0</td>\n",
              "    </tr>\n",
              "    <tr>\n",
              "      <th>2</th>\n",
              "      <td>sneak attack on skybase:eyes::robot_face: Hash...</td>\n",
              "      <td>Collusive</td>\n",
              "      <td>0.828200</td>\n",
              "      <td>-0.573579</td>\n",
              "      <td>-0.094141</td>\n",
              "      <td>-0.029611</td>\n",
              "      <td>-0.093505</td>\n",
              "      <td>-0.121707</td>\n",
              "      <td>-0.360671</td>\n",
              "      <td>0</td>\n",
              "      <td>0</td>\n",
              "    </tr>\n",
              "    <tr>\n",
              "      <th>3</th>\n",
              "      <td>Hashtag apply, online, centers, services, appl...</td>\n",
              "      <td>Collusive</td>\n",
              "      <td>-0.024113</td>\n",
              "      <td>-0.573579</td>\n",
              "      <td>-0.079508</td>\n",
              "      <td>-0.024254</td>\n",
              "      <td>-0.093691</td>\n",
              "      <td>-0.104445</td>\n",
              "      <td>-0.357472</td>\n",
              "      <td>0</td>\n",
              "      <td>0</td>\n",
              "    </tr>\n",
              "    <tr>\n",
              "      <th>5</th>\n",
              "      <td>rt AT_USER :flexed_biceps_medium-dark_skin_ton...</td>\n",
              "      <td>Genuine</td>\n",
              "      <td>-0.450270</td>\n",
              "      <td>0.193000</td>\n",
              "      <td>0.536770</td>\n",
              "      <td>-0.031539</td>\n",
              "      <td>-0.093438</td>\n",
              "      <td>-0.105549</td>\n",
              "      <td>-0.118912</td>\n",
              "      <td>1</td>\n",
              "      <td>0</td>\n",
              "    </tr>\n",
              "  </tbody>\n",
              "</table>\n",
              "</div>"
            ],
            "text/plain": [
              "                                          clean_text  ... source_user_verified\n",
              "0  url schemes that sileo supports, so you can be...  ...                    0\n",
              "1  rt AT_USER never compare your life to others y...  ...                    0\n",
              "2  sneak attack on skybase:eyes::robot_face: Hash...  ...                    0\n",
              "3  Hashtag apply, online, centers, services, appl...  ...                    0\n",
              "5  rt AT_USER :flexed_biceps_medium-dark_skin_ton...  ...                    0\n",
              "\n",
              "[5 rows x 11 columns]"
            ]
          },
          "metadata": {
            "tags": []
          },
          "execution_count": 504
        }
      ]
    },
    {
      "cell_type": "code",
      "metadata": {
        "id": "4hw1cJ8euCkk",
        "colab_type": "code",
        "colab": {}
      },
      "source": [
        "from sklearn.feature_extraction.text import TfidfVectorizer\n",
        "tfidf = TfidfVectorizer(max_features=5000,stop_words= 'english',ngram_range=(1,2))"
      ],
      "execution_count": 0,
      "outputs": []
    },
    {
      "cell_type": "code",
      "metadata": {
        "id": "xJkj1ZOF9NSx",
        "colab_type": "code",
        "colab": {
          "base_uri": "https://localhost:8080/",
          "height": 34
        },
        "outputId": "358dbd27-2578-4b4d-d58c-51561ca13905"
      },
      "source": [
        "type(train_tfidf[0])"
      ],
      "execution_count": 506,
      "outputs": [
        {
          "output_type": "execute_result",
          "data": {
            "text/plain": [
              "scipy.sparse.csr.csr_matrix"
            ]
          },
          "metadata": {
            "tags": []
          },
          "execution_count": 506
        }
      ]
    },
    {
      "cell_type": "code",
      "metadata": {
        "id": "NHGnvW8q3Jms",
        "colab_type": "code",
        "colab": {}
      },
      "source": [
        "from sklearn.feature_extraction.text import CountVectorizer\n",
        "c_vectorizer= CountVectorizer(max_df=0.90, min_df=2, max_features=1000, stop_words='english')\n"
      ],
      "execution_count": 0,
      "outputs": []
    },
    {
      "cell_type": "code",
      "metadata": {
        "id": "NQZ-9KylvCNu",
        "colab_type": "code",
        "colab": {
          "base_uri": "https://localhost:8080/",
          "height": 34
        },
        "outputId": "ff2ce91c-b06c-4381-d12f-ccd059034f65"
      },
      "source": [
        "train_vect.shape"
      ],
      "execution_count": 508,
      "outputs": [
        {
          "output_type": "execute_result",
          "data": {
            "text/plain": [
              "(7352, 1000)"
            ]
          },
          "metadata": {
            "tags": []
          },
          "execution_count": 508
        }
      ]
    },
    {
      "cell_type": "code",
      "metadata": {
        "id": "CfJQdtYUvJeu",
        "colab_type": "code",
        "colab": {}
      },
      "source": [
        "from sklearn.model_selection import train_test_split\n",
        "x_train,x_val,y_train,y_val=train_test_split(df_new['clean_text'],df_new['label'],test_size=0.2,random_state=9)\n",
        "xtrain_tfidf=tfidf.fit_transform(x_train)\n",
        "xval_tfidf=tfidf.transform(x_val)\n",
        "\n"
      ],
      "execution_count": 0,
      "outputs": []
    },
    {
      "cell_type": "code",
      "metadata": {
        "id": "JKjWpRvj3d3N",
        "colab_type": "code",
        "colab": {}
      },
      "source": [
        "xtrain_cv=c_vectorizer.fit_transform(x_train)\n",
        "xval_cv=c_vectorizer.fit_transform(x_val)"
      ],
      "execution_count": 0,
      "outputs": []
    },
    {
      "cell_type": "code",
      "metadata": {
        "id": "sGzxdVyCz2xg",
        "colab_type": "code",
        "colab": {
          "base_uri": "https://localhost:8080/",
          "height": 51
        },
        "outputId": "20d38162-01ee-4e59-a8ec-23a7cae628c0"
      },
      "source": [
        "print(\"Shape of test data:\", xtrain_tfidf.shape)\n",
        "print(\"Shape of test data:\", xval_tfidf.shape)"
      ],
      "execution_count": 511,
      "outputs": [
        {
          "output_type": "stream",
          "text": [
            "Shape of test data: (5881, 5000)\n",
            "Shape of test data: (1471, 5000)\n"
          ],
          "name": "stdout"
        }
      ]
    },
    {
      "cell_type": "code",
      "metadata": {
        "id": "YAD56OLcz4-u",
        "colab_type": "code",
        "colab": {
          "base_uri": "https://localhost:8080/",
          "height": 156
        },
        "outputId": "459caca3-7091-444d-d20e-24f8bae9c1f7"
      },
      "source": [
        "from sklearn.linear_model import LogisticRegression\n",
        "from sklearn.metrics import accuracy_score,confusion_matrix,f1_score\n",
        "lc=LogisticRegression()\n",
        "lc.fit(xtrain_tfidf,y_train)"
      ],
      "execution_count": 512,
      "outputs": [
        {
          "output_type": "stream",
          "text": [
            "/usr/local/lib/python3.6/dist-packages/sklearn/linear_model/logistic.py:432: FutureWarning: Default solver will be changed to 'lbfgs' in 0.22. Specify a solver to silence this warning.\n",
            "  FutureWarning)\n"
          ],
          "name": "stderr"
        },
        {
          "output_type": "execute_result",
          "data": {
            "text/plain": [
              "LogisticRegression(C=1.0, class_weight=None, dual=False, fit_intercept=True,\n",
              "                   intercept_scaling=1, l1_ratio=None, max_iter=100,\n",
              "                   multi_class='warn', n_jobs=None, penalty='l2',\n",
              "                   random_state=None, solver='warn', tol=0.0001, verbose=0,\n",
              "                   warm_start=False)"
            ]
          },
          "metadata": {
            "tags": []
          },
          "execution_count": 512
        }
      ]
    },
    {
      "cell_type": "code",
      "metadata": {
        "id": "_o__gM-R0iMs",
        "colab_type": "code",
        "colab": {
          "base_uri": "https://localhost:8080/",
          "height": 68
        },
        "outputId": "0d535b57-df7f-49c9-fde4-1b6855b8a963"
      },
      "source": [
        "y_pred=lc.predict(xval_tfidf)\n",
        "def print_score(y_val,y_pred):\n",
        "  print(\"accuracy score:\", accuracy_score(y_val,y_pred))\n",
        "  print(\"confusion matrix:\",confusion_matrix(y_val,y_pred))\n",
        "print_score(y_val,y_pred)"
      ],
      "execution_count": 517,
      "outputs": [
        {
          "output_type": "stream",
          "text": [
            "accuracy score: 0.7919782460910945\n",
            "confusion matrix: [[438 177]\n",
            " [129 727]]\n"
          ],
          "name": "stdout"
        }
      ]
    },
    {
      "cell_type": "code",
      "metadata": {
        "id": "xOT47_Ie0pW0",
        "colab_type": "code",
        "colab": {
          "base_uri": "https://localhost:8080/",
          "height": 68
        },
        "outputId": "cdd5e6ec-c843-4f9e-9b9e-76cfad07dcc5"
      },
      "source": [
        "import xgboost as xgb\n",
        "clf=xgb.XGBClassifier(learning_rate=0.1,n_estimators=200,max_depth=5,min_child_weight=5,gamma=0,subsample=0.8,colsample_bytree=0.8,reg_alpha=0.005,objective='binary:logistic',n_thread=4,scale_pos_weight=1)\n",
        "clf.fit(xtrain_tfidf,y_train)\n",
        "y_pred=clf.predict(xval_tfidf)\n",
        "print_score(y_val,y_pred)"
      ],
      "execution_count": 514,
      "outputs": [
        {
          "output_type": "stream",
          "text": [
            "accuracy score: 0.7627464309993202\n",
            "confusion matrix: [[442 173]\n",
            " [176 680]]\n"
          ],
          "name": "stdout"
        }
      ]
    },
    {
      "cell_type": "code",
      "metadata": {
        "id": "gQ3ZUx9p2XXO",
        "colab_type": "code",
        "colab": {
          "base_uri": "https://localhost:8080/",
          "height": 68
        },
        "outputId": "8c7d2391-90c7-4426-e4d2-6cbe9579c550"
      },
      "source": [
        "from sklearn.tree import DecisionTreeClassifier\n",
        "clf2=DecisionTreeClassifier()\n",
        "clf2.fit(xtrain_tfidf,y_train)\n",
        "y_pred=clf2.predict(xval_tfidf)\n",
        "print_score(y_val,y_pred)"
      ],
      "execution_count": 515,
      "outputs": [
        {
          "output_type": "stream",
          "text": [
            "accuracy score: 0.7539089055064582\n",
            "confusion matrix: [[433 182]\n",
            " [180 676]]\n"
          ],
          "name": "stdout"
        }
      ]
    },
    {
      "cell_type": "code",
      "metadata": {
        "id": "nfPogSd3-Bxk",
        "colab_type": "code",
        "colab": {}
      },
      "source": [
        ""
      ],
      "execution_count": 0,
      "outputs": []
    }
  ]
}